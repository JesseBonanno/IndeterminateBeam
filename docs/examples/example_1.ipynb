{
 "cells": [
  {
   "source": [
    "## 4. STATICALLY INDETERMINATE BEAM (Ex 12.21 Hibbeler)"
   ],
   "cell_type": "markdown",
   "metadata": {}
  },
  {
   "cell_type": "code",
   "execution_count": null,
   "metadata": {},
   "outputs": [],
   "source": [
    "##Initialization - dont touch this section unless you know what you are doing\n",
    "!pip install -q indeterminatebeam\n",
    "%matplotlib inline\n",
    "from indeterminatebeam import Beam, Support, PointLoadV, DistributedLoadV"
   ]
  },
  {
   "cell_type": "code",
   "execution_count": null,
   "metadata": {},
   "outputs": [],
   "source": [
    "## Statically Indeterminate beam (Ex 12.21 Hibbeler)\n",
    "## Determine the reactions at the roller support B of the beam described below: \n",
    "## 3m long, fixed at A (x = 0m), roller support at B (x=3m), vertical point load at midpan of 8kN, UDL of 6kN/m, EI constant.\n",
    "\n",
    "beam = Beam(3)\n",
    "\n",
    "a = Support(0,(1,1,1))  \n",
    "b = Support(3,(0,1,0))\n",
    "\n",
    "load_1 = PointLoadV(-8,1.5)\n",
    "load_2 = DistributedLoadV(-6, (0,3))\n",
    "\n",
    "beam.add_supports(a,b)\n",
    "beam.add_loads(load_1,load_2)\n",
    "\n",
    "beam.analyse()\n",
    "\n",
    "print(f\"The beam has a determinancy of: {beam.check_determinancy()}\")\n",
    "print(f\"The beam has an absolute maximum shear force of: {beam.get_shear_force(return_absmax=True)} kN\")\n",
    "print(f\"The beam has an absolute maximum bending moment of: {beam.get_bending_moment(return_absmax=True)} kN.m\")\n",
    "print(f\"The beam has a vertical reaction at B of: {beam.reactions(3,'y')} kN\")\n",
    "\n",
    "beam.plot(draw_reactions=True)"
   ]
  }
 ],
 "metadata": {
  "kernelspec": {
   "display_name": "Python 3",
   "language": "python",
   "name": "python3"
  },
  "language_info": {
   "codemirror_mode": {
    "name": "ipython",
    "version": 3
   },
   "file_extension": ".py",
   "mimetype": "text/x-python",
   "name": "python",
   "nbconvert_exporter": "python",
   "pygments_lexer": "ipython3",
   "version": "3.7.3-final"
  },
  "toc": {
   "base_numbering": 1,
   "nav_menu": {},
   "number_sections": true,
   "sideBar": true,
   "skip_h1_title": false,
   "title_cell": "Table of Contents",
   "title_sidebar": "Contents",
   "toc_cell": false,
   "toc_position": {},
   "toc_section_display": true,
   "toc_window_display": false
  },
  "varInspector": {
   "cols": {
    "lenName": 16,
    "lenType": 16,
    "lenVar": 40
   },
   "kernels_config": {
    "python": {
     "delete_cmd_postfix": "",
     "delete_cmd_prefix": "del ",
     "library": "var_list.py",
     "varRefreshCmd": "print(var_dic_list())"
    },
    "r": {
     "delete_cmd_postfix": ") ",
     "delete_cmd_prefix": "rm(",
     "library": "var_list.r",
     "varRefreshCmd": "cat(var_dic_list()) "
    }
   },
   "types_to_exclude": [
    "module",
    "function",
    "builtin_function_or_method",
    "instance",
    "_Feature"
   ],
   "window_display": false
  }
 },
 "nbformat": 4,
 "nbformat_minor": 2
}