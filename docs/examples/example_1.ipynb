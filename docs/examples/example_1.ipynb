{
 "metadata": {
  "language_info": {
   "codemirror_mode": {
    "name": "ipython",
    "version": 3
   },
   "file_extension": ".py",
   "mimetype": "text/x-python",
   "name": "python",
   "nbconvert_exporter": "python",
   "pygments_lexer": "ipython3",
   "version": "3.7.3-final"
  },
  "orig_nbformat": 2,
  "kernelspec": {
   "name": "python3",
   "display_name": "Python 3",
   "language": "python"
  }
 },
 "nbformat": 4,
 "nbformat_minor": 2,
 "cells": [
  {
   "cell_type": "code",
   "execution_count": null,
   "metadata": {},
   "outputs": [],
   "source": [
    "##example 4.17 https://engineering.purdue.edu/~ce474/Docs/Beam_Examples02.pdf\n",
    "!pip install -q indeterminatebeam\n",
    "%matplotlib inline\n",
    "from indeterminatebeam import Beam, Support, DistributedLoadH, DistributedLoadV, PointLoadH, PointLoadV, PointTorque, PointLoad\n",
    "\n",
    "beam = Beam(6)\n",
    "\n",
    "a = Support()\n",
    "c = Support(6,(0,1,0))\n",
    "\n",
    "beam.add_supports(a,c)\n",
    "beam.add_loads(PointLoadV(-15,3))\n",
    "\n",
    "beam.analyse()\n",
    "\n",
    "print(beam.check_determinancy())\n",
    "print(beam.get_shear_force(return_absmax=True))\n",
    "print(beam.get_bending_moment(return_absmax=True))\n",
    "\n",
    "fig = beam.plot()\n",
    "fig.savefig(\"./example_1.png\")"
   ]
  }
 ]
}