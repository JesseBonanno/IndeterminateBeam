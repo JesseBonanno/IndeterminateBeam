{
 "metadata": {
  "language_info": {
   "codemirror_mode": {
    "name": "ipython",
    "version": 3
   },
   "file_extension": ".py",
   "mimetype": "text/x-python",
   "name": "python",
   "nbconvert_exporter": "python",
   "pygments_lexer": "ipython3",
   "version": "3.7.3-final"
  },
  "orig_nbformat": 2,
  "kernelspec": {
   "name": "python3",
   "display_name": "Python 3.7.3 64-bit",
   "metadata": {
    "interpreter": {
     "hash": "961eff7faf67ce79553a65a2487d2e108eb15b996265a912167c96f0537f9b25"
    }
   }
  }
 },
 "nbformat": 4,
 "nbformat_minor": 2,
 "cells": [
  {
   "cell_type": "code",
   "execution_count": null,
   "metadata": {},
   "outputs": [],
   "source": [
    "##arbritrary example defined in README.md\n",
    "##Initialization - dont touch this section unless you know what you are doing\n",
    "!pip install -q indeterminatebeam\n",
    "%matplotlib inline\n",
    "from indeterminatebeam import Beam, Support, PointLoadV, PointTorque, DistributedLoadV"
   ]
  },
  {
   "cell_type": "code",
   "execution_count": null,
   "metadata": {},
   "outputs": [],
   "source": [
    "beam = Beam(7)                          # Initialize a Beam object of length 9m with E and I as defaults\n",
    "beam_2 = Beam(9,E=2000, I =100000) "
   ]
  },
  {
   "cell_type": "code",
   "execution_count": null,
   "metadata": {},
   "outputs": [],
   "source": [
    "a = Support(5,(1,1,0))                  # Defines a pin support at location x = 5m  \n",
    "b = Support(0,(0,1,0))                  # Defines a roller support at location x = 0m\n",
    "c = Support(7,(1,1,1))\n",
    "beam.add_supports(a,b,c)    "
   ]
  },
  {
   "cell_type": "code",
   "execution_count": null,
   "metadata": {},
   "outputs": [],
   "source": [
    "load_1 = PointLoadV(1,2)                # Defines a point load of 1kn acting up, at location x = 2m\n",
    "load_2 = DistributedLoadV(2,(1,4))      # Defines a 2kN UDL from location x = 1m to x = 4m \n",
    "load_3 = PointTorque(2, 3.5)              # Defines a 2kN.m point torque at location x = 3.5m\n",
    "beam.add_loads(load_1,load_2,load_3)           # Assign the support objects to a beam object created earlier"
   ]
  },
  {
   "cell_type": "code",
   "execution_count": null,
   "metadata": {},
   "outputs": [],
   "source": [
    "beam.analyse()"
   ]
  },
  {
   "cell_type": "code",
   "execution_count": null,
   "metadata": {},
   "outputs": [],
   "source": [
    "fig = beam.plot()\n",
    "#fig.savefig(\"./readme_example.png\")"
   ]
  }
 ]
}