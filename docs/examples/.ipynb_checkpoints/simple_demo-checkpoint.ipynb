{
 "cells": [
  {
   "cell_type": "code",
   "execution_count": null,
   "metadata": {
    "ExecuteTime": {
     "end_time": "2018-08-02T13:35:01.752519Z",
     "start_time": "2018-08-02T13:35:01.747883Z"
    }
   },
   "outputs": [],
   "source": [
    "# Indeterminate Beam calculator\n",
    "\n",
    "### Table of Contents\n",
    "1. Initialisation\n",
    "2. Basic usage (Readme example)\n",
    "    - 2(b). Additional features (Readme example)\n",
    "    - 2(c). Changing units (Readme example)\n",
    "3. Support class breakdown\n",
    "4. Load classes breakdown\n",
    "5. Statically determinate beam (Ex 12.14 Hibbeler)\n",
    "6. Statically Indeterminate beam (Ex 12.21 Hibbeler)\n",
    "7. Spring supported beam deflection (Ex 12.16 Hibbeler)\n",
    "8. Axial Loaded Indeterminate Beam (Ex 4.13 Hibbeler)\n",
    "\n",
    "Note:\n",
    "You must always run the initialization cell first. \n",
    "Then you are free to move to any of the other sections as per the table of contents."
   ]
  },
  {
   "cell_type": "markdown",
   "metadata": {},
   "source": [
    " ## 1. INITIALIZATION\n"
   ]
  },
  {
   "cell_type": "code",
   "execution_count": null,
   "metadata": {},
   "outputs": [],
   "source": [
    "# RUN THIS CELL FIRST TO INITIALISE GOOGLE NOTEBOOK!!!!\n",
    "!pip install indeterminatebeam\n",
    "%matplotlib inline\n",
    "\n",
    "# import beam and supports\n",
    "from indeterminatebeam import Beam, Support\n",
    "\n",
    "# import loads (all load types imported for reference)\n",
    "from indeterminatebeam import (\n",
    "    PointTorque,\n",
    "    PointLoad,\n",
    "    PointLoadV,\n",
    "    PointLoadH,\n",
    "    UDL,\n",
    "    UDLV,\n",
    "    UDLH,\n",
    "    TrapezoidalLoad,\n",
    "    TrapezoidalLoadV,\n",
    "    TrapezoidalLoadH,\n",
    "    DistributedLoad,\n",
    "    DistributedLoadV,\n",
    "    DistributedLoadH\n",
    ")\n",
    "\n",
    "# Note: load ending in V are vertical loads\n",
    "# load ending in H are horizontal loads\n",
    "# load not ending in either takes angle as an input (except torque)\n"
   ]
  },
  {
   "cell_type": "code",
   "execution_count": null,
   "metadata": {},
   "outputs": [],
   "source": [
    "# NOT FOR USE ONLINE.\n",
    "# Use this instead for initialization if running directly from package folder,\n",
    "import sys, os\n",
    "sys.path.insert(0, os.path.abspath('../../'))\n",
    "\n",
    "# import beam and supports\n",
    "from indeterminatebeam import Beam, Support\n",
    "\n",
    "# import loads (all load types imported for reference)\n",
    "from indeterminatebeam.loading import (\n",
    "    PointTorque,\n",
    "    PointLoad,\n",
    "    PointLoadV,\n",
    "    PointLoadH,\n",
    "    UDL,\n",
    "    UDLV,\n",
    "    UDLH,\n",
    "    TrapezoidalLoad,\n",
    "    TrapezoidalLoadV,\n",
    "    TrapezoidalLoadH,\n",
    "    DistributedLoad,\n",
    "    DistributedLoadV,\n",
    "    DistributedLoadH\n",
    ")\n",
    "\n",
    "# Note: load ending in V are vertical loads\n",
    "# load ending in H are horizontal loads\n",
    "# load not ending in either takes angle as an input (except torque)\n"
   ]
  },
  {
   "cell_type": "markdown",
   "metadata": {},
   "source": [
    "## 2. Basic Usage (Readme example)"
   ]
  },
  {
   "cell_type": "code",
   "execution_count": null,
   "metadata": {},
   "outputs": [],
   "source": [
    "# Arbritrary example defined in README.md\n",
    "beam = Beam(7)                          # Initialize a Beam object of length 7 m with E and I as defaults\n",
    "beam_2 = Beam(9,E=2000, I =100000)      # Initialize a Beam specifying some beam parameters\n",
    "\n",
    "a = Support(5,(1,1,0))                  # Defines a pin support at location x = 5 m  \n",
    "b = Support(0,(0,1,0))                  # Defines a roller support at location x = 0 m\n",
    "c = Support(7,(1,1,1))                  # Defines a fixed support at location x = 7 m\n",
    "beam.add_supports(a,b,c)    \n",
    "\n",
    "load_1 = PointLoadV(1000,2)                # Defines a point load of 1000 N acting up, at location x = 2 m\n",
    "load_2 = DistributedLoadV(2000,(1,4))      # Defines a 2000 N/m UDL from location x = 1 m to x = 4 m \n",
    "load_3 = PointTorque(2*10**3, 3.5)            # Defines a 2*10**3 N.m point torque at location x = 3.5 m\n",
    "beam.add_loads(load_1,load_2,load_3)    # Assign the support objects to a beam object created earlier\n",
    "\n",
    "beam.analyse()\n",
    "\n",
    "fig_1 = beam.plot_beam_external()\n",
    "fig_1.show()\n",
    "\n",
    "fig_2 = beam.plot_beam_internal()\n",
    "fig_2.show()\n",
    "\n",
    "# save the results (optional)\n",
    "# Can save figure using ``fig.write_image(\"./results.pdf\")`` (can change extension to be\n",
    "# png, jpg, svg or other formats as reired). Requires pip install -U kaleido\n",
    "\n",
    "# fig_1.write_image(\"./readme_example_diagram.png\")\n",
    "# fig_2.write_image(\"./readme_example_internal.png\")"
   ]
  },
  {
   "cell_type": "markdown",
   "metadata": {},
   "source": [
    "## 2(b). Additional Features (Readme example)"
   ]
  },
  {
   "cell_type": "code",
   "execution_count": null,
   "metadata": {
    "ExecuteTime": {
     "end_time": "2019-05-08T12:22:38.894727Z",
     "start_time": "2019-05-08T12:22:37.765381Z"
    }
   },
   "outputs": [],
   "source": [
    "# Run section 2 (prior to running this example)   \n",
    "\n",
    "# query for the data at a specfic point (note units are not provided)\n",
    "print(\"bending moments at 3 m: \" + str(beam.get_bending_moment(3)))\n",
    "print(\"shear forces at 1,2,3,4,5m points: \" + str(beam.get_shear_force(1,2,3,4,5)))\n",
    "print(\"normal force absolute max: \" + str(beam.get_normal_force(return_absmax=True)))\n",
    "print(\"deflection max: \" + str(beam.get_deflection(return_max = True)))   \n",
    "\n",
    "##add a query point to a plot (adds values on plot)\n",
    "beam.add_query_points(1,3,5)\n",
    "beam.remove_query_points(5)\n",
    "\n",
    "## plot the results for the beam\n",
    "fig = beam.plot_beam_internal()\n",
    "fig.show()"
   ]
  },
  {
   "cell_type": "markdown",
   "metadata": {},
   "source": [
    "## 2(c). Changing units (Readme example)"
   ]
  },
  {
   "cell_type": "code",
   "execution_count": null,
   "metadata": {},
   "outputs": [],
   "source": [
    "# Readme example as a demonstration for changing units\n",
    "# used and presented in following example. Note that\n",
    "# the example is conceptually identical only with \n",
    "# different units.\n",
    "\n",
    "# update units usings the update_units() function.\n",
    "# use the command below for more information.\n",
    "# help(beam.update_units)\n",
    "\n",
    "# note: initialising beam with the anticipation that units will be updated\n",
    "beam = Beam(7000, E = 200 * 10 **6, I = 9.05 * 10 **6)\n",
    "\n",
    "beam.update_units(key='length', unit='mm')\n",
    "beam.update_units('force', 'kN')\n",
    "beam.update_units('distributed', 'kN/m')\n",
    "beam.update_units('moment', 'kN.m')\n",
    "beam.update_units('E', 'kPa')\n",
    "beam.update_units('I', 'mm4')\n",
    "beam.update_units('deflection', 'mm')\n",
    "\n",
    "a = Support(5000,(1,1,0))               # Defines a pin support at location x = 5 m (x = 5000 mm)\n",
    "b = Support(0,(0,1,0))                  # Defines a roller support at location x = 0 m\n",
    "c = Support(7000,(1,1,1))               # Defines a fixed support at location x = 7 m (x = 7000 mm)\n",
    "beam.add_supports(a,b,c)    \n",
    "\n",
    "load_1 = PointLoadV(1,2000)             # Defines a point load of 1000 N (1 kN) acting up, at location x = 2 m\n",
    "load_2 = DistributedLoadV(2,(1000,4000))      # Defines a 2000 N/m (2 kN/m) UDL from location x = 1 m to x = 4 m \n",
    "load_3 = PointTorque(2, 3500)           # Defines a 2*10**3 N.m (2 kN.m) point torque at location x = 3.5 m\n",
    "beam.add_loads(load_1,load_2,load_3)    # Assign the support objects to a beam object created earlier\n",
    "\n",
    "beam.analyse()\n",
    "fig_1 = beam.plot_beam_external()\n",
    "fig_1.show()\n",
    "\n",
    "fig_2 = beam.plot_beam_internal()\n",
    "fig_2.show()"
   ]
  },
  {
   "cell_type": "markdown",
   "metadata": {},
   "source": [
    "## 3. Support class breakdown"
   ]
  },
  {
   "cell_type": "code",
   "execution_count": null,
   "metadata": {},
   "outputs": [],
   "source": [
    "# The parameters for a support class are as below, taken from the docstring\n",
    "# for the Support class __init__ method.\n",
    "\n",
    "# Parameters:\n",
    "#         -----------\n",
    "#         coord: float\n",
    "#             x coordinate of support on a beam in m (default 0)\n",
    "#         fixed: tuple of 3 booleans\n",
    "#             Degrees of freedom that are fixed on a beam for movement in\n",
    "#             x, y and bending, 1 represents fixed and 0 represents free\n",
    "#             (default (1,1,1))\n",
    "#         kx :\n",
    "#             stiffness of x support (N/m), if set will overide the\n",
    "#             value placed in the fixed tuple. (default = None)\n",
    "#         ky : (positive number)\n",
    "#             stiffness of y support (N/m), if set will overide the\n",
    "#             value placed in the fixed tuple. (default = None)\n",
    "\n",
    "\n",
    "# Lets define every possible degree of freedom combination for\n",
    "# supports below, and view them on a plot:\n",
    "support_0 = Support(0, (1,1,1))     # conventional fixed support\n",
    "support_1 = Support(1, (1,1,0))     # conventional pin support\n",
    "support_2 = Support(2, (1,0,1))     \n",
    "support_3 = Support(3, (0,1,1))\n",
    "support_4 = Support(4, (0,0,1))\n",
    "support_5 = Support(5, (0,1,0))     # conventional roller support\n",
    "support_6 = Support(6, (1,0,0))\n",
    "\n",
    "# Note we could also explicitly define parameters as follows:\n",
    "support_0 = Support(coord=0, fixed=(1,1,1))\n",
    "\n",
    "# Now lets define some spring supports\n",
    "support_7 = Support(7, (0,0,0), kx = 10)    #spring in x direction only\n",
    "support_8 = Support(8, (0,0,0), ky = 5)     # spring in y direction only\n",
    "support_9 = Support(9, (0,0,0), kx = 100, ky = 100)     # spring in x and y direction\n",
    "\n",
    "# Now lets define a support which is fixed in one degree of freedom\n",
    "# but has a spring stiffness in another degree of freedom\n",
    "support_10 = Support(10, (0,1,0), kx = 10) #spring in x direction, fixed in y direction\n",
    "support_11 = Support(11, (0,1,1), kx = 10) #spring in x direction, fixed in y and m direction\n",
    "\n",
    "# Note we could also do the following for the same result since the spring\n",
    "# stiffness overides the fixed boolean in respective directions\n",
    "support_10 = Support(10, (1,1,0), kx =10)\n",
    "\n",
    "# Now lets plot all the supports we have created\n",
    "beam = Beam(11)\n",
    "\n",
    "beam.add_supports(\n",
    "    support_0,\n",
    "    support_1,\n",
    "    support_2,\n",
    "    support_3,\n",
    "    support_4,\n",
    "    support_5,\n",
    "    support_6,\n",
    "    support_7,\n",
    "    support_8,\n",
    "    support_9,\n",
    "    support_10,\n",
    "    support_11,\n",
    ")\n",
    "\n",
    "fig = beam.plot_beam_diagram()\n",
    "fig.show()"
   ]
  },
  {
   "cell_type": "markdown",
   "metadata": {},
   "source": [
    "## 4. Load classes breakdown"
   ]
  },
  {
   "cell_type": "markdown",
   "metadata": {},
   "source": [
    "### 4.1 Point Torque"
   ]
  },
  {
   "cell_type": "code",
   "execution_count": null,
   "metadata": {},
   "outputs": [],
   "source": [
    "# defined using a force (technically a moment, however force is used to maintain consistenct for all load classes) and a coordinate. An anti-clockwise moment is positive by convention of this package.\n",
    "load_1 = PointTorque(force=1000, coord=1)\n",
    "load_2 = PointTorque(force=-1000, coord=2)\n",
    "\n",
    "# Plotting the loads\n",
    "beam = Beam(3)\n",
    "beam.add_loads(\n",
    "    load_1,\n",
    "    load_2\n",
    ")\n",
    "\n",
    "fig = beam.plot_beam_diagram()\n",
    "fig.show()"
   ]
  },
  {
   "cell_type": "markdown",
   "metadata": {},
   "source": [
    "### 4.2 Point Load"
   ]
  },
  {
   "cell_type": "code",
   "execution_count": null,
   "metadata": {},
   "outputs": [],
   "source": [
    "# defined by force, coord and angle (0)\n",
    "load_1 = PointLoad(force=1000, coord=1, angle=0)\n",
    "load_2 = PointLoad(force=1000, coord=2, angle=45)\n",
    "load_3 = PointLoad(force=1000, coord=3, angle=90)\n",
    "\n",
    "# Plotting the loads\n",
    "beam = Beam(4)\n",
    "beam.add_loads(\n",
    "    load_1,\n",
    "    load_2,\n",
    "    load_3\n",
    ")\n",
    "\n",
    "fig = beam.plot_beam_diagram()\n",
    "fig.show()"
   ]
  },
  {
   "cell_type": "markdown",
   "metadata": {},
   "source": [
    "### 4.3 Uniformly Distributed Load (UDL)"
   ]
  },
  {
   "cell_type": "code",
   "execution_count": null,
   "metadata": {},
   "outputs": [],
   "source": [
    "# defined by force, span (tuple with start and end point) \n",
    "# and angle of force\n",
    "load_1 = UDL(force=1000, span=(1,2), angle = 0)\n",
    "load_2 = UDL(force=1000, span=(3,4), angle = 45)\n",
    "load_3 = UDL(force=1000, span=(5,6), angle = 90)\n",
    "\n",
    "# Plotting the loads\n",
    "beam = Beam(7)\n",
    "beam.add_loads(\n",
    "    load_1,\n",
    "    load_2,\n",
    "    load_3\n",
    ")\n",
    "\n",
    "fig = beam.plot_beam_diagram()\n",
    "fig.show()"
   ]
  },
  {
   "cell_type": "markdown",
   "metadata": {},
   "source": [
    "### 4.4 Trapezoidal Load"
   ]
  },
  {
   "cell_type": "code",
   "execution_count": null,
   "metadata": {},
   "outputs": [],
   "source": [
    "# defined by force (tuple with start and end force), \n",
    "# span (tuple with start and end point) and angle of force\n",
    "load_1 = TrapezoidalLoad(force=(1000,2000), span=(1,2), angle = 0)\n",
    "load_2 = TrapezoidalLoad(force=(-1000,-2000), span=(3,4), angle = 45)\n",
    "load_3 = TrapezoidalLoad(force=(-1000,2000), span=(5,6), angle = 90)\n",
    "\n",
    "# Plotting the loads\n",
    "beam = Beam(7)\n",
    "beam.add_loads(\n",
    "    load_1,\n",
    "    load_2,\n",
    "    load_3\n",
    ")\n",
    "\n",
    "fig = beam.plot_beam_diagram()\n",
    "fig.show()"
   ]
  },
  {
   "cell_type": "markdown",
   "metadata": {},
   "source": [
    "### 4.5 Distributed Load"
   ]
  },
  {
   "cell_type": "code",
   "execution_count": null,
   "metadata": {},
   "outputs": [],
   "source": [
    "# defined with Sympy expression of the distributed load function \n",
    "# expressed using variable x which represents the beam x-coordinate. \n",
    "# Requires quotation marks around expression. As with the UDL and \n",
    "# Trapezoidal load classes other parameters to express are the span \n",
    "# (tuple with start and end point) and angle of force.\n",
    "# NOTE: where UDL or Trapezoidal load classes can be spefied (linear functions)\n",
    "# they should be used for quicker analysis times.\n",
    "\n",
    "load_1 = DistributedLoad(expr= \"2\", span=(1,2), angle = 0)\n",
    "load_2 = DistributedLoad(expr= \"2*(x-6)**2 -5\", span=(3,4), angle = 45)\n",
    "load_3 = DistributedLoad(expr= \"cos(5*x)\", span=(5,6), angle = 90)\n",
    "\n",
    "# Plotting the loads\n",
    "beam = Beam(7)\n",
    "beam.add_loads(\n",
    "    load_1,\n",
    "    load_2,\n",
    "    load_3\n",
    ")\n",
    "\n",
    "fig = beam.plot_beam_diagram()\n",
    "fig.show()"
   ]
  },
  {
   "cell_type": "markdown",
   "metadata": {},
   "source": [
    "### 4.6 Vertical and Horizontal load child classes"
   ]
  },
  {
   "cell_type": "code",
   "execution_count": null,
   "metadata": {},
   "outputs": [],
   "source": [
    "# for all loads except the point torque an angle is specified for the\n",
    "# direction of the load. If the load to be specified is to be completely\n",
    "# vertical or completely horizontal a V (vertical) or a H (horizontal)\n",
    "# can be added at the end of the class name, and the angle does then\n",
    "# not need to be spefied.\n",
    "\n",
    "# The following two loads are equivalent horizontal loads\n",
    "load_1 = PointLoad(force=1000, coord=1, angle = 0)\n",
    "load_2 = PointLoadH(force=1000, coord=2)\n",
    "\n",
    "# The following two loads are equivalent vertical loads\n",
    "load_3 = PointLoad(force=1000, coord=3, angle = 90)\n",
    "load_4 = PointLoadV(force=1000, coord=4)\n",
    "\n",
    "# The following two loads are also equivalent (a negative sign\n",
    "# esentially changes the load direction by 180 degrees).\n",
    "load_5 = PointLoad(force=1000, coord=5, angle = 0)\n",
    "load_6 = PointLoad(force=-1000, coord=6, angle = 180)\n",
    "\n",
    "\n",
    "# Plotting the loads\n",
    "beam = Beam(7)\n",
    "beam.add_loads(\n",
    "    load_1,\n",
    "    load_2,\n",
    "    load_3,\n",
    "    load_4,\n",
    "    load_5,\n",
    "    load_6\n",
    ")\n",
    "\n",
    "fig = beam.plot_beam_diagram()\n",
    "fig.show()"
   ]
  },
  {
   "cell_type": "markdown",
   "metadata": {},
   "source": [
    "## 5. STATICALLY DETERMINATE BEAM (Ex 12.14 Hibbeler)"
   ]
  },
  {
   "cell_type": "code",
   "execution_count": null,
   "metadata": {},
   "outputs": [],
   "source": [
    "# Statically Determinate beam (Ex 12.14 Hibbeler)\n",
    "# Determine the displacement at x = 8m for the following structure\n",
    "# 8 m long fixed at A (x = 0m)\n",
    "# A trapezoidal load of - 4000 N/m at x = 0 m descending to 0 N/m at x = 6 m.\n",
    "\n",
    "beam = Beam(8, E=1, I = 1)     ##EI Defined to be 1 get the deflection as a function of EI\n",
    "\n",
    "a = Support(0, (1,1,1))             ##explicitly stated although this is equivalent to Support() as the defaults are for a cantilever on the left of the beam.\n",
    "\n",
    "load_1 = TrapezoidalLoadV((-4000,0),(0,6))\n",
    "\n",
    "beam.add_supports(a)\n",
    "beam.add_loads(load_1)\n",
    "\n",
    "beam.analyse()\n",
    "print(f\"Deflection is {beam.get_deflection(8)} N.m3 / EI (N.mm2)\")\n",
    "\n",
    "fig = beam.plot_beam_internal()\n",
    "fig.show()\n",
    "# Note: all plots are correct, deflection graph shape is correct but for actual deflection values will need real EI properties.\n",
    "\n",
    "##save the results as a pdf (optional)\n",
    "# Can save figure using `fig.write_image(\"./results.pdf\")` (can change extension to be\n",
    "# png, jpg, svg or other formats as reired). Requires pip install -U kaleido\n"
   ]
  },
  {
   "cell_type": "markdown",
   "metadata": {},
   "source": [
    "## 6. STATICALLY INDETERMINATE BEAM (Ex 12.21 Hibbeler)"
   ]
  },
  {
   "cell_type": "code",
   "execution_count": null,
   "metadata": {},
   "outputs": [],
   "source": [
    "# Statically Indeterminate beam (Ex 12.21 Hibbeler)\n",
    "# Determine the reactions at the roller support B of the beam described below: \n",
    "# 3 m long, fixed at A (x = 0 m), roller support at B (x=3 m), \n",
    "# vertical point load at midpan of 8000 N, UDL of 6000 N/m, EI constant.\n",
    "\n",
    "beam = Beam(3)\n",
    "\n",
    "a = Support(0,(1,1,1))  \n",
    "b = Support(3,(0,1,0))\n",
    "\n",
    "load_1 = PointLoadV(-8000,1.5)\n",
    "load_2 = UDLV(-6000, (0,3))\n",
    "\n",
    "beam.add_supports(a,b)\n",
    "beam.add_loads(load_1,load_2)\n",
    "\n",
    "beam.analyse()\n",
    "\n",
    "print(f\"The beam has an absolute maximum shear force of: {beam.get_shear_force(return_absmax=True)} N\")\n",
    "print(f\"The beam has an absolute maximum bending moment of: {beam.get_bending_moment(return_absmax=True)} N.mm\")\n",
    "print(f\"The beam has a vertical reaction at B of: {beam.get_reaction(3,'y')} N\")\n",
    "\n",
    "fig1 = beam.plot_beam_external()  \n",
    "fig1.show()\n",
    "\n",
    "fig2 = beam.plot_beam_internal()  \n",
    "fig2.show()\n",
    "\n",
    "# fig1.write_image(\"./example_1_external.png\")\n",
    "# fig2.write_image(\"./example_1_internal.png\")\n",
    "\n",
    "\n"
   ]
  },
  {
   "cell_type": "markdown",
   "metadata": {},
   "source": [
    "## 7. SPRING SUPPORTED BEAM (Ex 12.16 Hibbeler)"
   ]
  },
  {
   "cell_type": "code",
   "execution_count": null,
   "metadata": {},
   "outputs": [],
   "source": [
    "# Spring Supported beam (Ex 12.16 Hibbeler)\n",
    "# Determine the vertical displacement at x = 1 m for the beam detailed below:\n",
    "# 3 m long, spring of ky = 45 kN/m at A (x = 0 m) and B (x = 3 m), vertical point load at x = 1 m of 3000 N, E = 200 GPa, I = 4.6875*10**-6 m4.\n",
    "\n",
    "# when initializing beam we should specify E and I. Units should be expressed in MPa (N/mm2) for E, and mm4 for I\n",
    "beam = Beam(3, E=(200)*10**3, I=(4.6875*10**-6)*10**12)\n",
    "\n",
    "# creating supports, note that an x support must be specified even when there are no x forces. This will not affect the accuracy or reliability of results.\n",
    "# Also note that ky units are kN/m in the problem but must be in N/m for the program to work correctly.\n",
    "a = Support(0, (1,1,0), ky = 45000)   \n",
    "b = Support(3, (0,1,0), ky = 45000)\n",
    "\n",
    "load_1 = PointLoadV(-3000, 1)\n",
    "\n",
    "beam.add_supports(a,b)\n",
    "beam.add_loads(load_1)\n",
    "\n",
    "beam.analyse()\n",
    "\n",
    "beam.get_deflection(1)\n",
    "\n",
    "fig1 = beam.plot_beam_external()  \n",
    "fig1.show()\n",
    "\n",
    "fig2 = beam.plot_beam_internal()  \n",
    "fig2.show()\n",
    "\n",
    "##results in 38.46 mm deflection ~= 38.4mm specified in textbook (difference only due to their rounding)\n",
    "##can easily check reliability of answer by looking at deflection at the spring supports. Should equal F/k.\n",
    "## ie at support A (x = 0 m), the reaction force is 2kN by equilibrium, so our deflection is F/K = 2kn / 45*10-3 kN/mm = 44.4 mm (can be seen in plot)"
   ]
  },
  {
   "cell_type": "markdown",
   "metadata": {},
   "source": [
    "## 8. AXIAL LOADED INDETERMINATE BEAM (Ex 4.13 Hibbeler)"
   ]
  },
  {
   "cell_type": "code",
   "execution_count": null,
   "metadata": {},
   "outputs": [],
   "source": [
    "##AXIAL LOADED INDETERMINATE BEAM (Ex 4.13 Hibbeler)\n",
    "## A rod with constant EA has a force of 60kN applied at x = 0.1 m, and the beam has fixed supports at x=0, and x =0.4 m. Determine the reaction forces.\n",
    "\n",
    "beam = Beam(0.4)\n",
    "\n",
    "a = Support()\n",
    "b = Support(0.4)\n",
    "\n",
    "load_1 = PointLoadH(-60000, 0.1)\n",
    "\n",
    "beam.add_supports(a,b)\n",
    "beam.add_loads(load_1)\n",
    "\n",
    "beam.analyse()\n",
    "beam.plot_normal_force()\n"
   ]
  }
 ],
 "metadata": {
  "kernelspec": {
   "display_name": "Python 3",
   "language": "python",
   "name": "python3"
  },
  "language_info": {
   "codemirror_mode": {
    "name": "ipython",
    "version": 3
   },
   "file_extension": ".py",
   "mimetype": "text/x-python",
   "name": "python",
   "nbconvert_exporter": "python",
   "pygments_lexer": "ipython3",
   "version": "3.7.3"
  },
  "toc": {
   "base_numbering": 1,
   "nav_menu": {},
   "number_sections": true,
   "sideBar": true,
   "skip_h1_title": false,
   "title_cell": "Table of Contents",
   "title_sidebar": "Contents",
   "toc_cell": false,
   "toc_position": {},
   "toc_section_display": true,
   "toc_window_display": false
  },
  "varInspector": {
   "cols": {
    "lenName": 16,
    "lenType": 16,
    "lenVar": 40
   },
   "kernels_config": {
    "python": {
     "delete_cmd_postfix": "",
     "delete_cmd_prefix": "del ",
     "library": "var_list.py",
     "varRefreshCmd": "print(var_dic_list())"
    },
    "r": {
     "delete_cmd_postfix": ") ",
     "delete_cmd_prefix": "rm(",
     "library": "var_list.r",
     "varRefreshCmd": "cat(var_dic_list()) "
    }
   },
   "types_to_exclude": [
    "module",
    "function",
    "builtin_function_or_method",
    "instance",
    "_Feature"
   ],
   "window_display": false
  }
 },
 "nbformat": 4,
 "nbformat_minor": 2
}
