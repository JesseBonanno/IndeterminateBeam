{
 "cells": [
  {
   "source": [
    "# Indeterminate Beam calculator\n",
    "\n",
    "### Table of Contents\n",
    "1. Initialisation\n",
    "2. Basic usage (Readme example)\n",
    "    - 2(b). Additional features (Readme example)\n",
    "3. Support class breakdown\n",
    "4. Load classes breakdown\n",
    "5. Statically determinate beam (Ex 12.14 Hibbeler)\n",
    "6. Statically Indeterminate beam (Ex 12.21 Hibbeler)\n",
    "7. Spring supported beam deflection (Ex 12.16 Hibbeler)\n",
    "8. Axial Loaded Indeterminate Beam (Ex 4.13 Hibbeler)\n",
    "\n",
    "Note:\n",
    "You must always run the initialization cell first. \n",
    "Then you are free to move to any of the other sections as per the table of contents."
   ],
   "cell_type": "markdown",
   "metadata": {
    "ExecuteTime": {
     "end_time": "2018-08-02T13:35:01.752519Z",
     "start_time": "2018-08-02T13:35:01.747883Z"
    }
   }
  },
  {
   "source": [
    " ## 1. INITIALIZATION\n"
   ],
   "cell_type": "markdown",
   "metadata": {}
  },
  {
   "cell_type": "code",
   "execution_count": null,
   "metadata": {},
   "outputs": [],
   "source": [
    "# RUN THIS CELL FIRST TO INITIALISE GOOGLE NOTEBOOK!!!!\n",
    "!pip install indeterminatebeam\n",
    "%matplotlib inline\n",
    "\n",
    "# import beam and supports\n",
    "from indeterminatebeam import Beam, Support\n",
    "\n",
    "# import loads (all load types imported for reference)\n",
    "from indeterminatebeam import (\n",
    "    PointTorque,\n",
    "    PointLoad,\n",
    "    PointLoadV,\n",
    "    PointLoadH,\n",
    "    UDL,\n",
    "    UDLV,\n",
    "    UDLH,\n",
    "    TrapezoidalLoad,\n",
    "    TrapezoidalLoadV,\n",
    "    TrapezoidalLoadH,\n",
    "    DistributedLoad,\n",
    "    DistributedLoadV,\n",
    "    DistributedLoadH\n",
    ")\n",
    "\n",
    "# Note: load ending in V are vertical loads\n",
    "# load ending in H are horizontal loads\n",
    "# load not ending in either takes angle as an input (except torque)\n"
   ]
  },
  {
   "cell_type": "code",
   "execution_count": 1,
   "metadata": {},
   "outputs": [],
   "source": [
    "# NOT FOR USE ONLINE.\n",
    "# Use this instead for initialization if running directly from package folder,\n",
    "import sys, os\n",
    "sys.path.insert(0, os.path.abspath('../../'))\n",
    "\n",
    "# import beam and supports\n",
    "from indeterminatebeam import Beam, Support\n",
    "\n",
    "# import loads (all load types imported for reference)\n",
    "from indeterminatebeam.loading import (\n",
    "    PointTorque,\n",
    "    PointLoad,\n",
    "    PointLoadV,\n",
    "    PointLoadH,\n",
    "    UDL,\n",
    "    UDLV,\n",
    "    UDLH,\n",
    "    TrapezoidalLoad,\n",
    "    TrapezoidalLoadV,\n",
    "    TrapezoidalLoadH,\n",
    "    DistributedLoad,\n",
    "    DistributedLoadV,\n",
    "    DistributedLoadH\n",
    ")\n",
    "\n",
    "# Note: load ending in V are vertical loads\n",
    "# load ending in H are horizontal loads\n",
    "# load not ending in either takes angle as an input (except torque)\n"
   ]
  },
  {
   "source": [
    "## 2. Basic Usage (Readme example)"
   ],
   "cell_type": "markdown",
   "metadata": {}
  },
  {
   "cell_type": "code",
   "execution_count": 2,
   "metadata": {},
   "outputs": [
    {
     "output_type": "display_data",
     "data": {
      "application/vnd.plotly.v1+json": {
       "config": {
        "plotlyServerURL": "https://plot.ly"
       },
       "data": [
        {
         "hoverinfo": "skip",
         "hovertemplate": "%{x} m",
         "line": {
          "color": "purple",
          "width": 2
         },
         "mode": "lines",
         "name": "Beam_",
         "type": "scatter",
         "x": [
          0,
          7
         ],
         "xaxis": "x",
         "y": [
          0,
          0
         ],
         "yaxis": "y"
        },
        {
         "hoverinfo": "skip",
         "hovertemplate": "x: %{x} m<br>Fixed: %{meta[0]}",
         "marker": {
          "color": "blue",
          "size": 10,
          "symbol": "triangle-up"
         },
         "meta": [
          "[0, 1, 0]"
         ],
         "mode": "markers",
         "name": "Support",
         "opacity": 0,
         "showlegend": false,
         "type": "scatter",
         "x": [
          0
         ],
         "xaxis": "x",
         "y": [
          0
         ],
         "yaxis": "y"
        },
        {
         "fill": "toself",
         "hoverinfo": "skip",
         "marker": {
          "color": "blue",
          "size": 10,
          "symbol": "arrow-up"
         },
         "mode": "markers",
         "name": "Support",
         "showlegend": false,
         "type": "scatter",
         "x": [
          0
         ],
         "xaxis": "x",
         "y": [
          0
         ],
         "yaxis": "y"
        },
        {
         "hoverinfo": "skip",
         "hovertemplate": "x: %{x} m<br>Fixed: %{meta[0]}",
         "marker": {
          "color": "blue",
          "size": 10,
          "symbol": "triangle-up"
         },
         "meta": [
          "[1, 1, 0]"
         ],
         "mode": "markers",
         "name": "Support",
         "opacity": 0,
         "showlegend": false,
         "type": "scatter",
         "x": [
          5
         ],
         "xaxis": "x",
         "y": [
          0
         ],
         "yaxis": "y"
        },
        {
         "fill": "toself",
         "hoverinfo": "skip",
         "marker": {
          "color": "blue",
          "size": 10,
          "symbol": "arrow-up"
         },
         "mode": "markers",
         "name": "Support",
         "showlegend": false,
         "type": "scatter",
         "x": [
          5
         ],
         "xaxis": "x",
         "y": [
          0
         ],
         "yaxis": "y"
        },
        {
         "hoverinfo": "skip",
         "hovertemplate": "x: %{x} m<br>Fixed: %{meta[0]}",
         "marker": {
          "color": "blue",
          "size": 10,
          "symbol": "triangle-up"
         },
         "meta": [
          "[1, 1, 1]"
         ],
         "mode": "markers",
         "name": "Support",
         "opacity": 0,
         "showlegend": false,
         "type": "scatter",
         "x": [
          7
         ],
         "xaxis": "x",
         "y": [
          0
         ],
         "yaxis": "y"
        },
        {
         "hoverinfo": "skip",
         "hovertemplate": "x: %{meta[1]} m<br>Force: %{meta[0]} kN            <br>Angle: %{meta[2]} deg",
         "marker": {
          "color": "red",
          "size": 10,
          "symbol": "triangle-up"
         },
         "meta": [
          1,
          2,
          90
         ],
         "mode": "markers",
         "name": "Point<br>Load",
         "opacity": 0,
         "showlegend": false,
         "type": "scatter",
         "x": [
          2
         ],
         "xaxis": "x",
         "y": [
          0
         ],
         "yaxis": "y"
        },
        {
         "fill": "tozeroy",
         "hoverinfo": "skip",
         "hovertemplate": "",
         "line": {
          "color": "mediumpurple",
          "width": 1
         },
         "mode": "lines",
         "name": "Distributed<br>Load",
         "type": "scatter",
         "x": [
          1,
          1.01,
          1.02,
          1.03,
          1.04,
          1.05,
          1.06,
          1.07,
          1.08,
          1.09,
          1.1,
          1.11,
          1.12,
          1.13,
          1.1400000000000001,
          1.15,
          1.16,
          1.17,
          1.18,
          1.19,
          1.2,
          1.21,
          1.22,
          1.23,
          1.24,
          1.25,
          1.26,
          1.27,
          1.28,
          1.29,
          1.3,
          1.31,
          1.32,
          1.33,
          1.34,
          1.35,
          1.3599999999999999,
          1.37,
          1.38,
          1.3900000000000001,
          1.4,
          1.4100000000000001,
          1.42,
          1.43,
          1.44,
          1.45,
          1.46,
          1.47,
          1.48,
          1.49,
          1.5,
          1.51,
          1.52,
          1.53,
          1.54,
          1.55,
          1.56,
          1.57,
          1.58,
          1.5899999999999999,
          1.6,
          1.6099999999999999,
          1.62,
          1.63,
          1.6400000000000001,
          1.65,
          1.6600000000000001,
          1.67,
          1.6800000000000002,
          1.69,
          1.7000000000000002,
          1.71,
          1.72,
          1.73,
          1.74,
          1.75,
          1.76,
          1.77,
          1.78,
          1.79,
          1.8,
          1.81,
          1.82,
          1.83,
          1.8399999999999999,
          1.85,
          1.8599999999999999,
          1.87,
          1.88,
          1.8900000000000001,
          1.9,
          1.9100000000000001,
          1.92,
          1.9300000000000002,
          1.94,
          1.9500000000000002,
          1.96,
          1.97,
          1.98,
          1.99,
          2,
          2.01,
          2.02,
          2.0300000000000002,
          2.04,
          2.05,
          2.06,
          2.0700000000000003,
          2.08,
          2.09,
          2.1,
          2.1100000000000003,
          2.12,
          2.13,
          2.14,
          2.1500000000000004,
          2.16,
          2.17,
          2.1799999999999997,
          2.19,
          2.2,
          2.21,
          2.2199999999999998,
          2.23,
          2.24,
          2.25,
          2.26,
          2.27,
          2.2800000000000002,
          2.29,
          2.3,
          2.31,
          2.3200000000000003,
          2.33,
          2.34,
          2.35,
          2.3600000000000003,
          2.37,
          2.38,
          2.39,
          2.4000000000000004,
          2.41,
          2.42,
          2.4299999999999997,
          2.44,
          2.45,
          2.46,
          2.4699999999999998,
          2.48,
          2.49,
          2.5,
          2.51,
          2.52,
          2.5300000000000002,
          2.54,
          2.55,
          2.56,
          2.5700000000000003,
          2.58,
          2.59,
          2.6,
          2.6100000000000003,
          2.62,
          2.63,
          2.64,
          2.6500000000000004,
          2.66,
          2.67,
          2.6799999999999997,
          2.69,
          2.7,
          2.71,
          2.7199999999999998,
          2.73,
          2.74,
          2.75,
          2.76,
          2.77,
          2.7800000000000002,
          2.79,
          2.8,
          2.81,
          2.8200000000000003,
          2.83,
          2.84,
          2.85,
          2.8600000000000003,
          2.87,
          2.88,
          2.89,
          2.9000000000000004,
          2.91,
          2.92,
          2.9299999999999997,
          2.94,
          2.95,
          2.96,
          2.9699999999999998,
          2.98,
          2.99,
          3,
          3.0100000000000002,
          3.02,
          3.0300000000000002,
          3.04,
          3.05,
          3.06,
          3.07,
          3.08,
          3.09,
          3.1,
          3.11,
          3.12,
          3.13,
          3.14,
          3.15,
          3.16,
          3.17,
          3.18,
          3.19,
          3.2,
          3.21,
          3.22,
          3.23,
          3.24,
          3.25,
          3.2600000000000002,
          3.27,
          3.2800000000000002,
          3.29,
          3.3000000000000003,
          3.31,
          3.32,
          3.33,
          3.34,
          3.35,
          3.36,
          3.37,
          3.38,
          3.39,
          3.4,
          3.41,
          3.42,
          3.43,
          3.44,
          3.45,
          3.46,
          3.47,
          3.48,
          3.49,
          3.5,
          3.5100000000000002,
          3.52,
          3.5300000000000002,
          3.54,
          3.5500000000000003,
          3.56,
          3.57,
          3.58,
          3.59,
          3.6,
          3.61,
          3.62,
          3.63,
          3.64,
          3.65,
          3.66,
          3.67,
          3.68,
          3.69,
          3.7,
          3.71,
          3.72,
          3.73,
          3.74,
          3.75,
          3.7600000000000002,
          3.77,
          3.7800000000000002,
          3.79,
          3.8000000000000003,
          3.81,
          3.82,
          3.83,
          3.84,
          3.85,
          3.86,
          3.87,
          3.88,
          3.89,
          3.9,
          3.91,
          3.92,
          3.93,
          3.94,
          3.95,
          3.96,
          3.97,
          3.98,
          3.99,
          4
         ],
         "xaxis": "x",
         "y": [
          -1,
          -1,
          -1,
          -1,
          -1,
          -1,
          -1,
          -1,
          -1,
          -1,
          -1,
          -1,
          -1,
          -1,
          -1,
          -1,
          -1,
          -1,
          -1,
          -1,
          -1,
          -1,
          -1,
          -1,
          -1,
          -1,
          -1,
          -1,
          -1,
          -1,
          -1,
          -1,
          -1,
          -1,
          -1,
          -1,
          -1,
          -1,
          -1,
          -1,
          -1,
          -1,
          -1,
          -1,
          -1,
          -1,
          -1,
          -1,
          -1,
          -1,
          -1,
          -1,
          -1,
          -1,
          -1,
          -1,
          -1,
          -1,
          -1,
          -1,
          -1,
          -1,
          -1,
          -1,
          -1,
          -1,
          -1,
          -1,
          -1,
          -1,
          -1,
          -1,
          -1,
          -1,
          -1,
          -1,
          -1,
          -1,
          -1,
          -1,
          -1,
          -1,
          -1,
          -1,
          -1,
          -1,
          -1,
          -1,
          -1,
          -1,
          -1,
          -1,
          -1,
          -1,
          -1,
          -1,
          -1,
          -1,
          -1,
          -1,
          -1,
          -1,
          -1,
          -1,
          -1,
          -1,
          -1,
          -1,
          -1,
          -1,
          -1,
          -1,
          -1,
          -1,
          -1,
          -1,
          -1,
          -1,
          -1,
          -1,
          -1,
          -1,
          -1,
          -1,
          -1,
          -1,
          -1,
          -1,
          -1,
          -1,
          -1,
          -1,
          -1,
          -1,
          -1,
          -1,
          -1,
          -1,
          -1,
          -1,
          -1,
          -1,
          -1,
          -1,
          -1,
          -1,
          -1,
          -1,
          -1,
          -1,
          -1,
          -1,
          -1,
          -1,
          -1,
          -1,
          -1,
          -1,
          -1,
          -1,
          -1,
          -1,
          -1,
          -1,
          -1,
          -1,
          -1,
          -1,
          -1,
          -1,
          -1,
          -1,
          -1,
          -1,
          -1,
          -1,
          -1,
          -1,
          -1,
          -1,
          -1,
          -1,
          -1,
          -1,
          -1,
          -1,
          -1,
          -1,
          -1,
          -1,
          -1,
          -1,
          -1,
          -1,
          -1,
          -1,
          -1,
          -1,
          -1,
          -1,
          -1,
          -1,
          -1,
          -1,
          -1,
          -1,
          -1,
          -1,
          -1,
          -1,
          -1,
          -1,
          -1,
          -1,
          -1,
          -1,
          -1,
          -1,
          -1,
          -1,
          -1,
          -1,
          -1,
          -1,
          -1,
          -1,
          -1,
          -1,
          -1,
          -1,
          -1,
          -1,
          -1,
          -1,
          -1,
          -1,
          -1,
          -1,
          -1,
          -1,
          -1,
          -1,
          -1,
          -1,
          -1,
          -1,
          -1,
          -1,
          -1,
          -1,
          -1,
          -1,
          -1,
          -1,
          -1,
          -1,
          -1,
          -1,
          -1,
          -1,
          -1,
          -1,
          -1,
          -1,
          -1,
          -1,
          -1,
          -1,
          -1,
          -1,
          -1,
          -1,
          -1,
          -1,
          -1,
          -1,
          -1,
          -1,
          -1,
          -1,
          -1,
          -1,
          -1,
          -1,
          -1,
          -1,
          -1,
          -1,
          -1,
          -1,
          -1,
          -1,
          -1,
          -1,
          -1,
          -1,
          -1,
          -1,
          -1,
          -1,
          -1
         ],
         "yaxis": "y"
        },
        {
         "hoverinfo": "skip",
         "hovertemplate": "x: %{meta[0]} m<br>Force: %{meta[1]} kN/m        <br>Angle: %{meta[2]} deg",
         "marker": {
          "color": "mediumpurple",
          "size": 10,
          "symbol": "triangle-up"
         },
         "meta": [
          1,
          2,
          90
         ],
         "mode": "markers",
         "name": "Distributed<br>Load",
         "opacity": 0,
         "showlegend": false,
         "type": "scatter",
         "x": [
          1
         ],
         "xaxis": "x",
         "y": [
          0
         ],
         "yaxis": "y"
        },
        {
         "hoverinfo": "skip",
         "hovertemplate": "x: %{meta[0]} m<br>Force: %{meta[1]} kN/m        <br>Angle: %{meta[2]} deg",
         "marker": {
          "color": "mediumpurple",
          "size": 10,
          "symbol": "triangle-up"
         },
         "meta": [
          4,
          2,
          90
         ],
         "mode": "markers",
         "name": "Distributed<br>Load",
         "opacity": 0,
         "showlegend": false,
         "type": "scatter",
         "x": [
          4
         ],
         "xaxis": "x",
         "y": [
          0
         ],
         "yaxis": "y"
        },
        {
         "hoverinfo": "skip",
         "hovertemplate": "x: %{meta[1]} m<br>Moment: %{meta[0]} kN.m",
         "marker": {
          "color": "magenta",
          "size": 10,
          "symbol": "triangle-up"
         },
         "meta": [
          2,
          3.5
         ],
         "mode": "markers",
         "name": "Point<br>Torque",
         "opacity": 0,
         "showlegend": false,
         "type": "scatter",
         "x": [
          3.5
         ],
         "xaxis": "x",
         "y": [
          0
         ],
         "yaxis": "y"
        },
        {
         "hoverinfo": "skip",
         "hovertemplate": "%{x} m",
         "line": {
          "color": "purple",
          "width": 2
         },
         "mode": "lines",
         "name": "Beam",
         "type": "scatter",
         "x": [
          0,
          7
         ],
         "xaxis": "x2",
         "y": [
          0,
          0
         ],
         "yaxis": "y2"
        },
        {
         "hoverinfo": "skip",
         "hovertemplate": "Reactions<br>x coord: %{x} m<br>y: %{meta[1]} kN",
         "marker": {
          "color": "red",
          "size": 10,
          "symbol": "triangle-up"
         },
         "meta": [
          0,
          -2.382,
          0
         ],
         "mode": "markers",
         "name": "Reaction",
         "opacity": 0,
         "showlegend": false,
         "type": "scatter",
         "x": [
          0
         ],
         "xaxis": "x2",
         "y": [
          0
         ],
         "yaxis": "y2"
        },
        {
         "hoverinfo": "skip",
         "hovertemplate": "Reactions<br>x coord: %{x} m<br>y: %{meta[1]} kN",
         "marker": {
          "color": "red",
          "size": 10,
          "symbol": "triangle-up"
         },
         "meta": [
          0,
          -7.688,
          0
         ],
         "mode": "markers",
         "name": "Reaction",
         "opacity": 0,
         "showlegend": false,
         "type": "scatter",
         "x": [
          5
         ],
         "xaxis": "x2",
         "y": [
          0
         ],
         "yaxis": "y2"
        },
        {
         "hoverinfo": "skip",
         "hovertemplate": "Reactions<br>x coord: %{x} m<br>y: %{meta[1]} kN<br>m: %{meta[2]} kN.m",
         "marker": {
          "color": "red",
          "size": 10,
          "symbol": "triangle-up"
         },
         "meta": [
          0,
          3.069,
          -2.046
         ],
         "mode": "markers",
         "name": "Reaction",
         "opacity": 0,
         "showlegend": false,
         "type": "scatter",
         "x": [
          7
         ],
         "xaxis": "x2",
         "y": [
          0
         ],
         "yaxis": "y2"
        }
       ],
       "layout": {
        "annotations": [
         {
          "font": {
           "size": 16
          },
          "showarrow": false,
          "text": "Beam schematic",
          "x": 0.5,
          "xanchor": "center",
          "xref": "paper",
          "y": 1,
          "yanchor": "bottom",
          "yref": "paper"
         },
         {
          "font": {
           "size": 16
          },
          "showarrow": false,
          "text": "Reaction Forces",
          "x": 0.5,
          "xanchor": "center",
          "xref": "paper",
          "y": 0.45,
          "yanchor": "bottom",
          "yref": "paper"
         },
         {
          "font": {
           "color": "red"
          },
          "showarrow": false,
          "text": "1",
          "x": 2,
          "xref": "x",
          "xshift": 2.2,
          "y": 0,
          "yref": "y",
          "yshift": -52
         },
         {
          "font": {
           "color": "mediumpurple"
          },
          "showarrow": false,
          "text": "2.0",
          "x": 1,
          "xref": "x",
          "xshift": 1.1,
          "y": 0,
          "yref": "y",
          "yshift": -39
         },
         {
          "font": {
           "color": "mediumpurple"
          },
          "showarrow": false,
          "text": "2.0",
          "x": 4,
          "xref": "x",
          "xshift": 4.4,
          "y": 0,
          "yref": "y",
          "yshift": -39
         },
         {
          "font": {
           "color": "magenta",
           "size": 26
          },
          "showarrow": false,
          "text": "⭯",
          "x": 3.5,
          "xref": "x",
          "y": 0,
          "yref": "y",
          "yshift": 0
         },
         {
          "font": {
           "color": "magenta"
          },
          "showarrow": false,
          "text": "2",
          "x": 3.5,
          "xref": "x",
          "y": 0,
          "yref": "y",
          "yshift": -20
         },
         {
          "font": {
           "color": "red"
          },
          "showarrow": false,
          "text": "-2.382",
          "x": 0,
          "xref": "x2",
          "xshift": 0,
          "y": 0,
          "yref": "y2",
          "yshift": 52
         },
         {
          "font": {
           "color": "red"
          },
          "showarrow": false,
          "text": "-7.688",
          "x": 5,
          "xref": "x2",
          "xshift": 5.5,
          "y": 0,
          "yref": "y2",
          "yshift": 52
         },
         {
          "font": {
           "color": "red"
          },
          "showarrow": false,
          "text": "3.069",
          "x": 7,
          "xref": "x2",
          "xshift": 7.700000000000001,
          "y": 0,
          "yref": "y2",
          "yshift": -52
         },
         {
          "font": {
           "color": "magenta",
           "size": 26
          },
          "showarrow": false,
          "text": "⭮",
          "x": 7,
          "xref": "x2",
          "y": 0,
          "yref": "y2",
          "yshift": 0
         },
         {
          "font": {
           "color": "magenta"
          },
          "showarrow": false,
          "text": "-2.046",
          "x": 7,
          "xref": "x2",
          "y": 0,
          "yref": "y2",
          "yshift": -20
         }
        ],
        "height": 550,
        "hovermode": "x",
        "shapes": [
         {
          "fillcolor": "blue",
          "line": {
           "color": "blue"
          },
          "type": "circle",
          "x0": -1,
          "x1": 1,
          "xanchor": 0,
          "xref": "x",
          "xsizemode": "pixel",
          "y0": -14,
          "y1": -12,
          "yanchor": 0,
          "yref": "y",
          "ysizemode": "pixel"
         },
         {
          "fillcolor": "blue",
          "line": {
           "color": "blue"
          },
          "type": "circle",
          "x0": -5,
          "x1": -3,
          "xanchor": 0,
          "xref": "x",
          "xsizemode": "pixel",
          "y0": -14,
          "y1": -12,
          "yanchor": 0,
          "yref": "y",
          "ysizemode": "pixel"
         },
         {
          "fillcolor": "blue",
          "line": {
           "color": "blue"
          },
          "type": "circle",
          "x0": 3,
          "x1": 5,
          "xanchor": 0,
          "xref": "x",
          "xsizemode": "pixel",
          "y0": -14,
          "y1": -12,
          "yanchor": 0,
          "yref": "y",
          "ysizemode": "pixel"
         },
         {
          "fillcolor": "blue",
          "line": {
           "color": "blue",
           "width": 4
          },
          "type": "rect",
          "x0": -2,
          "x1": -2,
          "xanchor": 7,
          "xref": "x",
          "xsizemode": "pixel",
          "y0": -5,
          "y1": 5,
          "yanchor": 0,
          "yref": "y",
          "ysizemode": "pixel"
         },
         {
          "line": {
           "color": "red",
           "width": 2
          },
          "type": "line",
          "x0": 0,
          "x1": 3,
          "xanchor": 2,
          "xref": "x",
          "xsizemode": "pixel",
          "y0": 0,
          "y1": -3,
          "yanchor": 0,
          "yref": "y",
          "ysizemode": "pixel"
         },
         {
          "line": {
           "color": "red",
           "width": 2
          },
          "type": "line",
          "x0": 0,
          "x1": -3,
          "xanchor": 2,
          "xref": "x",
          "xsizemode": "pixel",
          "y0": 0,
          "y1": -3,
          "yanchor": 0,
          "yref": "y",
          "ysizemode": "pixel"
         },
         {
          "line": {
           "color": "red",
           "width": 2
          },
          "type": "line",
          "x0": 0,
          "x1": 0,
          "xanchor": 2,
          "xref": "x",
          "xsizemode": "pixel",
          "y0": 0,
          "y1": -40,
          "yanchor": 0,
          "yref": "y",
          "ysizemode": "pixel"
         },
         {
          "line": {
           "color": "mediumpurple",
           "width": 2
          },
          "type": "line",
          "x0": 0,
          "x1": 3,
          "xanchor": 1,
          "xref": "x",
          "xsizemode": "pixel",
          "y0": 0,
          "y1": -3,
          "yanchor": 0,
          "yref": "y",
          "ysizemode": "pixel"
         },
         {
          "line": {
           "color": "mediumpurple",
           "width": 2
          },
          "type": "line",
          "x0": 0,
          "x1": -3,
          "xanchor": 1,
          "xref": "x",
          "xsizemode": "pixel",
          "y0": 0,
          "y1": -3,
          "yanchor": 0,
          "yref": "y",
          "ysizemode": "pixel"
         },
         {
          "line": {
           "color": "mediumpurple",
           "width": 2
          },
          "type": "line",
          "x0": 0,
          "x1": 0,
          "xanchor": 1,
          "xref": "x",
          "xsizemode": "pixel",
          "y0": 0,
          "y1": -30,
          "yanchor": 0,
          "yref": "y",
          "ysizemode": "pixel"
         },
         {
          "line": {
           "color": "mediumpurple",
           "width": 2
          },
          "type": "line",
          "x0": 0,
          "x1": 3,
          "xanchor": 4,
          "xref": "x",
          "xsizemode": "pixel",
          "y0": 0,
          "y1": -3,
          "yanchor": 0,
          "yref": "y",
          "ysizemode": "pixel"
         },
         {
          "line": {
           "color": "mediumpurple",
           "width": 2
          },
          "type": "line",
          "x0": 0,
          "x1": -3,
          "xanchor": 4,
          "xref": "x",
          "xsizemode": "pixel",
          "y0": 0,
          "y1": -3,
          "yanchor": 0,
          "yref": "y",
          "ysizemode": "pixel"
         },
         {
          "line": {
           "color": "mediumpurple",
           "width": 2
          },
          "type": "line",
          "x0": 0,
          "x1": 0,
          "xanchor": 4,
          "xref": "x",
          "xsizemode": "pixel",
          "y0": 0,
          "y1": -30,
          "yanchor": 0,
          "yref": "y",
          "ysizemode": "pixel"
         },
         {
          "line": {
           "color": "red",
           "width": 2
          },
          "type": "line",
          "x0": 0,
          "x1": -3,
          "xanchor": 0,
          "xref": "x2",
          "xsizemode": "pixel",
          "y0": 0,
          "y1": 3,
          "yanchor": 0,
          "yref": "y2",
          "ysizemode": "pixel"
         },
         {
          "line": {
           "color": "red",
           "width": 2
          },
          "type": "line",
          "x0": 0,
          "x1": 3,
          "xanchor": 0,
          "xref": "x2",
          "xsizemode": "pixel",
          "y0": 0,
          "y1": 3,
          "yanchor": 0,
          "yref": "y2",
          "ysizemode": "pixel"
         },
         {
          "line": {
           "color": "red",
           "width": 2
          },
          "type": "line",
          "x0": 0,
          "x1": 0,
          "xanchor": 0,
          "xref": "x2",
          "xsizemode": "pixel",
          "y0": 0,
          "y1": 40,
          "yanchor": 0,
          "yref": "y2",
          "ysizemode": "pixel"
         },
         {
          "line": {
           "color": "red",
           "width": 2
          },
          "type": "line",
          "x0": 0,
          "x1": -3,
          "xanchor": 5,
          "xref": "x2",
          "xsizemode": "pixel",
          "y0": 0,
          "y1": 3,
          "yanchor": 0,
          "yref": "y2",
          "ysizemode": "pixel"
         },
         {
          "line": {
           "color": "red",
           "width": 2
          },
          "type": "line",
          "x0": 0,
          "x1": 3,
          "xanchor": 5,
          "xref": "x2",
          "xsizemode": "pixel",
          "y0": 0,
          "y1": 3,
          "yanchor": 0,
          "yref": "y2",
          "ysizemode": "pixel"
         },
         {
          "line": {
           "color": "red",
           "width": 2
          },
          "type": "line",
          "x0": 0,
          "x1": 0,
          "xanchor": 5,
          "xref": "x2",
          "xsizemode": "pixel",
          "y0": 0,
          "y1": 40,
          "yanchor": 0,
          "yref": "y2",
          "ysizemode": "pixel"
         },
         {
          "line": {
           "color": "red",
           "width": 2
          },
          "type": "line",
          "x0": 0,
          "x1": 3,
          "xanchor": 7,
          "xref": "x2",
          "xsizemode": "pixel",
          "y0": 0,
          "y1": -3,
          "yanchor": 0,
          "yref": "y2",
          "ysizemode": "pixel"
         },
         {
          "line": {
           "color": "red",
           "width": 2
          },
          "type": "line",
          "x0": 0,
          "x1": -3,
          "xanchor": 7,
          "xref": "x2",
          "xsizemode": "pixel",
          "y0": 0,
          "y1": -3,
          "yanchor": 0,
          "yref": "y2",
          "ysizemode": "pixel"
         },
         {
          "line": {
           "color": "red",
           "width": 2
          },
          "type": "line",
          "x0": 0,
          "x1": 0,
          "xanchor": 7,
          "xref": "x2",
          "xsizemode": "pixel",
          "y0": 0,
          "y1": -40,
          "yanchor": 0,
          "yref": "y2",
          "ysizemode": "pixel"
         }
        ],
        "showlegend": false,
        "template": {
         "data": {
          "bar": [
           {
            "error_x": {
             "color": "#2a3f5f"
            },
            "error_y": {
             "color": "#2a3f5f"
            },
            "marker": {
             "line": {
              "color": "#E5ECF6",
              "width": 0.5
             }
            },
            "type": "bar"
           }
          ],
          "barpolar": [
           {
            "marker": {
             "line": {
              "color": "#E5ECF6",
              "width": 0.5
             }
            },
            "type": "barpolar"
           }
          ],
          "carpet": [
           {
            "aaxis": {
             "endlinecolor": "#2a3f5f",
             "gridcolor": "white",
             "linecolor": "white",
             "minorgridcolor": "white",
             "startlinecolor": "#2a3f5f"
            },
            "baxis": {
             "endlinecolor": "#2a3f5f",
             "gridcolor": "white",
             "linecolor": "white",
             "minorgridcolor": "white",
             "startlinecolor": "#2a3f5f"
            },
            "type": "carpet"
           }
          ],
          "choropleth": [
           {
            "colorbar": {
             "outlinewidth": 0,
             "ticks": ""
            },
            "type": "choropleth"
           }
          ],
          "contour": [
           {
            "colorbar": {
             "outlinewidth": 0,
             "ticks": ""
            },
            "colorscale": [
             [
              0,
              "#0d0887"
             ],
             [
              0.1111111111111111,
              "#46039f"
             ],
             [
              0.2222222222222222,
              "#7201a8"
             ],
             [
              0.3333333333333333,
              "#9c179e"
             ],
             [
              0.4444444444444444,
              "#bd3786"
             ],
             [
              0.5555555555555556,
              "#d8576b"
             ],
             [
              0.6666666666666666,
              "#ed7953"
             ],
             [
              0.7777777777777778,
              "#fb9f3a"
             ],
             [
              0.8888888888888888,
              "#fdca26"
             ],
             [
              1,
              "#f0f921"
             ]
            ],
            "type": "contour"
           }
          ],
          "contourcarpet": [
           {
            "colorbar": {
             "outlinewidth": 0,
             "ticks": ""
            },
            "type": "contourcarpet"
           }
          ],
          "heatmap": [
           {
            "colorbar": {
             "outlinewidth": 0,
             "ticks": ""
            },
            "colorscale": [
             [
              0,
              "#0d0887"
             ],
             [
              0.1111111111111111,
              "#46039f"
             ],
             [
              0.2222222222222222,
              "#7201a8"
             ],
             [
              0.3333333333333333,
              "#9c179e"
             ],
             [
              0.4444444444444444,
              "#bd3786"
             ],
             [
              0.5555555555555556,
              "#d8576b"
             ],
             [
              0.6666666666666666,
              "#ed7953"
             ],
             [
              0.7777777777777778,
              "#fb9f3a"
             ],
             [
              0.8888888888888888,
              "#fdca26"
             ],
             [
              1,
              "#f0f921"
             ]
            ],
            "type": "heatmap"
           }
          ],
          "heatmapgl": [
           {
            "colorbar": {
             "outlinewidth": 0,
             "ticks": ""
            },
            "colorscale": [
             [
              0,
              "#0d0887"
             ],
             [
              0.1111111111111111,
              "#46039f"
             ],
             [
              0.2222222222222222,
              "#7201a8"
             ],
             [
              0.3333333333333333,
              "#9c179e"
             ],
             [
              0.4444444444444444,
              "#bd3786"
             ],
             [
              0.5555555555555556,
              "#d8576b"
             ],
             [
              0.6666666666666666,
              "#ed7953"
             ],
             [
              0.7777777777777778,
              "#fb9f3a"
             ],
             [
              0.8888888888888888,
              "#fdca26"
             ],
             [
              1,
              "#f0f921"
             ]
            ],
            "type": "heatmapgl"
           }
          ],
          "histogram": [
           {
            "marker": {
             "colorbar": {
              "outlinewidth": 0,
              "ticks": ""
             }
            },
            "type": "histogram"
           }
          ],
          "histogram2d": [
           {
            "colorbar": {
             "outlinewidth": 0,
             "ticks": ""
            },
            "colorscale": [
             [
              0,
              "#0d0887"
             ],
             [
              0.1111111111111111,
              "#46039f"
             ],
             [
              0.2222222222222222,
              "#7201a8"
             ],
             [
              0.3333333333333333,
              "#9c179e"
             ],
             [
              0.4444444444444444,
              "#bd3786"
             ],
             [
              0.5555555555555556,
              "#d8576b"
             ],
             [
              0.6666666666666666,
              "#ed7953"
             ],
             [
              0.7777777777777778,
              "#fb9f3a"
             ],
             [
              0.8888888888888888,
              "#fdca26"
             ],
             [
              1,
              "#f0f921"
             ]
            ],
            "type": "histogram2d"
           }
          ],
          "histogram2dcontour": [
           {
            "colorbar": {
             "outlinewidth": 0,
             "ticks": ""
            },
            "colorscale": [
             [
              0,
              "#0d0887"
             ],
             [
              0.1111111111111111,
              "#46039f"
             ],
             [
              0.2222222222222222,
              "#7201a8"
             ],
             [
              0.3333333333333333,
              "#9c179e"
             ],
             [
              0.4444444444444444,
              "#bd3786"
             ],
             [
              0.5555555555555556,
              "#d8576b"
             ],
             [
              0.6666666666666666,
              "#ed7953"
             ],
             [
              0.7777777777777778,
              "#fb9f3a"
             ],
             [
              0.8888888888888888,
              "#fdca26"
             ],
             [
              1,
              "#f0f921"
             ]
            ],
            "type": "histogram2dcontour"
           }
          ],
          "mesh3d": [
           {
            "colorbar": {
             "outlinewidth": 0,
             "ticks": ""
            },
            "type": "mesh3d"
           }
          ],
          "parcoords": [
           {
            "line": {
             "colorbar": {
              "outlinewidth": 0,
              "ticks": ""
             }
            },
            "type": "parcoords"
           }
          ],
          "pie": [
           {
            "automargin": true,
            "type": "pie"
           }
          ],
          "scatter": [
           {
            "marker": {
             "colorbar": {
              "outlinewidth": 0,
              "ticks": ""
             }
            },
            "type": "scatter"
           }
          ],
          "scatter3d": [
           {
            "line": {
             "colorbar": {
              "outlinewidth": 0,
              "ticks": ""
             }
            },
            "marker": {
             "colorbar": {
              "outlinewidth": 0,
              "ticks": ""
             }
            },
            "type": "scatter3d"
           }
          ],
          "scattercarpet": [
           {
            "marker": {
             "colorbar": {
              "outlinewidth": 0,
              "ticks": ""
             }
            },
            "type": "scattercarpet"
           }
          ],
          "scattergeo": [
           {
            "marker": {
             "colorbar": {
              "outlinewidth": 0,
              "ticks": ""
             }
            },
            "type": "scattergeo"
           }
          ],
          "scattergl": [
           {
            "marker": {
             "colorbar": {
              "outlinewidth": 0,
              "ticks": ""
             }
            },
            "type": "scattergl"
           }
          ],
          "scattermapbox": [
           {
            "marker": {
             "colorbar": {
              "outlinewidth": 0,
              "ticks": ""
             }
            },
            "type": "scattermapbox"
           }
          ],
          "scatterpolar": [
           {
            "marker": {
             "colorbar": {
              "outlinewidth": 0,
              "ticks": ""
             }
            },
            "type": "scatterpolar"
           }
          ],
          "scatterpolargl": [
           {
            "marker": {
             "colorbar": {
              "outlinewidth": 0,
              "ticks": ""
             }
            },
            "type": "scatterpolargl"
           }
          ],
          "scatterternary": [
           {
            "marker": {
             "colorbar": {
              "outlinewidth": 0,
              "ticks": ""
             }
            },
            "type": "scatterternary"
           }
          ],
          "surface": [
           {
            "colorbar": {
             "outlinewidth": 0,
             "ticks": ""
            },
            "colorscale": [
             [
              0,
              "#0d0887"
             ],
             [
              0.1111111111111111,
              "#46039f"
             ],
             [
              0.2222222222222222,
              "#7201a8"
             ],
             [
              0.3333333333333333,
              "#9c179e"
             ],
             [
              0.4444444444444444,
              "#bd3786"
             ],
             [
              0.5555555555555556,
              "#d8576b"
             ],
             [
              0.6666666666666666,
              "#ed7953"
             ],
             [
              0.7777777777777778,
              "#fb9f3a"
             ],
             [
              0.8888888888888888,
              "#fdca26"
             ],
             [
              1,
              "#f0f921"
             ]
            ],
            "type": "surface"
           }
          ],
          "table": [
           {
            "cells": {
             "fill": {
              "color": "#EBF0F8"
             },
             "line": {
              "color": "white"
             }
            },
            "header": {
             "fill": {
              "color": "#C8D4E3"
             },
             "line": {
              "color": "white"
             }
            },
            "type": "table"
           }
          ]
         },
         "layout": {
          "annotationdefaults": {
           "arrowcolor": "#2a3f5f",
           "arrowhead": 0,
           "arrowwidth": 1
          },
          "autotypenumbers": "strict",
          "coloraxis": {
           "colorbar": {
            "outlinewidth": 0,
            "ticks": ""
           }
          },
          "colorscale": {
           "diverging": [
            [
             0,
             "#8e0152"
            ],
            [
             0.1,
             "#c51b7d"
            ],
            [
             0.2,
             "#de77ae"
            ],
            [
             0.3,
             "#f1b6da"
            ],
            [
             0.4,
             "#fde0ef"
            ],
            [
             0.5,
             "#f7f7f7"
            ],
            [
             0.6,
             "#e6f5d0"
            ],
            [
             0.7,
             "#b8e186"
            ],
            [
             0.8,
             "#7fbc41"
            ],
            [
             0.9,
             "#4d9221"
            ],
            [
             1,
             "#276419"
            ]
           ],
           "sequential": [
            [
             0,
             "#0d0887"
            ],
            [
             0.1111111111111111,
             "#46039f"
            ],
            [
             0.2222222222222222,
             "#7201a8"
            ],
            [
             0.3333333333333333,
             "#9c179e"
            ],
            [
             0.4444444444444444,
             "#bd3786"
            ],
            [
             0.5555555555555556,
             "#d8576b"
            ],
            [
             0.6666666666666666,
             "#ed7953"
            ],
            [
             0.7777777777777778,
             "#fb9f3a"
            ],
            [
             0.8888888888888888,
             "#fdca26"
            ],
            [
             1,
             "#f0f921"
            ]
           ],
           "sequentialminus": [
            [
             0,
             "#0d0887"
            ],
            [
             0.1111111111111111,
             "#46039f"
            ],
            [
             0.2222222222222222,
             "#7201a8"
            ],
            [
             0.3333333333333333,
             "#9c179e"
            ],
            [
             0.4444444444444444,
             "#bd3786"
            ],
            [
             0.5555555555555556,
             "#d8576b"
            ],
            [
             0.6666666666666666,
             "#ed7953"
            ],
            [
             0.7777777777777778,
             "#fb9f3a"
            ],
            [
             0.8888888888888888,
             "#fdca26"
            ],
            [
             1,
             "#f0f921"
            ]
           ]
          },
          "colorway": [
           "#636efa",
           "#EF553B",
           "#00cc96",
           "#ab63fa",
           "#FFA15A",
           "#19d3f3",
           "#FF6692",
           "#B6E880",
           "#FF97FF",
           "#FECB52"
          ],
          "font": {
           "color": "#2a3f5f"
          },
          "geo": {
           "bgcolor": "white",
           "lakecolor": "white",
           "landcolor": "#E5ECF6",
           "showlakes": true,
           "showland": true,
           "subunitcolor": "white"
          },
          "hoverlabel": {
           "align": "left"
          },
          "hovermode": "closest",
          "mapbox": {
           "style": "light"
          },
          "paper_bgcolor": "white",
          "plot_bgcolor": "#E5ECF6",
          "polar": {
           "angularaxis": {
            "gridcolor": "white",
            "linecolor": "white",
            "ticks": ""
           },
           "bgcolor": "#E5ECF6",
           "radialaxis": {
            "gridcolor": "white",
            "linecolor": "white",
            "ticks": ""
           }
          },
          "scene": {
           "xaxis": {
            "backgroundcolor": "#E5ECF6",
            "gridcolor": "white",
            "gridwidth": 2,
            "linecolor": "white",
            "showbackground": true,
            "ticks": "",
            "zerolinecolor": "white"
           },
           "yaxis": {
            "backgroundcolor": "#E5ECF6",
            "gridcolor": "white",
            "gridwidth": 2,
            "linecolor": "white",
            "showbackground": true,
            "ticks": "",
            "zerolinecolor": "white"
           },
           "zaxis": {
            "backgroundcolor": "#E5ECF6",
            "gridcolor": "white",
            "gridwidth": 2,
            "linecolor": "white",
            "showbackground": true,
            "ticks": "",
            "zerolinecolor": "white"
           }
          },
          "shapedefaults": {
           "line": {
            "color": "#2a3f5f"
           }
          },
          "ternary": {
           "aaxis": {
            "gridcolor": "white",
            "linecolor": "white",
            "ticks": ""
           },
           "baxis": {
            "gridcolor": "white",
            "linecolor": "white",
            "ticks": ""
           },
           "bgcolor": "#E5ECF6",
           "caxis": {
            "gridcolor": "white",
            "linecolor": "white",
            "ticks": ""
           }
          },
          "title": {
           "x": 0.05
          },
          "xaxis": {
           "automargin": true,
           "gridcolor": "white",
           "linecolor": "white",
           "ticks": "",
           "title": {
            "standoff": 15
           },
           "zerolinecolor": "white",
           "zerolinewidth": 2
          },
          "yaxis": {
           "automargin": true,
           "gridcolor": "white",
           "linecolor": "white",
           "ticks": "",
           "title": {
            "standoff": 15
           },
           "zerolinecolor": "white",
           "zerolinewidth": 2
          }
         }
        },
        "title": {
         "font": {
          "size": 24
         },
         "text": "Beam External Conditions",
         "x": 0.5
        },
        "width": 700,
        "xaxis": {
         "anchor": "y",
         "domain": [
          0,
          1
         ],
         "matches": "x2",
         "showticklabels": false
        },
        "xaxis2": {
         "anchor": "y2",
         "domain": [
          0,
          1
         ],
         "title": {
          "text": "Beam Length (m)"
         }
        },
        "yaxis": {
         "anchor": "x",
         "domain": [
          0.55,
          1
         ],
         "fixedrange": true,
         "range": [
          -3,
          3
         ],
         "visible": false
        },
        "yaxis2": {
         "anchor": "x2",
         "domain": [
          0,
          0.45
         ],
         "fixedrange": true,
         "range": [
          -3,
          3
         ],
         "visible": false
        }
       }
      }
     },
     "metadata": {}
    },
    {
     "output_type": "display_data",
     "data": {
      "application/vnd.plotly.v1+json": {
       "config": {
        "plotlyServerURL": "https://plot.ly"
       },
       "data": [
        {
         "fill": "tozeroy",
         "hovertemplate": "x: %{x:.3f} m <br>f(x): %{y:.3f} ",
         "line": {
          "color": "red",
          "width": 1
         },
         "mode": "lines",
         "name": "Normal Force",
         "type": "scatter",
         "x": [
          0,
          1e-7,
          0.035175879396984924,
          0.07035175879396985,
          0.10552763819095477,
          0.1407035175879397,
          0.1758793969849246,
          0.21105527638190955,
          0.24623115577889448,
          0.2814070351758794,
          0.3165829145728643,
          0.3517587939698492,
          0.3869346733668342,
          0.4221105527638191,
          0.457286432160804,
          0.49246231155778897,
          0.5276381909547738,
          0.5628140703517588,
          0.5979899497487438,
          0.6331658291457286,
          0.6683417085427136,
          0.7035175879396984,
          0.7386934673366834,
          0.7738693467336684,
          0.8090452261306532,
          0.8442211055276382,
          0.8793969849246231,
          0.914572864321608,
          0.949748743718593,
          0.9849246231155779,
          0.9999999,
          1.0000001,
          1.020100502512563,
          1.0552763819095476,
          1.0904522613065326,
          1.1256281407035176,
          1.1608040201005025,
          1.1959798994974875,
          1.2311557788944723,
          1.2663316582914572,
          1.3015075376884422,
          1.3366834170854272,
          1.3718592964824121,
          1.4070351758793969,
          1.4422110552763818,
          1.4773869346733668,
          1.5125628140703518,
          1.5477386934673367,
          1.5829145728643217,
          1.6180904522613064,
          1.6532663316582914,
          1.6884422110552764,
          1.7236180904522613,
          1.7587939698492463,
          1.793969849246231,
          1.829145728643216,
          1.864321608040201,
          1.899497487437186,
          1.934673366834171,
          1.9698492462311559,
          1.9999999,
          2.0000001,
          2.0050251256281406,
          2.040201005025126,
          2.0753768844221105,
          2.1105527638190953,
          2.1457286432160805,
          2.180904522613065,
          2.2160804020100504,
          2.251256281407035,
          2.28643216080402,
          2.321608040201005,
          2.35678391959799,
          2.391959798994975,
          2.4271356783919598,
          2.4623115577889445,
          2.4974874371859297,
          2.5326633165829144,
          2.5678391959798996,
          2.6030150753768844,
          2.638190954773869,
          2.6733668341708543,
          2.708542713567839,
          2.7437185929648242,
          2.778894472361809,
          2.8140703517587937,
          2.849246231155779,
          2.8844221105527637,
          2.919597989949749,
          2.9547738693467336,
          2.9899497487437188,
          3.0251256281407035,
          3.0603015075376883,
          3.0954773869346734,
          3.130653266331658,
          3.1658291457286434,
          3.201005025125628,
          3.236180904522613,
          3.271356783919598,
          3.306532663316583,
          3.341708542713568,
          3.3768844221105527,
          3.4120603015075375,
          3.4472361809045227,
          3.4824120603015074,
          3.4999999,
          3.5000001,
          3.5175879396984926,
          3.5527638190954773,
          3.587939698492462,
          3.6231155778894473,
          3.658291457286432,
          3.693467336683417,
          3.728643216080402,
          3.7638190954773867,
          3.798994974874372,
          3.8341708542713566,
          3.869346733668342,
          3.9045226130653266,
          3.9396984924623117,
          3.9748743718592965,
          3.9999999,
          4.0000001,
          4.010050251256281,
          4.045226130653266,
          4.080402010050252,
          4.115577889447236,
          4.150753768844221,
          4.185929648241206,
          4.221105527638191,
          4.256281407035176,
          4.291457286432161,
          4.326633165829145,
          4.36180904522613,
          4.396984924623116,
          4.432160804020101,
          4.467336683417085,
          4.50251256281407,
          4.5376884422110555,
          4.57286432160804,
          4.608040201005025,
          4.64321608040201,
          4.678391959798995,
          4.71356783919598,
          4.748743718592965,
          4.78391959798995,
          4.819095477386934,
          4.8542713567839195,
          4.889447236180905,
          4.924623115577889,
          4.959798994974874,
          4.994974874371859,
          4.9999999,
          5.0000001,
          5.030150753768845,
          5.065326633165829,
          5.100502512562814,
          5.135678391959799,
          5.1708542713567835,
          5.206030150753769,
          5.241206030150754,
          5.276381909547738,
          5.311557788944723,
          5.346733668341709,
          5.381909547738694,
          5.417085427135678,
          5.452261306532663,
          5.4874371859296485,
          5.522613065326633,
          5.557788944723618,
          5.592964824120603,
          5.628140703517587,
          5.663316582914573,
          5.698492462311558,
          5.733668341708543,
          5.768844221105527,
          5.8040201005025125,
          5.839195979899498,
          5.874371859296482,
          5.909547738693467,
          5.944723618090452,
          5.9798994974874375,
          6.015075376884422,
          6.050251256281407,
          6.085427135678392,
          6.1206030150753765,
          6.155778894472362,
          6.190954773869347,
          6.226130653266331,
          6.261306532663316,
          6.296482412060302,
          6.331658291457287,
          6.366834170854271,
          6.402010050251256,
          6.437185929648241,
          6.472361809045226,
          6.507537688442211,
          6.542713567839196,
          6.57788944723618,
          6.613065326633166,
          6.648241206030151,
          6.683417085427136,
          6.71859296482412,
          6.7537688442211055,
          6.788944723618091,
          6.824120603015075,
          6.85929648241206,
          6.894472361809045,
          6.9296482412060305,
          6.964824120603015,
          6.9999999,
          7
         ],
         "xaxis": "x",
         "y": [
          0,
          0,
          0,
          0,
          0,
          0,
          0,
          0,
          0,
          0,
          0,
          0,
          0,
          0,
          0,
          0,
          0,
          0,
          0,
          0,
          0,
          0,
          0,
          0,
          0,
          0,
          0,
          0,
          0,
          0,
          0,
          0,
          0,
          0,
          0,
          0,
          0,
          0,
          0,
          0,
          0,
          0,
          0,
          0,
          0,
          0,
          0,
          0,
          0,
          0,
          0,
          0,
          0,
          0,
          0,
          0,
          0,
          0,
          0,
          0,
          0,
          0,
          0,
          0,
          0,
          0,
          0,
          0,
          0,
          0,
          0,
          0,
          0,
          0,
          0,
          0,
          0,
          0,
          0,
          0,
          0,
          0,
          0,
          0,
          0,
          0,
          0,
          0,
          0,
          0,
          0,
          0,
          0,
          0,
          0,
          0,
          0,
          0,
          0,
          0,
          0,
          0,
          0,
          0,
          0,
          0,
          0,
          0,
          0,
          0,
          0,
          0,
          0,
          0,
          0,
          0,
          0,
          0,
          0,
          0,
          0,
          0,
          0,
          0,
          0,
          0,
          0,
          0,
          0,
          0,
          0,
          0,
          0,
          0,
          0,
          0,
          0,
          0,
          0,
          0,
          0,
          0,
          0,
          0,
          0,
          0,
          0,
          0,
          0,
          0,
          0,
          0,
          0,
          0,
          0,
          0,
          0,
          0,
          0,
          0,
          0,
          0,
          0,
          0,
          0,
          0,
          0,
          0,
          0,
          0,
          0,
          0,
          0,
          0,
          0,
          0,
          0,
          0,
          0,
          0,
          0,
          0,
          0,
          0,
          0,
          0,
          0,
          0,
          0,
          0,
          0,
          0,
          0,
          0,
          0,
          0,
          0,
          0,
          0,
          0,
          0,
          0,
          0,
          0,
          0,
          0,
          0,
          0,
          0,
          0,
          0,
          0
         ],
         "yaxis": "y"
        },
        {
         "fill": "tozeroy",
         "hovertemplate": "x: %{x:.3f} m <br>f(x): %{y:.3f} ",
         "line": {
          "color": "aqua",
          "width": 1
         },
         "mode": "lines",
         "name": "Shear Force",
         "type": "scatter",
         "x": [
          0,
          1e-7,
          0.035175879396984924,
          0.07035175879396985,
          0.10552763819095477,
          0.1407035175879397,
          0.1758793969849246,
          0.21105527638190955,
          0.24623115577889448,
          0.2814070351758794,
          0.3165829145728643,
          0.3517587939698492,
          0.3869346733668342,
          0.4221105527638191,
          0.457286432160804,
          0.49246231155778897,
          0.5276381909547738,
          0.5628140703517588,
          0.5979899497487438,
          0.6331658291457286,
          0.6683417085427136,
          0.7035175879396984,
          0.7386934673366834,
          0.7738693467336684,
          0.8090452261306532,
          0.8442211055276382,
          0.8793969849246231,
          0.914572864321608,
          0.949748743718593,
          0.9849246231155779,
          0.9999999,
          1.0000001,
          1.020100502512563,
          1.0552763819095476,
          1.0904522613065326,
          1.1256281407035176,
          1.1608040201005025,
          1.1959798994974875,
          1.2311557788944723,
          1.2663316582914572,
          1.3015075376884422,
          1.3366834170854272,
          1.3718592964824121,
          1.4070351758793969,
          1.4422110552763818,
          1.4773869346733668,
          1.5125628140703518,
          1.5477386934673367,
          1.5829145728643217,
          1.6180904522613064,
          1.6532663316582914,
          1.6884422110552764,
          1.7236180904522613,
          1.7587939698492463,
          1.793969849246231,
          1.829145728643216,
          1.864321608040201,
          1.899497487437186,
          1.934673366834171,
          1.9698492462311559,
          1.9999999,
          2.0000001,
          2.0050251256281406,
          2.040201005025126,
          2.0753768844221105,
          2.1105527638190953,
          2.1457286432160805,
          2.180904522613065,
          2.2160804020100504,
          2.251256281407035,
          2.28643216080402,
          2.321608040201005,
          2.35678391959799,
          2.391959798994975,
          2.4271356783919598,
          2.4623115577889445,
          2.4974874371859297,
          2.5326633165829144,
          2.5678391959798996,
          2.6030150753768844,
          2.638190954773869,
          2.6733668341708543,
          2.708542713567839,
          2.7437185929648242,
          2.778894472361809,
          2.8140703517587937,
          2.849246231155779,
          2.8844221105527637,
          2.919597989949749,
          2.9547738693467336,
          2.9899497487437188,
          3.0251256281407035,
          3.0603015075376883,
          3.0954773869346734,
          3.130653266331658,
          3.1658291457286434,
          3.201005025125628,
          3.236180904522613,
          3.271356783919598,
          3.306532663316583,
          3.341708542713568,
          3.3768844221105527,
          3.4120603015075375,
          3.4472361809045227,
          3.4824120603015074,
          3.4999999,
          3.5000001,
          3.5175879396984926,
          3.5527638190954773,
          3.587939698492462,
          3.6231155778894473,
          3.658291457286432,
          3.693467336683417,
          3.728643216080402,
          3.7638190954773867,
          3.798994974874372,
          3.8341708542713566,
          3.869346733668342,
          3.9045226130653266,
          3.9396984924623117,
          3.9748743718592965,
          3.9999999,
          4.0000001,
          4.010050251256281,
          4.045226130653266,
          4.080402010050252,
          4.115577889447236,
          4.150753768844221,
          4.185929648241206,
          4.221105527638191,
          4.256281407035176,
          4.291457286432161,
          4.326633165829145,
          4.36180904522613,
          4.396984924623116,
          4.432160804020101,
          4.467336683417085,
          4.50251256281407,
          4.5376884422110555,
          4.57286432160804,
          4.608040201005025,
          4.64321608040201,
          4.678391959798995,
          4.71356783919598,
          4.748743718592965,
          4.78391959798995,
          4.819095477386934,
          4.8542713567839195,
          4.889447236180905,
          4.924623115577889,
          4.959798994974874,
          4.994974874371859,
          4.9999999,
          5.0000001,
          5.030150753768845,
          5.065326633165829,
          5.100502512562814,
          5.135678391959799,
          5.1708542713567835,
          5.206030150753769,
          5.241206030150754,
          5.276381909547738,
          5.311557788944723,
          5.346733668341709,
          5.381909547738694,
          5.417085427135678,
          5.452261306532663,
          5.4874371859296485,
          5.522613065326633,
          5.557788944723618,
          5.592964824120603,
          5.628140703517587,
          5.663316582914573,
          5.698492462311558,
          5.733668341708543,
          5.768844221105527,
          5.8040201005025125,
          5.839195979899498,
          5.874371859296482,
          5.909547738693467,
          5.944723618090452,
          5.9798994974874375,
          6.015075376884422,
          6.050251256281407,
          6.085427135678392,
          6.1206030150753765,
          6.155778894472362,
          6.190954773869347,
          6.226130653266331,
          6.261306532663316,
          6.296482412060302,
          6.331658291457287,
          6.366834170854271,
          6.402010050251256,
          6.437185929648241,
          6.472361809045226,
          6.507537688442211,
          6.542713567839196,
          6.57788944723618,
          6.613065326633166,
          6.648241206030151,
          6.683417085427136,
          6.71859296482412,
          6.7537688442211055,
          6.788944723618091,
          6.824120603015075,
          6.85929648241206,
          6.894472361809045,
          6.9296482412060305,
          6.964824120603015,
          6.9999999,
          7
         ],
         "xaxis": "x2",
         "y": [
          0,
          -2.38153846153846,
          -2.38153846153846,
          -2.38153846153846,
          -2.38153846153846,
          -2.38153846153846,
          -2.38153846153846,
          -2.38153846153846,
          -2.38153846153846,
          -2.38153846153846,
          -2.38153846153846,
          -2.38153846153846,
          -2.38153846153846,
          -2.38153846153846,
          -2.38153846153846,
          -2.38153846153846,
          -2.38153846153846,
          -2.38153846153846,
          -2.38153846153846,
          -2.38153846153846,
          -2.38153846153846,
          -2.38153846153846,
          -2.38153846153846,
          -2.38153846153846,
          -2.38153846153846,
          -2.38153846153846,
          -2.38153846153846,
          -2.38153846153846,
          -2.38153846153846,
          -2.38153846153846,
          -2.38153846153846,
          -2.3815382615384597,
          -2.341337456513334,
          -2.2709856977193645,
          -2.2006339389253946,
          -2.1302821801314247,
          -2.0599304213374547,
          -1.9895786625434848,
          -1.9192269037495153,
          -1.8488751449555454,
          -1.7785233861615755,
          -1.7081716273676055,
          -1.6378198685736356,
          -1.567468109779666,
          -1.4971163509856962,
          -1.4267645921917262,
          -1.3564128333977563,
          -1.2860610746037864,
          -1.2157093158098164,
          -1.145357557015847,
          -1.075005798221877,
          -1.004654039427907,
          -0.9343022806339372,
          -0.8639505218399672,
          -0.7935987630459977,
          -0.7232470042520278,
          -0.6528952454580579,
          -0.582543486664088,
          -0.512191727870118,
          -0.4418399690761481,
          -0.38153866153845994,
          0.6184617384615398,
          0.6285117897178214,
          0.6988635485117918,
          0.7692153073057613,
          0.8395670660997308,
          0.9099188248937011,
          0.9802705836876706,
          1.050622342481641,
          1.1209741012756105,
          1.19132586006958,
          1.2616776188635503,
          1.3320293776575198,
          1.4023811364514902,
          1.4727328952454597,
          1.5430846540394292,
          1.6134364128333996,
          1.683788171627369,
          1.7541399304213394,
          1.824491689215309,
          1.8948434480092784,
          1.9651952068032488,
          2.0355469655972183,
          2.1058987243911886,
          2.176250483185158,
          2.2466022419791276,
          2.316954000773098,
          2.3873057595670675,
          2.457657518361038,
          2.5280092771550073,
          2.5983610359489777,
          2.668712794742947,
          2.7390645535369167,
          2.809416312330887,
          2.8797680711248566,
          2.950119829918827,
          3.0204715887127964,
          3.090823347506766,
          3.1611751063007363,
          3.2315268650947058,
          3.301878623888676,
          3.3722303826826456,
          3.442582141476615,
          3.5129339002705855,
          3.583285659064555,
          3.6184613384615405,
          3.61846173846154,
          3.6536374178585254,
          3.723989176652495,
          3.7943409354464643,
          3.8646926942404347,
          3.935044453034404,
          4.005396211828375,
          4.075747970622344,
          4.1460997294163136,
          4.216451488210284,
          4.286803247004253,
          4.357155005798224,
          4.427506764592193,
          4.497858523386164,
          4.568210282180133,
          4.6184613384615405,
          4.61846153846154,
          4.61846153846154,
          4.61846153846154,
          4.61846153846154,
          4.61846153846154,
          4.61846153846154,
          4.61846153846154,
          4.61846153846154,
          4.61846153846154,
          4.61846153846154,
          4.61846153846154,
          4.61846153846154,
          4.61846153846154,
          4.61846153846154,
          4.61846153846154,
          4.61846153846154,
          4.61846153846154,
          4.61846153846154,
          4.61846153846154,
          4.61846153846154,
          4.61846153846154,
          4.61846153846154,
          4.61846153846154,
          4.61846153846154,
          4.61846153846154,
          4.61846153846154,
          4.61846153846154,
          4.61846153846154,
          4.61846153846154,
          4.61846153846154,
          4.61846153846154,
          -3.0692307692307796,
          -3.0692307692307796,
          -3.0692307692307796,
          -3.0692307692307796,
          -3.0692307692307796,
          -3.0692307692307796,
          -3.0692307692307796,
          -3.0692307692307796,
          -3.0692307692307796,
          -3.0692307692307796,
          -3.0692307692307796,
          -3.0692307692307796,
          -3.0692307692307796,
          -3.0692307692307796,
          -3.0692307692307796,
          -3.0692307692307796,
          -3.0692307692307796,
          -3.0692307692307796,
          -3.0692307692307796,
          -3.0692307692307796,
          -3.0692307692307796,
          -3.0692307692307796,
          -3.0692307692307796,
          -3.0692307692307796,
          -3.0692307692307796,
          -3.0692307692307796,
          -3.0692307692307796,
          -3.0692307692307796,
          -3.0692307692307796,
          -3.0692307692307796,
          -3.0692307692307796,
          -3.0692307692307796,
          -3.0692307692307796,
          -3.0692307692307796,
          -3.0692307692307796,
          -3.0692307692307796,
          -3.0692307692307796,
          -3.0692307692307796,
          -3.0692307692307796,
          -3.0692307692307796,
          -3.0692307692307796,
          -3.0692307692307796,
          -3.0692307692307796,
          -3.0692307692307796,
          -3.0692307692307796,
          -3.0692307692307796,
          -3.0692307692307796,
          -3.0692307692307796,
          -3.0692307692307796,
          -3.0692307692307796,
          -3.0692307692307796,
          -3.0692307692307796,
          -3.0692307692307796,
          -3.0692307692307796,
          -3.0692307692307796,
          -3.0692307692307796,
          -3.0692307692307796,
          -3.0692307692307796,
          -3.0692307692307796
         ],
         "yaxis": "y2"
        },
        {
         "fill": "tozeroy",
         "hovertemplate": "x: %{x:.3f} m <br>f(x): %{y:.3f} ",
         "line": {
          "color": "lightgreen",
          "width": 1
         },
         "mode": "lines",
         "name": "Bending Moment",
         "type": "scatter",
         "x": [
          0,
          1e-7,
          0.035175879396984924,
          0.07035175879396985,
          0.10552763819095477,
          0.1407035175879397,
          0.1758793969849246,
          0.21105527638190955,
          0.24623115577889448,
          0.2814070351758794,
          0.3165829145728643,
          0.3517587939698492,
          0.3869346733668342,
          0.4221105527638191,
          0.457286432160804,
          0.49246231155778897,
          0.5276381909547738,
          0.5628140703517588,
          0.5979899497487438,
          0.6331658291457286,
          0.6683417085427136,
          0.7035175879396984,
          0.7386934673366834,
          0.7738693467336684,
          0.8090452261306532,
          0.8442211055276382,
          0.8793969849246231,
          0.914572864321608,
          0.949748743718593,
          0.9849246231155779,
          0.9999999,
          1.0000001,
          1.020100502512563,
          1.0552763819095476,
          1.0904522613065326,
          1.1256281407035176,
          1.1608040201005025,
          1.1959798994974875,
          1.2311557788944723,
          1.2663316582914572,
          1.3015075376884422,
          1.3366834170854272,
          1.3718592964824121,
          1.4070351758793969,
          1.4422110552763818,
          1.4773869346733668,
          1.5125628140703518,
          1.5477386934673367,
          1.5829145728643217,
          1.6180904522613064,
          1.6532663316582914,
          1.6884422110552764,
          1.7236180904522613,
          1.7587939698492463,
          1.793969849246231,
          1.829145728643216,
          1.864321608040201,
          1.899497487437186,
          1.934673366834171,
          1.9698492462311559,
          1.9999999,
          2.0000001,
          2.0050251256281406,
          2.040201005025126,
          2.0753768844221105,
          2.1105527638190953,
          2.1457286432160805,
          2.180904522613065,
          2.2160804020100504,
          2.251256281407035,
          2.28643216080402,
          2.321608040201005,
          2.35678391959799,
          2.391959798994975,
          2.4271356783919598,
          2.4623115577889445,
          2.4974874371859297,
          2.5326633165829144,
          2.5678391959798996,
          2.6030150753768844,
          2.638190954773869,
          2.6733668341708543,
          2.708542713567839,
          2.7437185929648242,
          2.778894472361809,
          2.8140703517587937,
          2.849246231155779,
          2.8844221105527637,
          2.919597989949749,
          2.9547738693467336,
          2.9899497487437188,
          3.0251256281407035,
          3.0603015075376883,
          3.0954773869346734,
          3.130653266331658,
          3.1658291457286434,
          3.201005025125628,
          3.236180904522613,
          3.271356783919598,
          3.306532663316583,
          3.341708542713568,
          3.3768844221105527,
          3.4120603015075375,
          3.4472361809045227,
          3.4824120603015074,
          3.4999999,
          3.5000001,
          3.5175879396984926,
          3.5527638190954773,
          3.587939698492462,
          3.6231155778894473,
          3.658291457286432,
          3.693467336683417,
          3.728643216080402,
          3.7638190954773867,
          3.798994974874372,
          3.8341708542713566,
          3.869346733668342,
          3.9045226130653266,
          3.9396984924623117,
          3.9748743718592965,
          3.9999999,
          4.0000001,
          4.010050251256281,
          4.045226130653266,
          4.080402010050252,
          4.115577889447236,
          4.150753768844221,
          4.185929648241206,
          4.221105527638191,
          4.256281407035176,
          4.291457286432161,
          4.326633165829145,
          4.36180904522613,
          4.396984924623116,
          4.432160804020101,
          4.467336683417085,
          4.50251256281407,
          4.5376884422110555,
          4.57286432160804,
          4.608040201005025,
          4.64321608040201,
          4.678391959798995,
          4.71356783919598,
          4.748743718592965,
          4.78391959798995,
          4.819095477386934,
          4.8542713567839195,
          4.889447236180905,
          4.924623115577889,
          4.959798994974874,
          4.994974874371859,
          4.9999999,
          5.0000001,
          5.030150753768845,
          5.065326633165829,
          5.100502512562814,
          5.135678391959799,
          5.1708542713567835,
          5.206030150753769,
          5.241206030150754,
          5.276381909547738,
          5.311557788944723,
          5.346733668341709,
          5.381909547738694,
          5.417085427135678,
          5.452261306532663,
          5.4874371859296485,
          5.522613065326633,
          5.557788944723618,
          5.592964824120603,
          5.628140703517587,
          5.663316582914573,
          5.698492462311558,
          5.733668341708543,
          5.768844221105527,
          5.8040201005025125,
          5.839195979899498,
          5.874371859296482,
          5.909547738693467,
          5.944723618090452,
          5.9798994974874375,
          6.015075376884422,
          6.050251256281407,
          6.085427135678392,
          6.1206030150753765,
          6.155778894472362,
          6.190954773869347,
          6.226130653266331,
          6.261306532663316,
          6.296482412060302,
          6.331658291457287,
          6.366834170854271,
          6.402010050251256,
          6.437185929648241,
          6.472361809045226,
          6.507537688442211,
          6.542713567839196,
          6.57788944723618,
          6.613065326633166,
          6.648241206030151,
          6.683417085427136,
          6.71859296482412,
          6.7537688442211055,
          6.788944723618091,
          6.824120603015075,
          6.85929648241206,
          6.894472361809045,
          6.9296482412060305,
          6.964824120603015,
          6.9999999,
          7
         ],
         "xaxis": "x3",
         "y": [
          0,
          -2.3815384615384596e-7,
          -0.08377270970235788,
          -0.16754541940471576,
          -0.25131812910707363,
          -0.3350908388094315,
          -0.41886354851178936,
          -0.5026362582141473,
          -0.5864089679165052,
          -0.670181677618863,
          -0.7539543873212209,
          -0.8377270970235787,
          -0.9214998067259368,
          -1.0052725164282945,
          -1.0890452261306525,
          -1.1728179358330104,
          -1.2565906455353681,
          -1.340363355237726,
          -1.424136064940084,
          -1.5079087746424418,
          -1.5916814843447997,
          -1.6754541940471575,
          -1.7592269037495154,
          -1.8429996134518736,
          -1.9267723231542313,
          -2.010545032856589,
          -2.094317742558947,
          -2.178090452261305,
          -2.261863161963663,
          -2.345635871666021,
          -2.381538223384614,
          -2.381538699692296,
          -2.429004551167121,
          -2.510125812673726,
          -2.5887723891976293,
          -2.6649442807388293,
          -2.7386414872973273,
          -2.809864008873123,
          -2.8786118454662155,
          -2.9448849970766062,
          -3.008683463704294,
          -3.07000724534928,
          -3.128856342011563,
          -3.185230753691143,
          -3.2391304803880216,
          -3.2905555221021974,
          -3.339505878833671,
          -3.385981550582442,
          -3.4299825373485104,
          -3.4715088391318765,
          -3.5105604559325396,
          -3.5471373877505004,
          -3.581239634585759,
          -3.612867196438315,
          -3.642020073308169,
          -3.6686982651953204,
          -3.692901772099769,
          -3.714630594021515,
          -3.733884730960559,
          -3.7506641829169003,
          -3.7630768849230636,
          -3.763076861230756,
          -3.7599438242623986,
          -3.73659802685635,
          -3.7107775444676,
          -3.6824823770961457,
          -3.65171252474199,
          -3.6184679874051326,
          -3.5827487650855705,
          -3.5445548577833073,
          -3.503886265498342,
          -3.460742988230673,
          -3.415125025980304,
          -3.36703237874723,
          -3.316465046531456,
          -3.2634230293329773,
          -3.2079063271517967,
          -3.149914939987914,
          -3.0894488678413277,
          -3.02650811071204,
          -2.9610926686000507,
          -2.8932025415053566,
          -2.822837729427963,
          -2.7499982323678642,
          -2.674684050325065,
          -2.596895183299562,
          -2.5166316312913573,
          -2.4338933943004504,
          -2.3486804723268397,
          -2.260992865370527,
          -2.1708305734315116,
          -2.078193596509796,
          -1.9830819346053756,
          -1.8854955877182533,
          -1.78543455584843,
          -1.682898838995901,
          -1.5778884371606718,
          -1.4704033503427416,
          -1.3604435785421058,
          -1.248009121758769,
          -1.1330999799927293,
          -1.0157161532439867,
          -0.8958576415125457,
          -0.7735244447983964,
          -0.6487165631015488,
          -0.5853849772307518,
          -2.5853842535384475,
          -2.5214339964219947,
          -2.3916767447597422,
          -2.259444808114785,
          -2.1247381864871278,
          -1.9875568798767667,
          -1.8479008882837,
          -1.705770211707935,
          -1.5611648501494653,
          -1.4140848036082936,
          -1.2645300720844208,
          -1.1125006555778434,
          -0.9579965540885649,
          -0.8010177676165817,
          -0.641564296161901,
          -0.5261543079999829,
          -0.5261533843076869,
          -0.47973714727482886,
          -0.3172787011982905,
          -0.1548202551217539,
          0.007638190954779134,
          0.17009663703131395,
          0.33255508310785586,
          0.4950135291843889,
          0.657471975260929,
          0.8199304213374639,
          0.9823888674139987,
          1.1448473134905335,
          1.3073057595670736,
          1.4697642056436138,
          1.6322226517201486,
          1.7946810977966834,
          1.9571395438732182,
          2.119597989949753,
          2.282056436026293,
          2.4445148821028333,
          2.606973328179368,
          2.769431774255901,
          2.9318902203324377,
          3.094348666408978,
          3.256807112485511,
          3.4192655585620493,
          3.581724004638586,
          3.7441824507151207,
          3.9066408967916573,
          4.069099342868196,
          4.092307230461547,
          4.092307385384622,
          3.999768071124862,
          3.891805179744889,
          3.7838422883649088,
          3.6758793969849286,
          3.5679165056049555,
          3.459953614224979,
          3.3519907228450023,
          3.2440278314650257,
          3.1360649400850438,
          3.028102048705069,
          2.9201391573250923,
          2.8121762659451157,
          2.7042133745651356,
          2.596250483185157,
          2.4882875918051877,
          2.3803247004252057,
          2.2723618090452256,
          2.1643989176652525,
          2.056436026285276,
          1.9484731349052993,
          1.8405102435253156,
          1.7325473521453425,
          1.624584460765366,
          1.5166215693853893,
          1.4086586780054127,
          1.3006957866254325,
          1.1927328952454594,
          1.0847700038654793,
          0.9768071124855027,
          0.8688442211055261,
          0.7608813297255423,
          0.6529184383455728,
          0.5449555469655927,
          0.43699265558561606,
          0.329029764205643,
          0.22106687282566284,
          0.11310398144568978,
          0.0051410900657060665,
          -0.10282180131426699,
          -0.21078469269424716,
          -0.31874758407422377,
          -0.4267104754542004,
          -0.534673366834177,
          -0.6426362582141572,
          -0.7505991495941338,
          -0.8585620409741104,
          -0.9665249323540834,
          -1.0744878237340671,
          -1.1824507151140367,
          -1.2904136064940168,
          -1.3983764978739934,
          -1.5063393892539736,
          -1.6143022806339467,
          -1.7222651720139268,
          -1.8302280633939034,
          -1.9381909547738836,
          -2.0461535392307795,
          -2.0461538461538566
         ],
         "yaxis": "y3"
        },
        {
         "fill": "tozeroy",
         "hovertemplate": "x: %{x:.3f} m <br>f(x): %{y:.3f} ",
         "line": {
          "color": "blue",
          "width": 1
         },
         "mode": "lines",
         "name": "Deflection",
         "type": "scatter",
         "x": [
          0,
          1e-7,
          0.035175879396984924,
          0.07035175879396985,
          0.10552763819095477,
          0.1407035175879397,
          0.1758793969849246,
          0.21105527638190955,
          0.24623115577889448,
          0.2814070351758794,
          0.3165829145728643,
          0.3517587939698492,
          0.3869346733668342,
          0.4221105527638191,
          0.457286432160804,
          0.49246231155778897,
          0.5276381909547738,
          0.5628140703517588,
          0.5979899497487438,
          0.6331658291457286,
          0.6683417085427136,
          0.7035175879396984,
          0.7386934673366834,
          0.7738693467336684,
          0.8090452261306532,
          0.8442211055276382,
          0.8793969849246231,
          0.914572864321608,
          0.949748743718593,
          0.9849246231155779,
          0.9999999,
          1.0000001,
          1.020100502512563,
          1.0552763819095476,
          1.0904522613065326,
          1.1256281407035176,
          1.1608040201005025,
          1.1959798994974875,
          1.2311557788944723,
          1.2663316582914572,
          1.3015075376884422,
          1.3366834170854272,
          1.3718592964824121,
          1.4070351758793969,
          1.4422110552763818,
          1.4773869346733668,
          1.5125628140703518,
          1.5477386934673367,
          1.5829145728643217,
          1.6180904522613064,
          1.6532663316582914,
          1.6884422110552764,
          1.7236180904522613,
          1.7587939698492463,
          1.793969849246231,
          1.829145728643216,
          1.864321608040201,
          1.899497487437186,
          1.934673366834171,
          1.9698492462311559,
          1.9999999,
          2.0000001,
          2.0050251256281406,
          2.040201005025126,
          2.0753768844221105,
          2.1105527638190953,
          2.1457286432160805,
          2.180904522613065,
          2.2160804020100504,
          2.251256281407035,
          2.28643216080402,
          2.321608040201005,
          2.35678391959799,
          2.391959798994975,
          2.4271356783919598,
          2.4623115577889445,
          2.4974874371859297,
          2.5326633165829144,
          2.5678391959798996,
          2.6030150753768844,
          2.638190954773869,
          2.6733668341708543,
          2.708542713567839,
          2.7437185929648242,
          2.778894472361809,
          2.8140703517587937,
          2.849246231155779,
          2.8844221105527637,
          2.919597989949749,
          2.9547738693467336,
          2.9899497487437188,
          3.0251256281407035,
          3.0603015075376883,
          3.0954773869346734,
          3.130653266331658,
          3.1658291457286434,
          3.201005025125628,
          3.236180904522613,
          3.271356783919598,
          3.306532663316583,
          3.341708542713568,
          3.3768844221105527,
          3.4120603015075375,
          3.4472361809045227,
          3.4824120603015074,
          3.4999999,
          3.5000001,
          3.5175879396984926,
          3.5527638190954773,
          3.587939698492462,
          3.6231155778894473,
          3.658291457286432,
          3.693467336683417,
          3.728643216080402,
          3.7638190954773867,
          3.798994974874372,
          3.8341708542713566,
          3.869346733668342,
          3.9045226130653266,
          3.9396984924623117,
          3.9748743718592965,
          3.9999999,
          4.0000001,
          4.010050251256281,
          4.045226130653266,
          4.080402010050252,
          4.115577889447236,
          4.150753768844221,
          4.185929648241206,
          4.221105527638191,
          4.256281407035176,
          4.291457286432161,
          4.326633165829145,
          4.36180904522613,
          4.396984924623116,
          4.432160804020101,
          4.467336683417085,
          4.50251256281407,
          4.5376884422110555,
          4.57286432160804,
          4.608040201005025,
          4.64321608040201,
          4.678391959798995,
          4.71356783919598,
          4.748743718592965,
          4.78391959798995,
          4.819095477386934,
          4.8542713567839195,
          4.889447236180905,
          4.924623115577889,
          4.959798994974874,
          4.994974874371859,
          4.9999999,
          5.0000001,
          5.030150753768845,
          5.065326633165829,
          5.100502512562814,
          5.135678391959799,
          5.1708542713567835,
          5.206030150753769,
          5.241206030150754,
          5.276381909547738,
          5.311557788944723,
          5.346733668341709,
          5.381909547738694,
          5.417085427135678,
          5.452261306532663,
          5.4874371859296485,
          5.522613065326633,
          5.557788944723618,
          5.592964824120603,
          5.628140703517587,
          5.663316582914573,
          5.698492462311558,
          5.733668341708543,
          5.768844221105527,
          5.8040201005025125,
          5.839195979899498,
          5.874371859296482,
          5.909547738693467,
          5.944723618090452,
          5.9798994974874375,
          6.015075376884422,
          6.050251256281407,
          6.085427135678392,
          6.1206030150753765,
          6.155778894472362,
          6.190954773869347,
          6.226130653266331,
          6.261306532663316,
          6.296482412060302,
          6.331658291457287,
          6.366834170854271,
          6.402010050251256,
          6.437185929648241,
          6.472361809045226,
          6.507537688442211,
          6.542713567839196,
          6.57788944723618,
          6.613065326633166,
          6.648241206030151,
          6.683417085427136,
          6.71859296482412,
          6.7537688442211055,
          6.788944723618091,
          6.824120603015075,
          6.85929648241206,
          6.894472361809045,
          6.9296482412060305,
          6.964824120603015,
          6.9999999,
          7
         ],
         "xaxis": "x4",
         "y": [
          0,
          2.8856778580535475e-7,
          0.10149671160503167,
          0.20293615495960457,
          0.30426106181325996,
          0.405414163915539,
          0.5063381930159829,
          0.6069758808641333,
          0.707269959209531,
          0.8071631598017173,
          0.9065982143902335,
          1.0055178547246206,
          1.1038648125544206,
          1.201581819629174,
          1.2986116076984222,
          1.3948969085117067,
          1.490380453818568,
          1.5850049753685487,
          1.6787132049111886,
          1.7714478741960296,
          1.8631517149726131,
          1.9537674589904797,
          2.043237837999172,
          2.1315055837482295,
          2.2185134279871943,
          2.304204102465608,
          2.3885203389330107,
          2.4714048691389445,
          2.552800424832951,
          2.632649737764571,
          2.6663831176370536,
          2.6663835631959154,
          2.7108955471990184,
          2.7874809921706865,
          2.862350619375918,
          2.9354506648639207,
          3.006729056414777,
          3.076135413539443,
          3.14362104747975,
          3.2091389612084016,
          3.2726438494289773,
          3.3340920985759284,
          3.3934417868145808,
          3.4506526840411347,
          3.5056862518826652,
          3.5585056436971185,
          3.6090757045733177,
          3.657362971330959,
          3.7033356725206095,
          3.7469637284237156,
          3.7882187510525935,
          3.827074044150436,
          3.863504603191306,
          3.897487115380145,
          3.928999959652766,
          3.958023206675855,
          3.984538618846975,
          4.008529650294559,
          4.029981446877917,
          4.048880846187232,
          4.063040046833823,
          4.063040134494965,
          4.065216389228083,
          4.078984244474028,
          4.090197847597142,
          4.098874849857101,
          4.105034594244446,
          4.108698115480602,
          4.10988814001786,
          4.10862908603939,
          4.104947063459232,
          4.098869873922302,
          4.090427010804391,
          4.079649659212162,
          4.066570695983153,
          4.051224689685774,
          4.033647900619312,
          4.013878280813926,
          3.9919554740306484,
          3.967920815761389,
          3.941817333228928,
          3.9136897453869177,
          3.883584462919889,
          3.8515495882432442,
          3.8176349155032634,
          3.781891930577093,
          3.7443738110727596,
          3.7051354263291643,
          3.6642333374160754,
          3.621725797134139,
          3.577672750014879,
          3.532135832320691,
          3.4851783720448397,
          3.4368653889114658,
          3.3872635943755887,
          3.3364413916231,
          3.28446887557076,
          3.2314178328662075,
          3.1773617418879554,
          3.1223757727453867,
          3.066536787278764,
          3.0099233390592217,
          2.9526156733887663,
          2.8946957273002747,
          2.8362471295575116,
          2.8068513503187544,
          2.806851015455452,
          2.7771842969960705,
          2.716568819887301,
          2.6543184985285544,
          2.5905237286070784,
          2.5252765975410014,
          2.45867088447932,
          2.3908020603019113,
          2.321767287619513,
          2.2516654207737576,
          2.1805970058371296,
          2.1086642806130036,
          2.035971174635621,
          1.9626233091700953,
          1.8887279972124222,
          1.8356709864570224,
          1.835670563337584,
          1.8143942430197233,
          1.7397325518404854,
          1.6648539642973743,
          1.5898695393619025,
          1.5148903360055535,
          1.440027413199846,
          1.3653918299162475,
          1.291094645126266,
          1.2172469178014236,
          1.1439597069131926,
          1.0713440714330718,
          0.9995110703325354,
          0.9285717625831253,
          0.8586372071563106,
          0.7898184630236029,
          0.7222265891564703,
          0.6559726445264582,
          0.5911676881050267,
          0.527922778863676,
          0.4663489757739221,
          0.4065573378072447,
          0.3486589239351279,
          0.29276479312909665,
          0.23898600436064044,
          0.18743361660125935,
          0.13821868882241262,
          0.09145227999565542,
          0.04724544909244699,
          0.005709255084296316,
          1.1304720537452795e-7,
          -1.1304714853110909e-7,
          -0.033064645691222694,
          -0.06910433629927581,
          -0.10248353192559989,
          -0.1332760375828812,
          -0.16155565828382024,
          -0.18739619904113347,
          -0.21087146486751784,
          -0.23205526077567384,
          -0.2510213917782984,
          -0.2678436628881151,
          -0.28259587911778183,
          -0.295351845480063,
          -0.30618536698764487,
          -0.3151702486532173,
          -0.3223802954894772,
          -0.32788931250912867,
          -0.3317711047249041,
          -0.3340994771494934,
          -0.3349482347955792,
          -0.33439118267587986,
          -0.33250212580311356,
          -0.3293548691899595,
          -0.325023217849143,
          -0.31958097679333264,
          -0.3131019510352715,
          -0.3056599455876956,
          -0.29732876546319886,
          -0.2881822156745635,
          -0.2782941012344615,
          -0.2677382271556574,
          -0.25658839845078063,
          -0.24491842013258136,
          -0.23280209721374945,
          -0.22031323470696407,
          -0.20752563762496834,
          -0.19451311098040236,
          -0.18134945978604833,
          -0.16810848905456766,
          -0.1548640037986715,
          -0.1416898090311065,
          -0.12865970976449148,
          -0.11584751101156598,
          -0.10332701778504116,
          -0.09117203509763527,
          -0.07945636796205946,
          -0.06825382139099645,
          -0.057638200397057915,
          -0.04768330999314685,
          -0.0384629551918394,
          -0.030050941005811183,
          -0.02252107244780177,
          -0.01594715453055784,
          -0.010402992266755007,
          -0.005962390669076001,
          -0.0026991547502888125,
          -0.0006870895230051133,
          2.842170943040401e-14,
          2.1316282072803006e-14
         ],
         "yaxis": "y4"
        }
       ],
       "layout": {
        "annotations": [
         {
          "font": {
           "size": 16
          },
          "showarrow": false,
          "text": "Normal Force Diagram",
          "x": 0.5,
          "xanchor": "center",
          "xref": "paper",
          "y": 1,
          "yanchor": "bottom",
          "yref": "paper"
         },
         {
          "font": {
           "size": 16
          },
          "showarrow": false,
          "text": "Shear Force Diagram",
          "x": 0.5,
          "xanchor": "center",
          "xref": "paper",
          "y": 0.7375,
          "yanchor": "bottom",
          "yref": "paper"
         },
         {
          "font": {
           "size": 16
          },
          "showarrow": false,
          "text": "Bending Moment Diagram",
          "x": 0.5,
          "xanchor": "center",
          "xref": "paper",
          "y": 0.475,
          "yanchor": "bottom",
          "yref": "paper"
         },
         {
          "font": {
           "size": 16
          },
          "showarrow": false,
          "text": "Deflection Diagram",
          "x": 0.5,
          "xanchor": "center",
          "xref": "paper",
          "y": 0.2125,
          "yanchor": "bottom",
          "yref": "paper"
         }
        ],
        "height": 1000,
        "showlegend": false,
        "template": {
         "data": {
          "bar": [
           {
            "error_x": {
             "color": "#2a3f5f"
            },
            "error_y": {
             "color": "#2a3f5f"
            },
            "marker": {
             "line": {
              "color": "#E5ECF6",
              "width": 0.5
             }
            },
            "type": "bar"
           }
          ],
          "barpolar": [
           {
            "marker": {
             "line": {
              "color": "#E5ECF6",
              "width": 0.5
             }
            },
            "type": "barpolar"
           }
          ],
          "carpet": [
           {
            "aaxis": {
             "endlinecolor": "#2a3f5f",
             "gridcolor": "white",
             "linecolor": "white",
             "minorgridcolor": "white",
             "startlinecolor": "#2a3f5f"
            },
            "baxis": {
             "endlinecolor": "#2a3f5f",
             "gridcolor": "white",
             "linecolor": "white",
             "minorgridcolor": "white",
             "startlinecolor": "#2a3f5f"
            },
            "type": "carpet"
           }
          ],
          "choropleth": [
           {
            "colorbar": {
             "outlinewidth": 0,
             "ticks": ""
            },
            "type": "choropleth"
           }
          ],
          "contour": [
           {
            "colorbar": {
             "outlinewidth": 0,
             "ticks": ""
            },
            "colorscale": [
             [
              0,
              "#0d0887"
             ],
             [
              0.1111111111111111,
              "#46039f"
             ],
             [
              0.2222222222222222,
              "#7201a8"
             ],
             [
              0.3333333333333333,
              "#9c179e"
             ],
             [
              0.4444444444444444,
              "#bd3786"
             ],
             [
              0.5555555555555556,
              "#d8576b"
             ],
             [
              0.6666666666666666,
              "#ed7953"
             ],
             [
              0.7777777777777778,
              "#fb9f3a"
             ],
             [
              0.8888888888888888,
              "#fdca26"
             ],
             [
              1,
              "#f0f921"
             ]
            ],
            "type": "contour"
           }
          ],
          "contourcarpet": [
           {
            "colorbar": {
             "outlinewidth": 0,
             "ticks": ""
            },
            "type": "contourcarpet"
           }
          ],
          "heatmap": [
           {
            "colorbar": {
             "outlinewidth": 0,
             "ticks": ""
            },
            "colorscale": [
             [
              0,
              "#0d0887"
             ],
             [
              0.1111111111111111,
              "#46039f"
             ],
             [
              0.2222222222222222,
              "#7201a8"
             ],
             [
              0.3333333333333333,
              "#9c179e"
             ],
             [
              0.4444444444444444,
              "#bd3786"
             ],
             [
              0.5555555555555556,
              "#d8576b"
             ],
             [
              0.6666666666666666,
              "#ed7953"
             ],
             [
              0.7777777777777778,
              "#fb9f3a"
             ],
             [
              0.8888888888888888,
              "#fdca26"
             ],
             [
              1,
              "#f0f921"
             ]
            ],
            "type": "heatmap"
           }
          ],
          "heatmapgl": [
           {
            "colorbar": {
             "outlinewidth": 0,
             "ticks": ""
            },
            "colorscale": [
             [
              0,
              "#0d0887"
             ],
             [
              0.1111111111111111,
              "#46039f"
             ],
             [
              0.2222222222222222,
              "#7201a8"
             ],
             [
              0.3333333333333333,
              "#9c179e"
             ],
             [
              0.4444444444444444,
              "#bd3786"
             ],
             [
              0.5555555555555556,
              "#d8576b"
             ],
             [
              0.6666666666666666,
              "#ed7953"
             ],
             [
              0.7777777777777778,
              "#fb9f3a"
             ],
             [
              0.8888888888888888,
              "#fdca26"
             ],
             [
              1,
              "#f0f921"
             ]
            ],
            "type": "heatmapgl"
           }
          ],
          "histogram": [
           {
            "marker": {
             "colorbar": {
              "outlinewidth": 0,
              "ticks": ""
             }
            },
            "type": "histogram"
           }
          ],
          "histogram2d": [
           {
            "colorbar": {
             "outlinewidth": 0,
             "ticks": ""
            },
            "colorscale": [
             [
              0,
              "#0d0887"
             ],
             [
              0.1111111111111111,
              "#46039f"
             ],
             [
              0.2222222222222222,
              "#7201a8"
             ],
             [
              0.3333333333333333,
              "#9c179e"
             ],
             [
              0.4444444444444444,
              "#bd3786"
             ],
             [
              0.5555555555555556,
              "#d8576b"
             ],
             [
              0.6666666666666666,
              "#ed7953"
             ],
             [
              0.7777777777777778,
              "#fb9f3a"
             ],
             [
              0.8888888888888888,
              "#fdca26"
             ],
             [
              1,
              "#f0f921"
             ]
            ],
            "type": "histogram2d"
           }
          ],
          "histogram2dcontour": [
           {
            "colorbar": {
             "outlinewidth": 0,
             "ticks": ""
            },
            "colorscale": [
             [
              0,
              "#0d0887"
             ],
             [
              0.1111111111111111,
              "#46039f"
             ],
             [
              0.2222222222222222,
              "#7201a8"
             ],
             [
              0.3333333333333333,
              "#9c179e"
             ],
             [
              0.4444444444444444,
              "#bd3786"
             ],
             [
              0.5555555555555556,
              "#d8576b"
             ],
             [
              0.6666666666666666,
              "#ed7953"
             ],
             [
              0.7777777777777778,
              "#fb9f3a"
             ],
             [
              0.8888888888888888,
              "#fdca26"
             ],
             [
              1,
              "#f0f921"
             ]
            ],
            "type": "histogram2dcontour"
           }
          ],
          "mesh3d": [
           {
            "colorbar": {
             "outlinewidth": 0,
             "ticks": ""
            },
            "type": "mesh3d"
           }
          ],
          "parcoords": [
           {
            "line": {
             "colorbar": {
              "outlinewidth": 0,
              "ticks": ""
             }
            },
            "type": "parcoords"
           }
          ],
          "pie": [
           {
            "automargin": true,
            "type": "pie"
           }
          ],
          "scatter": [
           {
            "marker": {
             "colorbar": {
              "outlinewidth": 0,
              "ticks": ""
             }
            },
            "type": "scatter"
           }
          ],
          "scatter3d": [
           {
            "line": {
             "colorbar": {
              "outlinewidth": 0,
              "ticks": ""
             }
            },
            "marker": {
             "colorbar": {
              "outlinewidth": 0,
              "ticks": ""
             }
            },
            "type": "scatter3d"
           }
          ],
          "scattercarpet": [
           {
            "marker": {
             "colorbar": {
              "outlinewidth": 0,
              "ticks": ""
             }
            },
            "type": "scattercarpet"
           }
          ],
          "scattergeo": [
           {
            "marker": {
             "colorbar": {
              "outlinewidth": 0,
              "ticks": ""
             }
            },
            "type": "scattergeo"
           }
          ],
          "scattergl": [
           {
            "marker": {
             "colorbar": {
              "outlinewidth": 0,
              "ticks": ""
             }
            },
            "type": "scattergl"
           }
          ],
          "scattermapbox": [
           {
            "marker": {
             "colorbar": {
              "outlinewidth": 0,
              "ticks": ""
             }
            },
            "type": "scattermapbox"
           }
          ],
          "scatterpolar": [
           {
            "marker": {
             "colorbar": {
              "outlinewidth": 0,
              "ticks": ""
             }
            },
            "type": "scatterpolar"
           }
          ],
          "scatterpolargl": [
           {
            "marker": {
             "colorbar": {
              "outlinewidth": 0,
              "ticks": ""
             }
            },
            "type": "scatterpolargl"
           }
          ],
          "scatterternary": [
           {
            "marker": {
             "colorbar": {
              "outlinewidth": 0,
              "ticks": ""
             }
            },
            "type": "scatterternary"
           }
          ],
          "surface": [
           {
            "colorbar": {
             "outlinewidth": 0,
             "ticks": ""
            },
            "colorscale": [
             [
              0,
              "#0d0887"
             ],
             [
              0.1111111111111111,
              "#46039f"
             ],
             [
              0.2222222222222222,
              "#7201a8"
             ],
             [
              0.3333333333333333,
              "#9c179e"
             ],
             [
              0.4444444444444444,
              "#bd3786"
             ],
             [
              0.5555555555555556,
              "#d8576b"
             ],
             [
              0.6666666666666666,
              "#ed7953"
             ],
             [
              0.7777777777777778,
              "#fb9f3a"
             ],
             [
              0.8888888888888888,
              "#fdca26"
             ],
             [
              1,
              "#f0f921"
             ]
            ],
            "type": "surface"
           }
          ],
          "table": [
           {
            "cells": {
             "fill": {
              "color": "#EBF0F8"
             },
             "line": {
              "color": "white"
             }
            },
            "header": {
             "fill": {
              "color": "#C8D4E3"
             },
             "line": {
              "color": "white"
             }
            },
            "type": "table"
           }
          ]
         },
         "layout": {
          "annotationdefaults": {
           "arrowcolor": "#2a3f5f",
           "arrowhead": 0,
           "arrowwidth": 1
          },
          "autotypenumbers": "strict",
          "coloraxis": {
           "colorbar": {
            "outlinewidth": 0,
            "ticks": ""
           }
          },
          "colorscale": {
           "diverging": [
            [
             0,
             "#8e0152"
            ],
            [
             0.1,
             "#c51b7d"
            ],
            [
             0.2,
             "#de77ae"
            ],
            [
             0.3,
             "#f1b6da"
            ],
            [
             0.4,
             "#fde0ef"
            ],
            [
             0.5,
             "#f7f7f7"
            ],
            [
             0.6,
             "#e6f5d0"
            ],
            [
             0.7,
             "#b8e186"
            ],
            [
             0.8,
             "#7fbc41"
            ],
            [
             0.9,
             "#4d9221"
            ],
            [
             1,
             "#276419"
            ]
           ],
           "sequential": [
            [
             0,
             "#0d0887"
            ],
            [
             0.1111111111111111,
             "#46039f"
            ],
            [
             0.2222222222222222,
             "#7201a8"
            ],
            [
             0.3333333333333333,
             "#9c179e"
            ],
            [
             0.4444444444444444,
             "#bd3786"
            ],
            [
             0.5555555555555556,
             "#d8576b"
            ],
            [
             0.6666666666666666,
             "#ed7953"
            ],
            [
             0.7777777777777778,
             "#fb9f3a"
            ],
            [
             0.8888888888888888,
             "#fdca26"
            ],
            [
             1,
             "#f0f921"
            ]
           ],
           "sequentialminus": [
            [
             0,
             "#0d0887"
            ],
            [
             0.1111111111111111,
             "#46039f"
            ],
            [
             0.2222222222222222,
             "#7201a8"
            ],
            [
             0.3333333333333333,
             "#9c179e"
            ],
            [
             0.4444444444444444,
             "#bd3786"
            ],
            [
             0.5555555555555556,
             "#d8576b"
            ],
            [
             0.6666666666666666,
             "#ed7953"
            ],
            [
             0.7777777777777778,
             "#fb9f3a"
            ],
            [
             0.8888888888888888,
             "#fdca26"
            ],
            [
             1,
             "#f0f921"
            ]
           ]
          },
          "colorway": [
           "#636efa",
           "#EF553B",
           "#00cc96",
           "#ab63fa",
           "#FFA15A",
           "#19d3f3",
           "#FF6692",
           "#B6E880",
           "#FF97FF",
           "#FECB52"
          ],
          "font": {
           "color": "#2a3f5f"
          },
          "geo": {
           "bgcolor": "white",
           "lakecolor": "white",
           "landcolor": "#E5ECF6",
           "showlakes": true,
           "showland": true,
           "subunitcolor": "white"
          },
          "hoverlabel": {
           "align": "left"
          },
          "hovermode": "closest",
          "mapbox": {
           "style": "light"
          },
          "paper_bgcolor": "white",
          "plot_bgcolor": "#E5ECF6",
          "polar": {
           "angularaxis": {
            "gridcolor": "white",
            "linecolor": "white",
            "ticks": ""
           },
           "bgcolor": "#E5ECF6",
           "radialaxis": {
            "gridcolor": "white",
            "linecolor": "white",
            "ticks": ""
           }
          },
          "scene": {
           "xaxis": {
            "backgroundcolor": "#E5ECF6",
            "gridcolor": "white",
            "gridwidth": 2,
            "linecolor": "white",
            "showbackground": true,
            "ticks": "",
            "zerolinecolor": "white"
           },
           "yaxis": {
            "backgroundcolor": "#E5ECF6",
            "gridcolor": "white",
            "gridwidth": 2,
            "linecolor": "white",
            "showbackground": true,
            "ticks": "",
            "zerolinecolor": "white"
           },
           "zaxis": {
            "backgroundcolor": "#E5ECF6",
            "gridcolor": "white",
            "gridwidth": 2,
            "linecolor": "white",
            "showbackground": true,
            "ticks": "",
            "zerolinecolor": "white"
           }
          },
          "shapedefaults": {
           "line": {
            "color": "#2a3f5f"
           }
          },
          "ternary": {
           "aaxis": {
            "gridcolor": "white",
            "linecolor": "white",
            "ticks": ""
           },
           "baxis": {
            "gridcolor": "white",
            "linecolor": "white",
            "ticks": ""
           },
           "bgcolor": "#E5ECF6",
           "caxis": {
            "gridcolor": "white",
            "linecolor": "white",
            "ticks": ""
           }
          },
          "title": {
           "x": 0.05
          },
          "xaxis": {
           "automargin": true,
           "gridcolor": "white",
           "linecolor": "white",
           "ticks": "",
           "title": {
            "standoff": 15
           },
           "zerolinecolor": "white",
           "zerolinewidth": 2
          },
          "yaxis": {
           "automargin": true,
           "gridcolor": "white",
           "linecolor": "white",
           "ticks": "",
           "title": {
            "standoff": 15
           },
           "zerolinecolor": "white",
           "zerolinewidth": 2
          }
         }
        },
        "title": {
         "font": {
          "size": 24
         },
         "text": "Analysis Results",
         "x": 0.5
        },
        "width": 700,
        "xaxis": {
         "anchor": "y",
         "domain": [
          0,
          1
         ],
         "matches": "x4",
         "showticklabels": false
        },
        "xaxis2": {
         "anchor": "y2",
         "domain": [
          0,
          1
         ],
         "matches": "x4",
         "showticklabels": false
        },
        "xaxis3": {
         "anchor": "y3",
         "domain": [
          0,
          1
         ],
         "matches": "x4",
         "showticklabels": false
        },
        "xaxis4": {
         "anchor": "y4",
         "domain": [
          0,
          1
         ],
         "title": {
          "text": "Beam Length (m)"
         }
        },
        "yaxis": {
         "anchor": "x",
         "domain": [
          0.7875,
          1
         ],
         "title": {
          "text": "Normal Force (kN)"
         }
        },
        "yaxis2": {
         "anchor": "x2",
         "domain": [
          0.525,
          0.7375
         ],
         "title": {
          "text": "Shear Force (kN)"
         }
        },
        "yaxis3": {
         "anchor": "x3",
         "domain": [
          0.2625,
          0.475
         ],
         "title": {
          "text": "Bending Moment (kN.m)"
         }
        },
        "yaxis4": {
         "anchor": "x4",
         "domain": [
          0,
          0.2125
         ],
         "title": {
          "text": "Deflection (mm)"
         }
        }
       }
      }
     },
     "metadata": {}
    }
   ],
   "source": [
    "##arbritrary example defined in README.md\n",
    "beam = Beam(7)                          # Initialize a Beam object of length 9m with E and I as defaults\n",
    "beam_2 = Beam(9,E=2000, I =100000)      # Initializa a Beam specifying some beam parameters\n",
    "\n",
    "a = Support(5,(1,1,0))                  # Defines a pin support at location x = 5m  \n",
    "b = Support(0,(0,1,0))                  # Defines a roller support at location x = 0m\n",
    "c = Support(7,(1,1,1))                  # Defines a fixed support at location x = 7m\n",
    "beam.add_supports(a,b,c)    \n",
    "\n",
    "load_1 = PointLoadV(1,2)                # Defines a point load of 1kn acting up, at location x = 2m\n",
    "load_2 = DistributedLoadV(2,(1,4))      # Defines a 2kN UDL from location x = 1m to x = 4m \n",
    "load_3 = PointTorque(2, 3.5)            # Defines a 2kN.m point torque at location x = 3.5m\n",
    "beam.add_loads(load_1,load_2,load_3)    # Assign the support objects to a beam object created earlier\n",
    "\n",
    "beam.analyse()\n",
    "\n",
    "fig_1 = beam.plot_beam_external()\n",
    "fig_1.show()\n",
    "\n",
    "fig_2 = beam.plot_beam_internal()\n",
    "fig_2.show()\n",
    "\n",
    "fig_1.write_image(\"./readme_example_diagram.png\")\n",
    "fig_2.write_image(\"./readme_example_internal.png\")\n",
    "fig_1.write_html(\"./readme_example_diagram.html\")\n",
    "fig_2.write_html(\"./readme_example_internal.html\")"
   ]
  },
  {
   "source": [
    "## 2(b). Additional Features (Readme example)"
   ],
   "cell_type": "markdown",
   "metadata": {}
  },
  {
   "cell_type": "code",
   "execution_count": null,
   "metadata": {
    "ExecuteTime": {
     "end_time": "2019-05-08T12:22:38.894727Z",
     "start_time": "2019-05-08T12:22:37.765381Z"
    }
   },
   "outputs": [],
   "source": [
    "# Run section 2 (prior to running this example)   \n",
    "\n",
    "##query for the data at a specfic point\n",
    "print(\"bending moments at 3m: \" + str(beam.get_bending_moment(3)))\n",
    "print(\"shear forces at 1,2,3,4,5m points: \" + str(beam.get_shear_force(1,2,3,4,5)))\n",
    "print(\"normal force absolute max: \" + str(beam.get_normal_force(return_absmax=True)))\n",
    "print(\"deflection max: \" + str(beam.get_deflection(return_max = True)))   \n",
    "\n",
    "##add a query point to a plot (adds values on plot)\n",
    "beam.add_query_points(1,3,5)\n",
    "beam.remove_query_points(5)\n",
    "\n",
    "## plot the results for the beam\n",
    "fig = beam.plot_beam_internal()\n",
    "fig.show()"
   ]
  },
  {
   "source": [
    "## 3. Support class breakdown"
   ],
   "cell_type": "markdown",
   "metadata": {}
  },
  {
   "cell_type": "code",
   "execution_count": null,
   "metadata": {},
   "outputs": [],
   "source": [
    "# The parameters for a support class are as below, taken from the docstring\n",
    "# for the Support class __init__ method.\n",
    "\n",
    "# Parameters:\n",
    "#         -----------\n",
    "#         coord: float\n",
    "#             x coordinate of support on a beam (default 0)\n",
    "#         fixed: tuple of 3 booleans\n",
    "#             Degrees of freedom that are fixed on a beam for movement in\n",
    "#             x, y and bending, 1 represents fixed and 0 represents free\n",
    "#             (default (1,1,1))\n",
    "#         kx :\n",
    "#             stiffness of x support (kN/mm), if set will overide the\n",
    "#             value placed in the fixed tuple. (default = None)\n",
    "#         ky : (positive number)\n",
    "#             stiffness of y support (kN/mm), if set will overide the\n",
    "#             value placed in the fixed tuple. (default = None)\n",
    "\n",
    "\n",
    "# Lets define every possible degree of freedom combination for\n",
    "# supports below, and view them on a plot:\n",
    "support_0 = Support(0, (1,1,1))     # conventional fixed support\n",
    "support_1 = Support(1, (1,1,0))     # conventional pin support\n",
    "support_2 = Support(2, (1,0,1))     \n",
    "support_3 = Support(3, (0,1,1))\n",
    "support_4 = Support(4, (0,0,1))\n",
    "support_5 = Support(5, (0,1,0))     # conventional roller support\n",
    "support_6 = Support(6, (1,0,0))\n",
    "\n",
    "# Note we could also explicitly define parameters as follows:\n",
    "support_0 = Support(coord=0, fixed=(1,1,1))\n",
    "\n",
    "# Now lets define some spring supports\n",
    "support_7 = Support(7, (0,0,0), kx = 10)    #spring in x direction only\n",
    "support_8 = Support(8, (0,0,0), ky = 5)     # spring in y direction only\n",
    "support_9 = Support(9, (0,0,0), kx = 100, ky = 100)     # spring in x and y direction\n",
    "\n",
    "# Now lets define a support which is fixed in one degree of freedom\n",
    "# but has a spring stiffness in another degree of freedom\n",
    "support_10 = Support(10, (0,1,0), kx = 10) #spring in x direction, fixed in y direction\n",
    "support_11 = Support(11, (0,1,1), kx = 10) #spring in x direction, fixed in y and m direction\n",
    "\n",
    "# Note we could also do the following for the same result since the spring\n",
    "# stiffness overides the fixed boolean in respective directions\n",
    "support_10 = Support(10, (1,1,0), kx =10)\n",
    "\n",
    "# Now lets plot all the supports we have created\n",
    "beam = Beam(11)\n",
    "\n",
    "beam.add_supports(\n",
    "    support_0,\n",
    "    support_1,\n",
    "    support_2,\n",
    "    support_3,\n",
    "    support_4,\n",
    "    support_5,\n",
    "    support_6,\n",
    "    support_7,\n",
    "    support_8,\n",
    "    support_9,\n",
    "    support_10,\n",
    "    support_11,\n",
    ")\n",
    "\n",
    "fig = beam.plot_beam_diagram()\n",
    "fig.show()"
   ]
  },
  {
   "source": [
    "## 4. Load classes breakdown"
   ],
   "cell_type": "markdown",
   "metadata": {}
  },
  {
   "source": [
    "### 4.1 Point Torque"
   ],
   "cell_type": "markdown",
   "metadata": {}
  },
  {
   "cell_type": "code",
   "execution_count": null,
   "metadata": {},
   "outputs": [],
   "source": [
    "# defined using a force (technically a moment, however force is used to maintain consistenct for all load classes) and a coordinate. An anti-clockwise moment is positive by convention of this package.\n",
    "load_1 = PointTorque(force=1, coord=1)\n",
    "load_2 = PointTorque(force=-1, coord=2)\n",
    "\n",
    "# Plotting the loads\n",
    "beam = Beam(3)\n",
    "beam.add_loads(\n",
    "    load_1,\n",
    "    load_2\n",
    ")\n",
    "\n",
    "fig = beam.plot_beam_diagram()\n",
    "fig.show()"
   ]
  },
  {
   "source": [
    "### 4.2 Point Load"
   ],
   "cell_type": "markdown",
   "metadata": {}
  },
  {
   "cell_type": "code",
   "execution_count": null,
   "metadata": {},
   "outputs": [],
   "source": [
    "# defined by force, coord and angle (0)\n",
    "load_1 = PointLoad(force=1, coord=1, angle=0)\n",
    "load_2 = PointLoad(force=1, coord=2, angle=45)\n",
    "load_3 = PointLoad(force=1, coord=3, angle=90)\n",
    "\n",
    "# Plotting the loads\n",
    "beam = Beam(4)\n",
    "beam.add_loads(\n",
    "    load_1,\n",
    "    load_2,\n",
    "    load_3\n",
    ")\n",
    "\n",
    "fig = beam.plot_beam_diagram()\n",
    "fig.show()"
   ]
  },
  {
   "source": [
    "### 4.3 Uniformly Distributed Load (UDL)"
   ],
   "cell_type": "markdown",
   "metadata": {}
  },
  {
   "cell_type": "code",
   "execution_count": null,
   "metadata": {},
   "outputs": [],
   "source": [
    "# defined by force, span (tuple with start and end point) \n",
    "# and angle of force\n",
    "load_1 = UDL(force=1, span=(1,2), angle = 0)\n",
    "load_2 = UDL(force=1, span=(3,4), angle = 45)\n",
    "load_3 = UDL(force=1, span=(5,6), angle = 90)\n",
    "\n",
    "# Plotting the loads\n",
    "beam = Beam(7)\n",
    "beam.add_loads(\n",
    "    load_1,\n",
    "    load_2,\n",
    "    load_3\n",
    ")\n",
    "\n",
    "fig = beam.plot_beam_diagram()\n",
    "fig.show()"
   ]
  },
  {
   "source": [
    "### 4.4 Trapezoidal Load"
   ],
   "cell_type": "markdown",
   "metadata": {}
  },
  {
   "cell_type": "code",
   "execution_count": null,
   "metadata": {},
   "outputs": [],
   "source": [
    "# defined by force (tuple with start and end force), \n",
    "# span (tuple with start and end point) and angle of force\n",
    "load_1 = TrapezoidalLoad(force=(1,2), span=(1,2), angle = 0)\n",
    "load_2 = TrapezoidalLoad(force=(-1,-2), span=(3,4), angle = 45)\n",
    "load_3 = TrapezoidalLoad(force=(-1,2), span=(5,6), angle = 90)\n",
    "\n",
    "# Plotting the loads\n",
    "beam = Beam(7)\n",
    "beam.add_loads(\n",
    "    load_1,\n",
    "    load_2,\n",
    "    load_3\n",
    ")\n",
    "\n",
    "fig = beam.plot_beam_diagram()\n",
    "fig.show()"
   ]
  },
  {
   "source": [
    "### 4.5 Distributed Load"
   ],
   "cell_type": "markdown",
   "metadata": {}
  },
  {
   "cell_type": "code",
   "execution_count": null,
   "metadata": {},
   "outputs": [],
   "source": [
    "# defined with Sympy expression of the distributed load function \n",
    "# expressed using variable x which represents the beam x-coordinate. \n",
    "# Requires quotation marks around expression. As with the UDL and \n",
    "# Trapezoidal load classes other parameters to express are the span \n",
    "# (tuple with start and end point) and angle of force.\n",
    "# NOTE: where UDL or Trapezoidal load classes can be spefied (linear functions)\n",
    "# they should be used for quicker analysis times.\n",
    "\n",
    "load_1 = DistributedLoad(expr= \"2\", span=(1,2), angle = 0)\n",
    "load_2 = DistributedLoad(expr= \"2*(x-6)**2 -5\", span=(3,4), angle = 45)\n",
    "load_3 = DistributedLoad(expr= \"cos(5*x)\", span=(5,6), angle = 90)\n",
    "\n",
    "# Plotting the loads\n",
    "beam = Beam(7)\n",
    "beam.add_loads(\n",
    "    load_1,\n",
    "    load_2,\n",
    "    load_3\n",
    ")\n",
    "\n",
    "fig = beam.plot_beam_diagram()\n",
    "fig.show()"
   ]
  },
  {
   "source": [
    "### 4.6 Vertical and Horizontal load child classes"
   ],
   "cell_type": "markdown",
   "metadata": {}
  },
  {
   "cell_type": "code",
   "execution_count": null,
   "metadata": {},
   "outputs": [],
   "source": [
    "# for all loads except the point torque an angle is specified for the\n",
    "# direction of the load. If the load to be specified is to be completely\n",
    "# vertical or completely horizontal a V (vertical) or a H (horizontal)\n",
    "# can be added at the end of the class name, and the angle does then\n",
    "# not need to be spefied.\n",
    "\n",
    "# The following two loads are equivalent horizontal loads\n",
    "load_1 = PointLoad(force=1, coord=1, angle = 0)\n",
    "load_2 = PointLoadH(force=1, coord=2)\n",
    "\n",
    "# The following two loads are equivalent vertical loads\n",
    "load_3 = PointLoad(force=1, coord=3, angle = 90)\n",
    "load_4 = PointLoadV(force=1, coord=4)\n",
    "\n",
    "# The following two loads are also equivalent (a negative sign\n",
    "# esentially changes the load direction by 180 degrees).\n",
    "load_5 = PointLoad(force=1, coord=5, angle = 0)\n",
    "load_6 = PointLoad(force=-1, coord=6, angle = 180)\n",
    "\n",
    "\n",
    "# Plotting the loads\n",
    "beam = Beam(7)\n",
    "beam.add_loads(\n",
    "    load_1,\n",
    "    load_2,\n",
    "    load_3,\n",
    "    load_4,\n",
    "    load_5,\n",
    "    load_6\n",
    ")\n",
    "\n",
    "fig = beam.plot_beam_diagram()\n",
    "fig.show()"
   ]
  },
  {
   "source": [
    "## 5. STATICALLY DETERMINATE BEAM (Ex 12.14 Hibbeler)"
   ],
   "cell_type": "markdown",
   "metadata": {}
  },
  {
   "source": [
    "## Statically Determinate beam (Ex 12.14 Hibbeler)\n",
    "## Determine the reactions at the roller support B of the beam described below: \n",
    "## 3m long, fixed at A (x = 0m), roller support at B (x=3m), vertical point load at midpan of 8kN, UDL of 6kN/m, EI constant.\n",
    "\n",
    "beam = Beam(8, E=1, I = 10**12)     ##EI Defined to be 1 kN.m2 to get the deflection as a function of EI\n",
    "\n",
    "a = Support(0, (1,1,1))             ##explicitly stated although this is equivalent to Support() as the defaults are for a cantilever on the left of the beam.\n",
    "\n",
    "load_1 = TrapezoidalLoadV((-4,0),(0,6))\n",
    "\n",
    "beam.add_supports(a)\n",
    "beam.add_loads(load_1)\n",
    "\n",
    "beam.analyse()\n",
    "print(f\"Deflection is {beam.get_deflection(8)} kN.m3 / EI \")\n",
    "\n",
    "fig = beam.plot_beam_internal()  \n",
    "fig.show()\n",
    "# Note: all plots are correct, deflection graph shape is correct but for actual deflection values will need real EI properties.\n",
    "\n",
    "##save the results as a pdf (optional)\n",
    "# Can save figure using `fig.write_image(\"./results.pdf\")` (can change extension to be\n",
    "# png, jpg, svg or other formats as reired). Requires pip install -U kaleido\n"
   ],
   "cell_type": "code",
   "metadata": {},
   "execution_count": null,
   "outputs": []
  },
  {
   "source": [
    "## 6. STATICALLY INDETERMINATE BEAM (Ex 12.21 Hibbeler)"
   ],
   "cell_type": "markdown",
   "metadata": {}
  },
  {
   "cell_type": "code",
   "execution_count": null,
   "metadata": {},
   "outputs": [],
   "source": [
    "# Statically Indeterminate beam (Ex 12.21 Hibbeler)\n",
    "# Determine the reactions at the roller support B of the beam described below: \n",
    "# 3m long, fixed at A (x = 0m), roller support at B (x=3m), vertical point load at midpan of 8kN, UDL of 6kN/m, EI constant.\n",
    "\n",
    "beam = Beam(3)\n",
    "\n",
    "a = Support(0,(1,1,1))  \n",
    "b = Support(3,(0,1,0))\n",
    "\n",
    "load_1 = PointLoadV(-8,1.5)\n",
    "load_2 = UDLV(-6, (0,3))\n",
    "\n",
    "beam.add_supports(a,b)\n",
    "beam.add_loads(load_1,load_2)\n",
    "\n",
    "beam.analyse()\n",
    "\n",
    "print(f\"The beam has an absolute maximum shear force of: {beam.get_shear_force(return_absmax=True)} kN\")\n",
    "print(f\"The beam has an absolute maximum bending moment of: {beam.get_bending_moment(return_absmax=True)} kN.m\")\n",
    "print(f\"The beam has a vertical reaction at B of: {beam.get_reaction(3,'y')} kN\")\n",
    "\n",
    "fig1 = beam.plot_beam_external()  \n",
    "fig1.show()\n",
    "\n",
    "fig2 = beam.plot_beam_internal()  \n",
    "fig2.show()\n",
    "\n",
    "# fig1.write_image(\"./example_1_external.png\")\n",
    "# fig2.write_image(\"./example_1_internal.png\")\n",
    "\n",
    "\n"
   ]
  },
  {
   "source": [
    "## 7. SPRING SUPPORTED BEAM (Ex 12.16 Hibbeler)"
   ],
   "cell_type": "markdown",
   "metadata": {}
  },
  {
   "source": [
    "## Spring Supported beam (Ex 12.16 Hibbeler)\n",
    "## Determine the vertical displacement at x = 1m for the beam detailed below:\n",
    "## 3m long, spring of ky = 45kN/m at A (x = 0 m) and B (x = 3 m), vertical point load at x = 1m of 3 kN, E = 200GPa, I = 4.6875*10**-6 m4.\n",
    "\n",
    "##NOTE: BEWARE OF UNITS\n",
    "\n",
    "##when initializing beam we should specify E and I. Units should be expressed in MPa (N/mm2) for E, and mm4 for I\n",
    "beam = Beam(3, E=(200)*10**3, I=(4.6875*10**-6)*10**12)\n",
    "\n",
    "##creating supports, note that an x support must be specified even when there are no x forces. This will not affect the accuracy or reliability of results.\n",
    "##Also note that ky units are kN/m in the problem but must be in kN/mm for the program to work correctly.\n",
    "a = Support(0, (1,1,0), ky = 45*10**-3)   \n",
    "b = Support(3, (0,1,0), ky = 45*10**-3)\n",
    "\n",
    "load_1 = PointLoadV(-3,1)\n",
    "\n",
    "beam.add_supports(a,b)\n",
    "beam.add_loads(load_1)\n",
    "\n",
    "beam.analyse()\n",
    "\n",
    "beam.get_deflection(1)\n",
    "\n",
    "fig1 = beam.plot_beam_external()  \n",
    "fig1.show()\n",
    "\n",
    "fig2 = beam.plot_beam_internal()  \n",
    "fig2.show()\n",
    "\n",
    "##results in 38.46 mm deflection ~= 38.4mm specified in textbook (difference only due to their rounding)\n",
    "##can easily check reliability of answer by looking at deflection at the spring supports. Should equal F/k.\n",
    "## ie at support A (x = 0 m), the reaction force is 2kN by equilibrium, so our deflection is F/K = 2kn / 45*10-3 kN/mm = 44.4 mm (can be seen in plot)"
   ],
   "cell_type": "code",
   "metadata": {},
   "execution_count": null,
   "outputs": []
  },
  {
   "source": [
    "## 8. AXIAL LOADED INDETERMINATE BEAM (Ex 4.13 Hibbeler)"
   ],
   "cell_type": "markdown",
   "metadata": {}
  },
  {
   "cell_type": "code",
   "execution_count": null,
   "metadata": {},
   "outputs": [],
   "source": [
    "##AXIAL LOADED INDETERMINATE BEAM (Ex 4.13 Hibbeler)\n",
    "## A rod with constant EA has a force of 60kN applied at x =0.1, and the beam has fixed supports at x=0, and x =0.4. Determine the reaction forces.\n",
    "\n",
    "beam = Beam(0.4)\n",
    "\n",
    "a = Support()\n",
    "b = Support(0.4)\n",
    "\n",
    "load_1 = PointLoadH(-60, 0.1)\n",
    "\n",
    "beam.add_supports(a,b)\n",
    "beam.add_loads(load_1)\n",
    "\n",
    "beam.analyse()\n",
    "beam.plot_normal_force()\n"
   ]
  }
 ],
 "metadata": {
  "kernelspec": {
   "name": "python373jvsc74a57bd0d2ce483584a882ab0d75ff9a0d6636d89dc78737b0f0735b1fee6256ed14a010",
   "display_name": "Python 3.7.3 64-bit"
  },
  "language_info": {
   "codemirror_mode": {
    "name": "ipython",
    "version": 3
   },
   "file_extension": ".py",
   "mimetype": "text/x-python",
   "name": "python",
   "nbconvert_exporter": "python",
   "pygments_lexer": "ipython3",
   "version": "3.7.3"
  },
  "toc": {
   "base_numbering": 1,
   "nav_menu": {},
   "number_sections": true,
   "sideBar": true,
   "skip_h1_title": false,
   "title_cell": "Table of Contents",
   "title_sidebar": "Contents",
   "toc_cell": false,
   "toc_position": {},
   "toc_section_display": true,
   "toc_window_display": false
  },
  "varInspector": {
   "cols": {
    "lenName": 16,
    "lenType": 16,
    "lenVar": 40
   },
   "kernels_config": {
    "python": {
     "delete_cmd_postfix": "",
     "delete_cmd_prefix": "del ",
     "library": "var_list.py",
     "varRefreshCmd": "print(var_dic_list())"
    },
    "r": {
     "delete_cmd_postfix": ") ",
     "delete_cmd_prefix": "rm(",
     "library": "var_list.r",
     "varRefreshCmd": "cat(var_dic_list()) "
    }
   },
   "types_to_exclude": [
    "module",
    "function",
    "builtin_function_or_method",
    "instance",
    "_Feature"
   ],
   "window_display": false
  }
 },
 "nbformat": 4,
 "nbformat_minor": 2
}