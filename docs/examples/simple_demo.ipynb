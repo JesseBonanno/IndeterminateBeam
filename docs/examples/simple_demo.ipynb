{
 "cells": [
  {
   "source": [
    "# Indeterminate Beam calculator\n",
    "\n",
    "### Table of Contents\n",
    "1. Initialisation\n",
    "2. Detailed Examples\n",
    "3. Statically determinate beam (Ex 12.14 Hibbeler)\n",
    "4. Statically Indeterminate beam (Ex 12.21 Hibbeler)\n",
    "5. Spring supported beam deflection (Ex 12.16 Hibbeler)\n",
    "6. Axial Loaded Indeterminate Beam (Ex 4.13 Hibbeler)\n",
    "7. Arbitrary README.md example\n",
    "\n",
    "Note:\n",
    "You must always run the initialization cell first. \n",
    "Then you are free to move to any of the other sections as per the table of contents."
   ],
   "cell_type": "markdown",
   "metadata": {
    "ExecuteTime": {
     "end_time": "2018-08-02T13:35:01.752519Z",
     "start_time": "2018-08-02T13:35:01.747883Z"
    }
   }
  },
  {
   "source": [
    " ## 1. INITIALIZATION\n"
   ],
   "cell_type": "markdown",
   "metadata": {}
  },
  {
   "cell_type": "code",
   "execution_count": null,
   "metadata": {},
   "outputs": [],
   "source": [
    "# Run if using jupyter notebooks offline with package in folder, rather than installed\n",
    "import sys, os\n",
    "sys.path.insert(0, os.path.abspath('../../'))\n",
    "from indeterminatebeam import Beam, Support, DistributedLoadV, PointLoadH, PointLoadV, PointTorque, PointLoad, TrapezoidalLoadV, DistributedLoadH"
   ]
  },
  {
   "cell_type": "code",
   "execution_count": null,
   "metadata": {},
   "outputs": [],
   "source": [
    "##RUN THIS CELL FIRST TO INITIALISE GOOGLE NOTEBOOK!!!!\n",
    "!pip install indeterminatebeam\n",
    "%matplotlib inline\n",
    "from indeterminatebeam import Beam, Support, DistributedLoadV, PointLoadH, PointLoadV, PointTorque, PointLoad, TrapezoidalLoadV, DistributedLoadH\n"
   ]
  },
  {
   "source": [
    "## 2. DETAILED EXAMPLE"
   ],
   "cell_type": "markdown",
   "metadata": {}
  },
  {
   "cell_type": "code",
   "execution_count": null,
   "metadata": {
    "ExecuteTime": {
     "end_time": "2019-05-08T12:22:38.894727Z",
     "start_time": "2019-05-08T12:22:37.765381Z"
    }
   },
   "outputs": [],
   "source": [
    "##intialise a beam object\n",
    "beam_1 = Beam(5)                   ##intialises a 5m long beam (assuming E = 2*10**5 MPa, I = 6*10**7 mm4 )\n",
    "beam_2 = Beam(5, E=30000, I=50*10 **6)   ##intialises a 5m long beam assigning E and I.\n",
    "\n",
    "##create support objects\n",
    "a = Support(0,(1,1,1))      ##defines a fixed support at point 0m point\n",
    "b = Support(2,(0,1,0))      ##defines a roller support restaint only in the y direction at 2m point\n",
    "c = Support(5,(1,1,0))      ##defines pinned support at 5m point\n",
    "\n",
    "##add supports to beam object\n",
    "beam_1.add_supports(a,b,c)        ##create a statically indeterminate beam\n",
    "beam_2.add_supports(a,b,c)        ##intially create as a statically indeterminate beam\n",
    "beam_2.remove_supports(a)         ##remove support a to make beam statically determinate\n",
    "\n",
    "##create load objects\n",
    "load_1 = PointLoad(1,3,45)            ##create a point load of force 1kn acting at 3m point on beam, inclined at 45 degrees to horizontal. \n",
    "load_2 = DistributedLoadV(2,(0,1))    ##create a 2KN/m UDL from 0m to 1m point\n",
    "load_3 = PointTorque(3,4)             ##assign a point torque of 3kN.m at 4m point\n",
    "load_4 = TrapezoidalLoadV((-1,-5),(2,4))\n",
    "\n",
    "##add load objects to beams\n",
    "beam_1.add_loads(load_1,)                    ##add load_1 object to beam 1\n",
    "beam_1.add_loads(load_2,load_3,load_4)              ##add load_2 and load_3 object to beam 1\n",
    "beam_2.add_loads(load_1, load_2, load_3)     ##add load_1, load_2, load_3 object to beam 2\n",
    "beam_2.remove_loads(load_2)                  ##remove load 2 object from beam 2\n",
    "\n",
    "##compute solutions for beams\n",
    "beam_1.analyse()                             ##now that beam is all set up can solve for external and internal forces\n",
    "beam_2.analyse()                                \n"
   ]
  },
  {
   "cell_type": "code",
   "execution_count": null,
   "metadata": {},
   "outputs": [],
   "source": [
    "##query for the data at a specfic point\n",
    "print(\"bending moments at 3m: \" + str(beam_1.get_bending_moment(3)))\n",
    "print(\"shear forces at 1,2,3,4,5m points: \" + str(beam_1.get_shear_force(1,2,3,4,5)))\n",
    "print(\"normal force absolute max: \" + str(beam_1.get_normal_force(return_absmax=True)))\n",
    "print(\"deflection max: \" + str(beam_1.get_deflection(return_max = True)))\n"
   ]
  },
  {
   "source": [
    "##add a query point to a plot (adds values on plot)\n",
    "beam_1.add_query_points(1,3,5)\n",
    "beam_1.remove_query_points(5)\n",
    "\n",
    "## plot the results for the beam and save them as a pdf\n",
    "fig_1 = beam_1.plot_beam_internal()\n",
    "fig_1.show()\n",
    "\n",
    "fig_2 = beam_2.plot_beam_internal()\n",
    "fig_2.show()\n",
    "\n",
    "##save the results as a pdf (optional)\n",
    "# Can save figure using `fig.write_image(\"./results.pdf\")` (can change extension to be\n",
    "# png, jpg, svg or other formats as reired). Requires pip install -U kaleido\n"
   ],
   "cell_type": "code",
   "metadata": {},
   "execution_count": null,
   "outputs": []
  },
  {
   "source": [
    "## 3. STATICALLY DETERMINATE BEAM (Ex 12.14 Hibbeler)"
   ],
   "cell_type": "markdown",
   "metadata": {}
  },
  {
   "source": [
    "## Statically Determinate beam (Ex 12.14 Hibbeler)\n",
    "## Determine the reactions at the roller support B of the beam described below: \n",
    "## 3m long, fixed at A (x = 0m), roller support at B (x=3m), vertical point load at midpan of 8kN, UDL of 6kN/m, EI constant.\n",
    "\n",
    "beam = Beam(8, E=1, I = 10**12)     ##EI Defined to be 1 kN.m2 to get the deflection as a function of EI\n",
    "\n",
    "a = Support(0, (1,1,1))             ##explicitly stated although this is equivalent to Support() as the defaults are for a cantilever on the left of the beam.\n",
    "\n",
    "load_1 = TrapezoidalLoadV((-4,0),(0,6))\n",
    "\n",
    "beam.add_supports(a)\n",
    "beam.add_loads(load_1)\n",
    "\n",
    "beam.analyse()\n",
    "print(f\"Deflection is {beam.get_deflection(8)[0]} kN.m3 / EI \")\n",
    "\n",
    "fig = beam.plot_beam_internal()  \n",
    "fig.show()\n",
    "# Note: all plots are correct, deflection graph shape is correct but for actual deflection values will need real EI properties.\n",
    "\n",
    "##save the results as a pdf (optional)\n",
    "# Can save figure using `fig.write_image(\"./results.pdf\")` (can change extension to be\n",
    "# png, jpg, svg or other formats as reired). Requires pip install -U kaleido\n"
   ],
   "cell_type": "code",
   "metadata": {},
   "execution_count": null,
   "outputs": []
  },
  {
   "source": [
    "## 4. STATICALLY INDETERMINATE BEAM (Ex 12.21 Hibbeler)"
   ],
   "cell_type": "markdown",
   "metadata": {}
  },
  {
   "cell_type": "code",
   "execution_count": null,
   "metadata": {},
   "outputs": [],
   "source": [
    "## Statically Indeterminate beam (Ex 12.21 Hibbeler)\n",
    "## Determine the reactions at the roller support B of the beam described below: \n",
    "## 3m long, fixed at A (x = 0m), roller support at B (x=3m), vertical point load at midpan of 8kN, UDL of 6kN/m, EI constant.\n",
    "\n",
    "beam = Beam(3)\n",
    "\n",
    "a = Support(0,(1,1,1))  \n",
    "b = Support(3,(0,1,0))\n",
    "\n",
    "load_1 = PointLoadV(-8,1.5)\n",
    "load_2 = DistributedLoadV(-6, (0,3))\n",
    "\n",
    "beam.add_supports(a,b)\n",
    "beam.add_loads(load_1,load_2)\n",
    "\n",
    "beam.analyse()\n",
    "\n",
    "print(beam.get_reaction(3))  ##returns a list of reaction forces in the form ['x','y','z']\n",
    "\n",
    "beam.plot_beam_internal()\n",
    "beam.plot_beam_external()\n",
    "\n"
   ]
  },
  {
   "source": [
    "## 5. SPRING SUPPORTED BEAM (Ex 12.16 Hibbeler)"
   ],
   "cell_type": "markdown",
   "metadata": {}
  },
  {
   "source": [
    "## Spring Supported beam (Ex 12.16 Hibbeler)\n",
    "## Determine the vertical displacement at x = 1m for the beam detailed below:\n",
    "## 3m long, spring of ky = 45kN/m at A (x = 0 m) and B (x = 3 m), vertical point load at x = 1m of 3 kN, E = 200GPa, I = 4.6875*10**-6 m4.\n",
    "\n",
    "##NOTE: BEWARE OF UNITS\n",
    "\n",
    "##when initializing beam we should specify E and I. Units should be expressed in MPa (N/mm2) for E, and mm4 for I\n",
    "beam = Beam(3, E=(200)*10**3, I=(4.6875*10**-6)*10**12)\n",
    "\n",
    "##creating supports, note that an x support must be specified even when there are no x forces. This will not affect the accuracy or reliability of results.\n",
    "##Also note that ky units are kN/m in the problem but must be in kN/mm for the program to work correctly.\n",
    "a = Support(0, (1,1,0), ky = 45*10**-3)   \n",
    "b = Support(3, (0,1,0), ky = 45*10**-3)\n",
    "\n",
    "load_1 = PointLoadV(-3,1)\n",
    "\n",
    "beam.add_supports(a,b)\n",
    "beam.add_loads(load_1)\n",
    "\n",
    "beam.analyse()\n",
    "\n",
    "beam.get_deflection(1)\n",
    "\n",
    "beam.plot_beam_external()\n",
    "beam.plot_beam_internal()\n",
    "\n",
    "##results in 38.46 mm deflection ~= 38.4mm specified in textbook (difference only due to their rounding)\n",
    "##can easily check reliability of answer by looking at deflection at the spring supports. Should equal F/k.\n",
    "## ie at support A (x = 0 m), the reaction force is 2kN by equilibrium, so our deflection is F/K = 2kn / 45*10-3 kN/mm = 44.4 mm (can be seen in plot)"
   ],
   "cell_type": "code",
   "metadata": {},
   "execution_count": null,
   "outputs": []
  },
  {
   "source": [
    "## 6. AXIAL LOADED INDETERMINATE BEAM (Ex 4.13 Hibbeler)"
   ],
   "cell_type": "markdown",
   "metadata": {}
  },
  {
   "cell_type": "code",
   "execution_count": null,
   "metadata": {},
   "outputs": [],
   "source": [
    "##AXIAL LOADED INDETERMINATE BEAM (Ex 4.13 Hibbeler)\n",
    "## A rod with constant EA has a force of 60kN applied at x =0.1, and the beam has fixed supports at x=0, and x =0.4. Determine the reactino forces.\n",
    "\n",
    "beam = Beam(0.4)\n",
    "\n",
    "a = Support()\n",
    "b = Support(0.4)\n",
    "\n",
    "load_1 = PointLoadH(-60, 0.1)\n",
    "\n",
    "beam.add_supports(a,b)\n",
    "beam.add_loads(load_1)\n",
    "\n",
    "beam.analyse()\n",
    "beam.plot_normal_force()\n"
   ]
  },
  {
   "source": [
    "## 7. Arbitrary README.md example"
   ],
   "cell_type": "markdown",
   "metadata": {}
  },
  {
   "cell_type": "code",
   "execution_count": null,
   "metadata": {},
   "outputs": [],
   "source": [
    "##arbritrary example defined in README.md\n",
    "beam = Beam(7)                          # Initialize a Beam object of length 9m with E and I as defaults\n",
    "beam_2 = Beam(9,E=2000, I =100000)      # Initializa a Beam specifying some beam parameters\n",
    "\n",
    "a = Support(5,(1,1,0))                  # Defines a pin support at location x = 5m  \n",
    "b = Support(0,(0,1,0))                  # Defines a roller support at location x = 0m\n",
    "c = Support(7,(1,1,1))                  # Defines a fixed support at location x = 7m\n",
    "beam.add_supports(a,b,c)    \n",
    "\n",
    "load_1 = PointLoadV(1,2)                 # Defines a point load of 1kn acting up, at location x = 2m\n",
    "load_2 = DistributedLoadV(2,(1,4))      # Defines a 2kN UDL from location x = 1m to x = 4m \n",
    "load_3 = PointTorque(2, 3.5)            # Defines a 2kN.m point torque at location x = 3.5m\n",
    "beam.add_loads(load_1,load_2,load_3)    # Assign the support objects to a beam object created earlier\n",
    "\n",
    "beam.analyse()  \n",
    "\n",
    "fig_1 = beam.plot_beam_external()\n",
    "fig_1.show()\n",
    "\n",
    "fig_2 = beam.plot_beam_internal()\n",
    "fig_2.show()\n",
    "\n",
    "#fig_1.write_image(\"./readme_example_diagram.png\")\n",
    "#fig_2.write_image(\"./readme_example_internal.png\")\n",
    "#fig_1.write_html(\"./readme_example_diagram.html\")\n",
    "#fig_2.write_html(\"./readme_example_internal.html\")"
   ]
  },
  {
   "cell_type": "markdown",
   "metadata": {},
   "source": [
    "You can now go back up and continue to play around choosing different loads, beam lengths and placement of the beam supports.\n",
    "Add as many loads as you want to the list.\n",
    "\n",
    "After you have made some changes, run the code cell again to calculate your new results.\n",
    "\n",
    "When you are comfortable with that, check what happens if you try more interesting expressions for the distributed loads, for example:\n",
    "\n",
    "```python\n",
    "DistributedLoadV(\"2 * x**2 + cos(5)\", (0, 3))\n",
    "```\n",
    "By the way, a double asterisk is how you write a power in Python: ```\"2 * x**2 + cos(5)\"``` means $2x^2 + \\cos(5)$\n",
    "\n",
    "**Note:** you can also try to include trigonometric functions, but in this case the whole mathematical expression __must be surrounded by quotation marks__, just as in the example above.\n",
    "\n",
    "More examples have been included below."
   ]
  }
 ],
 "metadata": {
  "kernelspec": {
   "name": "python3",
   "display_name": "Python 3",
   "language": "python"
  },
  "language_info": {
   "codemirror_mode": {
    "name": "ipython",
    "version": 3
   },
   "file_extension": ".py",
   "mimetype": "text/x-python",
   "name": "python",
   "nbconvert_exporter": "python",
   "pygments_lexer": "ipython3",
   "version": "3.7.3-final"
  },
  "toc": {
   "base_numbering": 1,
   "nav_menu": {},
   "number_sections": true,
   "sideBar": true,
   "skip_h1_title": false,
   "title_cell": "Table of Contents",
   "title_sidebar": "Contents",
   "toc_cell": false,
   "toc_position": {},
   "toc_section_display": true,
   "toc_window_display": false
  },
  "varInspector": {
   "cols": {
    "lenName": 16,
    "lenType": 16,
    "lenVar": 40
   },
   "kernels_config": {
    "python": {
     "delete_cmd_postfix": "",
     "delete_cmd_prefix": "del ",
     "library": "var_list.py",
     "varRefreshCmd": "print(var_dic_list())"
    },
    "r": {
     "delete_cmd_postfix": ") ",
     "delete_cmd_prefix": "rm(",
     "library": "var_list.r",
     "varRefreshCmd": "cat(var_dic_list()) "
    }
   },
   "types_to_exclude": [
    "module",
    "function",
    "builtin_function_or_method",
    "instance",
    "_Feature"
   ],
   "window_display": false
  }
 },
 "nbformat": 4,
 "nbformat_minor": 2
}