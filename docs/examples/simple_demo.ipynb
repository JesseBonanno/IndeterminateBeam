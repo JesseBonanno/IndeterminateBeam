{
 "cells": [
  {
   "cell_type": "markdown",
   "metadata": {
    "ExecuteTime": {
     "end_time": "2018-08-02T13:35:01.752519Z",
     "start_time": "2018-08-02T13:35:01.747883Z"
    }
   },
   "source": [
    "# Indeterminate Beam calculator\n",
    "\n",
    "### Table of Contents\n",
    "1. Initialisation\n",
    "2. Basic Usage (Readme example)\n",
    "    - 2.1 Basic Usage\n",
    "    - 2.2 Querying Data\n",
    "    - 2.3 Specifiying Units\n",
    "3. Support Class Breakdown\n",
    "4. Load Classes Breakdown\n",
    "    - 4.1 Point Torque\n",
    "    - 4.2 Point Load\n",
    "    - 4.3 Uniformly Distributed Load (UDL)\n",
    "    - 4.4 Trapezoidal Load\n",
    "    - 4.5 Distributed Load\n",
    "    - 4.6 Vertical and Horizontal Load Child Classes\n",
    "5. Statically Determinate Beam (Ex 12.14 Hibbeler)\n",
    "6. Statically Indeterminate Beam (Ex 12.21 Hibbeler)\n",
    "7. Spring Supported Beam (Ex 12.16 Hibbeler)\n",
    "8. Axially Loaded Indeterminate Beam (Ex 4.13 Hibbeler)\n",
    "\n",
    "Note:\n",
    "You must always run the initialization cell first. \n",
    "Then you are free to move to any of the other sections as per the table of contents."
   ]
  },
  {
   "cell_type": "markdown",
   "metadata": {},
   "source": [
    " ## 1. Initialisation\n"
   ]
  },
  {
   "cell_type": "code",
   "execution_count": null,
   "metadata": {},
   "outputs": [],
   "source": [
    "# RUN THIS CELL FIRST TO INITIALISE GOOGLE NOTEBOOK!!!!\n",
    "!pip install indeterminatebeam\n",
    "%matplotlib inline\n",
    "\n",
    "# import beam and supports\n",
    "from indeterminatebeam import Beam, Support\n",
    "\n",
    "# import loads (all load types imported for reference)\n",
    "from indeterminatebeam import (\n",
    "    PointTorque,\n",
    "    PointLoad,\n",
    "    PointLoadV,\n",
    "    PointLoadH,\n",
    "    UDL,\n",
    "    UDLV,\n",
    "    UDLH,\n",
    "    TrapezoidalLoad,\n",
    "    TrapezoidalLoadV,\n",
    "    TrapezoidalLoadH,\n",
    "    DistributedLoad,\n",
    "    DistributedLoadV,\n",
    "    DistributedLoadH\n",
    ")\n",
    "\n",
    "# Note: load ending in V are vertical loads\n",
    "# load ending in H are horizontal loads\n",
    "# load not ending in either takes angle as an input (except torque)\n"
   ]
  },
  {
   "cell_type": "code",
   "execution_count": 1,
   "metadata": {},
   "outputs": [],
   "source": [
    "# NOT FOR USE ONLINE.\n",
    "# Use this instead for initialization if running directly from package folder,\n",
    "import sys, os\n",
    "sys.path.insert(0, os.path.abspath('../../'))\n",
    "\n",
    "# import beam and supports\n",
    "from indeterminatebeam import Beam, Support\n",
    "\n",
    "# import loads (all load types imported for reference)\n",
    "from indeterminatebeam.loading import (\n",
    "    PointTorque,\n",
    "    PointLoad,\n",
    "    PointLoadV,\n",
    "    PointLoadH,\n",
    "    UDL,\n",
    "    UDLV,\n",
    "    UDLH,\n",
    "    TrapezoidalLoad,\n",
    "    TrapezoidalLoadV,\n",
    "    TrapezoidalLoadH,\n",
    "    DistributedLoad,\n",
    "    DistributedLoadV,\n",
    "    DistributedLoadH\n",
    ")\n",
    "\n",
    "# Note: load ending in V are vertical loads\n",
    "# load ending in H are horizontal loads\n",
    "# load not ending in either takes angle as an input (except torque)\n"
   ]
  },
  {
   "cell_type": "markdown",
   "metadata": {},
   "source": [
    "## 2. Basic Usage (Readme example)"
   ]
  },
  {
   "cell_type": "markdown",
   "metadata": {},
   "source": [
    "### 2.1 Basic Usage"
   ]
  },
  {
   "cell_type": "code",
   "execution_count": 2,
   "metadata": {},
   "outputs": [
    {
     "data": {
      "application/vnd.plotly.v1+json": {
       "config": {
        "plotlyServerURL": "https://plot.ly"
       },
       "data": [
        {
         "hoverinfo": "skip",
         "hovertemplate": "%{x} %{meta[0]}",
         "line": {
          "color": "purple",
          "width": 2
         },
         "meta": [
          "m"
         ],
         "mode": "lines",
         "name": "Beam_",
         "type": "scatter",
         "x": [
          0,
          7
         ],
         "xaxis": "x",
         "y": [
          0,
          0
         ],
         "yaxis": "y"
        },
        {
         "hoverinfo": "skip",
         "hovertemplate": "x: %{x:.3f} %{meta[1]}<br>Fixed: %{meta[0]}",
         "marker": {
          "color": "blue",
          "size": 10,
          "symbol": "triangle-up"
         },
         "meta": [
          "[0, 1, 0]",
          "m"
         ],
         "mode": "markers",
         "name": "Support",
         "opacity": 0,
         "showlegend": false,
         "type": "scatter",
         "x": [
          0
         ],
         "xaxis": "x",
         "y": [
          0
         ],
         "yaxis": "y"
        },
        {
         "fill": "toself",
         "hoverinfo": "skip",
         "marker": {
          "color": "blue",
          "size": 10,
          "symbol": "arrow-up"
         },
         "mode": "markers",
         "name": "Support",
         "showlegend": false,
         "type": "scatter",
         "x": [
          0
         ],
         "xaxis": "x",
         "y": [
          0
         ],
         "yaxis": "y"
        },
        {
         "hoverinfo": "skip",
         "hovertemplate": "x: %{x:.3f} %{meta[1]}<br>Fixed: %{meta[0]}",
         "marker": {
          "color": "blue",
          "size": 10,
          "symbol": "triangle-up"
         },
         "meta": [
          "[1, 1, 0]",
          "m"
         ],
         "mode": "markers",
         "name": "Support",
         "opacity": 0,
         "showlegend": false,
         "type": "scatter",
         "x": [
          5
         ],
         "xaxis": "x",
         "y": [
          0
         ],
         "yaxis": "y"
        },
        {
         "fill": "toself",
         "hoverinfo": "skip",
         "marker": {
          "color": "blue",
          "size": 10,
          "symbol": "arrow-up"
         },
         "mode": "markers",
         "name": "Support",
         "showlegend": false,
         "type": "scatter",
         "x": [
          5
         ],
         "xaxis": "x",
         "y": [
          0
         ],
         "yaxis": "y"
        },
        {
         "hoverinfo": "skip",
         "hovertemplate": "x: %{x:.3f} %{meta[1]}<br>Fixed: %{meta[0]}",
         "marker": {
          "color": "blue",
          "size": 10,
          "symbol": "triangle-up"
         },
         "meta": [
          "[1, 1, 1]",
          "m"
         ],
         "mode": "markers",
         "name": "Support",
         "opacity": 0,
         "showlegend": false,
         "type": "scatter",
         "x": [
          7
         ],
         "xaxis": "x",
         "y": [
          0
         ],
         "yaxis": "y"
        },
        {
         "hoverinfo": "skip",
         "hovertemplate": "x: %{meta[1]:.3f} %{meta[2]}<br>Force: %{meta[0]:.3f} %{meta[3]}            <br>Angle: %{meta[5]:.3f} deg",
         "marker": {
          "color": "red",
          "size": 10,
          "symbol": "triangle-up"
         },
         "meta": [
          1000,
          2,
          "m",
          "N",
          "N.m",
          90
         ],
         "mode": "markers",
         "name": "Point<br>Load",
         "opacity": 0,
         "showlegend": false,
         "type": "scatter",
         "x": [
          2
         ],
         "xaxis": "x",
         "y": [
          0
         ],
         "yaxis": "y"
        },
        {
         "fill": "tozeroy",
         "hoverinfo": "skip",
         "hovertemplate": "",
         "line": {
          "color": "mediumpurple",
          "width": 1
         },
         "mode": "lines",
         "name": "Distributed<br>Load",
         "type": "scatter",
         "x": [
          1,
          1.01,
          1.02,
          1.03,
          1.04,
          1.05,
          1.06,
          1.07,
          1.08,
          1.09,
          1.1,
          1.11,
          1.12,
          1.13,
          1.1400000000000001,
          1.15,
          1.16,
          1.17,
          1.18,
          1.19,
          1.2,
          1.21,
          1.22,
          1.23,
          1.24,
          1.25,
          1.26,
          1.27,
          1.28,
          1.29,
          1.3,
          1.31,
          1.32,
          1.33,
          1.34,
          1.35,
          1.3599999999999999,
          1.37,
          1.38,
          1.3900000000000001,
          1.4,
          1.4100000000000001,
          1.42,
          1.43,
          1.44,
          1.45,
          1.46,
          1.47,
          1.48,
          1.49,
          1.5,
          1.51,
          1.52,
          1.53,
          1.54,
          1.55,
          1.56,
          1.57,
          1.58,
          1.5899999999999999,
          1.6,
          1.6099999999999999,
          1.62,
          1.63,
          1.6400000000000001,
          1.65,
          1.6600000000000001,
          1.67,
          1.6800000000000002,
          1.69,
          1.7000000000000002,
          1.71,
          1.72,
          1.73,
          1.74,
          1.75,
          1.76,
          1.77,
          1.78,
          1.79,
          1.8,
          1.81,
          1.82,
          1.83,
          1.8399999999999999,
          1.85,
          1.8599999999999999,
          1.87,
          1.88,
          1.8900000000000001,
          1.9,
          1.9100000000000001,
          1.92,
          1.9300000000000002,
          1.94,
          1.9500000000000002,
          1.96,
          1.97,
          1.98,
          1.99,
          2,
          2.01,
          2.02,
          2.0300000000000002,
          2.04,
          2.05,
          2.06,
          2.0700000000000003,
          2.08,
          2.09,
          2.1,
          2.1100000000000003,
          2.12,
          2.13,
          2.14,
          2.1500000000000004,
          2.16,
          2.17,
          2.1799999999999997,
          2.19,
          2.2,
          2.21,
          2.2199999999999998,
          2.23,
          2.24,
          2.25,
          2.26,
          2.27,
          2.2800000000000002,
          2.29,
          2.3,
          2.31,
          2.3200000000000003,
          2.33,
          2.34,
          2.35,
          2.3600000000000003,
          2.37,
          2.38,
          2.39,
          2.4000000000000004,
          2.41,
          2.42,
          2.4299999999999997,
          2.44,
          2.45,
          2.46,
          2.4699999999999998,
          2.48,
          2.49,
          2.5,
          2.51,
          2.52,
          2.5300000000000002,
          2.54,
          2.55,
          2.56,
          2.5700000000000003,
          2.58,
          2.59,
          2.6,
          2.6100000000000003,
          2.62,
          2.63,
          2.64,
          2.6500000000000004,
          2.66,
          2.67,
          2.6799999999999997,
          2.69,
          2.7,
          2.71,
          2.7199999999999998,
          2.73,
          2.74,
          2.75,
          2.76,
          2.77,
          2.7800000000000002,
          2.79,
          2.8,
          2.81,
          2.8200000000000003,
          2.83,
          2.84,
          2.85,
          2.8600000000000003,
          2.87,
          2.88,
          2.89,
          2.9000000000000004,
          2.91,
          2.92,
          2.9299999999999997,
          2.94,
          2.95,
          2.96,
          2.9699999999999998,
          2.98,
          2.99,
          3,
          3.0100000000000002,
          3.02,
          3.0300000000000002,
          3.04,
          3.05,
          3.06,
          3.07,
          3.08,
          3.09,
          3.1,
          3.11,
          3.12,
          3.13,
          3.14,
          3.15,
          3.16,
          3.17,
          3.18,
          3.19,
          3.2,
          3.21,
          3.22,
          3.23,
          3.24,
          3.25,
          3.2600000000000002,
          3.27,
          3.2800000000000002,
          3.29,
          3.3000000000000003,
          3.31,
          3.32,
          3.33,
          3.34,
          3.35,
          3.36,
          3.37,
          3.38,
          3.39,
          3.4,
          3.41,
          3.42,
          3.43,
          3.44,
          3.45,
          3.46,
          3.47,
          3.48,
          3.49,
          3.5,
          3.5100000000000002,
          3.52,
          3.5300000000000002,
          3.54,
          3.5500000000000003,
          3.56,
          3.57,
          3.58,
          3.59,
          3.6,
          3.61,
          3.62,
          3.63,
          3.64,
          3.65,
          3.66,
          3.67,
          3.68,
          3.69,
          3.7,
          3.71,
          3.72,
          3.73,
          3.74,
          3.75,
          3.7600000000000002,
          3.77,
          3.7800000000000002,
          3.79,
          3.8000000000000003,
          3.81,
          3.82,
          3.83,
          3.84,
          3.85,
          3.86,
          3.87,
          3.88,
          3.89,
          3.9,
          3.91,
          3.92,
          3.93,
          3.94,
          3.95,
          3.96,
          3.97,
          3.98,
          3.99,
          4
         ],
         "xaxis": "x",
         "y": [
          -1,
          -1,
          -1,
          -1,
          -1,
          -1,
          -1,
          -1,
          -1,
          -1,
          -1,
          -1,
          -1,
          -1,
          -1,
          -1,
          -1,
          -1,
          -1,
          -1,
          -1,
          -1,
          -1,
          -1,
          -1,
          -1,
          -1,
          -1,
          -1,
          -1,
          -1,
          -1,
          -1,
          -1,
          -1,
          -1,
          -1,
          -1,
          -1,
          -1,
          -1,
          -1,
          -1,
          -1,
          -1,
          -1,
          -1,
          -1,
          -1,
          -1,
          -1,
          -1,
          -1,
          -1,
          -1,
          -1,
          -1,
          -1,
          -1,
          -1,
          -1,
          -1,
          -1,
          -1,
          -1,
          -1,
          -1,
          -1,
          -1,
          -1,
          -1,
          -1,
          -1,
          -1,
          -1,
          -1,
          -1,
          -1,
          -1,
          -1,
          -1,
          -1,
          -1,
          -1,
          -1,
          -1,
          -1,
          -1,
          -1,
          -1,
          -1,
          -1,
          -1,
          -1,
          -1,
          -1,
          -1,
          -1,
          -1,
          -1,
          -1,
          -1,
          -1,
          -1,
          -1,
          -1,
          -1,
          -1,
          -1,
          -1,
          -1,
          -1,
          -1,
          -1,
          -1,
          -1,
          -1,
          -1,
          -1,
          -1,
          -1,
          -1,
          -1,
          -1,
          -1,
          -1,
          -1,
          -1,
          -1,
          -1,
          -1,
          -1,
          -1,
          -1,
          -1,
          -1,
          -1,
          -1,
          -1,
          -1,
          -1,
          -1,
          -1,
          -1,
          -1,
          -1,
          -1,
          -1,
          -1,
          -1,
          -1,
          -1,
          -1,
          -1,
          -1,
          -1,
          -1,
          -1,
          -1,
          -1,
          -1,
          -1,
          -1,
          -1,
          -1,
          -1,
          -1,
          -1,
          -1,
          -1,
          -1,
          -1,
          -1,
          -1,
          -1,
          -1,
          -1,
          -1,
          -1,
          -1,
          -1,
          -1,
          -1,
          -1,
          -1,
          -1,
          -1,
          -1,
          -1,
          -1,
          -1,
          -1,
          -1,
          -1,
          -1,
          -1,
          -1,
          -1,
          -1,
          -1,
          -1,
          -1,
          -1,
          -1,
          -1,
          -1,
          -1,
          -1,
          -1,
          -1,
          -1,
          -1,
          -1,
          -1,
          -1,
          -1,
          -1,
          -1,
          -1,
          -1,
          -1,
          -1,
          -1,
          -1,
          -1,
          -1,
          -1,
          -1,
          -1,
          -1,
          -1,
          -1,
          -1,
          -1,
          -1,
          -1,
          -1,
          -1,
          -1,
          -1,
          -1,
          -1,
          -1,
          -1,
          -1,
          -1,
          -1,
          -1,
          -1,
          -1,
          -1,
          -1,
          -1,
          -1,
          -1,
          -1,
          -1,
          -1,
          -1,
          -1,
          -1,
          -1,
          -1,
          -1,
          -1,
          -1,
          -1,
          -1,
          -1,
          -1,
          -1,
          -1,
          -1,
          -1,
          -1,
          -1,
          -1,
          -1,
          -1,
          -1,
          -1,
          -1,
          -1,
          -1,
          -1,
          -1,
          -1,
          -1,
          -1,
          -1,
          -1,
          -1,
          -1,
          -1,
          -1,
          -1,
          -1,
          -1,
          -1,
          -1,
          -1
         ],
         "yaxis": "y"
        },
        {
         "hoverinfo": "skip",
         "hovertemplate": "x: %{meta[0]:.3f} %{meta[3]}<br>Force: %{meta[1]:.3f} %{meta[4]}        <br>Angle: %{meta[2]:.3f} deg",
         "marker": {
          "color": "mediumpurple",
          "size": 10,
          "symbol": "triangle-up"
         },
         "meta": [
          1,
          2000,
          90,
          "m",
          "N/m"
         ],
         "mode": "markers",
         "name": "Distributed<br>Load",
         "opacity": 0,
         "showlegend": false,
         "type": "scatter",
         "x": [
          1
         ],
         "xaxis": "x",
         "y": [
          0
         ],
         "yaxis": "y"
        },
        {
         "hoverinfo": "skip",
         "hovertemplate": "x: %{meta[0]:.3f} %{meta[3]}<br>Force: %{meta[1]:.3f} %{meta[4]}        <br>Angle: %{meta[2]:.3f} deg",
         "marker": {
          "color": "mediumpurple",
          "size": 10,
          "symbol": "triangle-up"
         },
         "meta": [
          4,
          2000,
          90,
          "m",
          "N/m"
         ],
         "mode": "markers",
         "name": "Distributed<br>Load",
         "opacity": 0,
         "showlegend": false,
         "type": "scatter",
         "x": [
          4
         ],
         "xaxis": "x",
         "y": [
          0
         ],
         "yaxis": "y"
        },
        {
         "hoverinfo": "skip",
         "hovertemplate": "x: %{meta[1]:.3f} %{meta[2]}<br>Moment: %{meta[0]:.3f} %{meta[4]}",
         "marker": {
          "color": "magenta",
          "size": 10,
          "symbol": "triangle-up"
         },
         "meta": [
          2000,
          3.5,
          "m",
          "N",
          "N.m"
         ],
         "mode": "markers",
         "name": "Point<br>Torque",
         "opacity": 0,
         "showlegend": false,
         "type": "scatter",
         "x": [
          3.5
         ],
         "xaxis": "x",
         "y": [
          0
         ],
         "yaxis": "y"
        },
        {
         "hoverinfo": "skip",
         "hovertemplate": "%{x}",
         "line": {
          "color": "purple",
          "width": 2
         },
         "mode": "lines",
         "name": "Beam",
         "type": "scatter",
         "x": [
          0,
          7
         ],
         "xaxis": "x2",
         "y": [
          0,
          0
         ],
         "yaxis": "y2"
        },
        {
         "hoverinfo": "skip",
         "hovertemplate": "Reactions<br>x coord: %{x:.3f} %{meta[3]}<br>y: %{meta[1]:.3f} %{meta[4]}",
         "marker": {
          "color": "red",
          "size": 10,
          "symbol": "triangle-up"
         },
         "meta": [
          0,
          -2381.5384615385,
          0,
          "m",
          "N",
          "N.m"
         ],
         "mode": "markers",
         "name": "Reaction",
         "opacity": 0,
         "showlegend": false,
         "type": "scatter",
         "x": [
          0
         ],
         "xaxis": "x2",
         "y": [
          0
         ],
         "yaxis": "y2"
        },
        {
         "hoverinfo": "skip",
         "hovertemplate": "Reactions<br>x coord: %{x:.3f} %{meta[3]}<br>y: %{meta[1]:.3f} %{meta[4]}",
         "marker": {
          "color": "red",
          "size": 10,
          "symbol": "triangle-up"
         },
         "meta": [
          0,
          -7687.6923076923,
          0,
          "m",
          "N",
          "N.m"
         ],
         "mode": "markers",
         "name": "Reaction",
         "opacity": 0,
         "showlegend": false,
         "type": "scatter",
         "x": [
          5
         ],
         "xaxis": "x2",
         "y": [
          0
         ],
         "yaxis": "y2"
        },
        {
         "hoverinfo": "skip",
         "hovertemplate": "Reactions<br>x coord: %{x:.3f} %{meta[3]}<br>y: %{meta[1]:.3f} %{meta[4]}<br>m: %{meta[2]:.3f} %{meta[5]}",
         "marker": {
          "color": "red",
          "size": 10,
          "symbol": "triangle-up"
         },
         "meta": [
          0,
          3069.2307692308,
          -2046.1538461538,
          "m",
          "N",
          "N.m"
         ],
         "mode": "markers",
         "name": "Reaction",
         "opacity": 0,
         "showlegend": false,
         "type": "scatter",
         "x": [
          7
         ],
         "xaxis": "x2",
         "y": [
          0
         ],
         "yaxis": "y2"
        }
       ],
       "layout": {
        "annotations": [
         {
          "font": {
           "size": 16
          },
          "showarrow": false,
          "text": "Beam schematic",
          "x": 0.5,
          "xanchor": "center",
          "xref": "paper",
          "y": 1,
          "yanchor": "bottom",
          "yref": "paper"
         },
         {
          "font": {
           "size": 16
          },
          "showarrow": false,
          "text": "Reaction Forces",
          "x": 0.5,
          "xanchor": "center",
          "xref": "paper",
          "y": 0.45,
          "yanchor": "bottom",
          "yref": "paper"
         },
         {
          "font": {
           "color": "red"
          },
          "showarrow": false,
          "text": "1000.000 N",
          "x": 2,
          "xref": "x",
          "xshift": 0,
          "y": 0,
          "yref": "y",
          "yshift": -52
         },
         {
          "font": {
           "color": "mediumpurple"
          },
          "showarrow": false,
          "text": "2000.000 N/m",
          "x": 1,
          "xref": "x",
          "xshift": 0,
          "y": 0,
          "yref": "y",
          "yshift": -39
         },
         {
          "font": {
           "color": "mediumpurple"
          },
          "showarrow": false,
          "text": "2000.000 N/m",
          "x": 4,
          "xref": "x",
          "xshift": 0,
          "y": 0,
          "yref": "y",
          "yshift": -39
         },
         {
          "font": {
           "color": "magenta",
           "size": 26
          },
          "showarrow": false,
          "text": "⭯",
          "x": 3.5,
          "xref": "x",
          "y": 0,
          "yref": "y",
          "yshift": 0
         },
         {
          "font": {
           "color": "magenta"
          },
          "showarrow": false,
          "text": "2000.000 N.m",
          "x": 3.5,
          "xref": "x",
          "y": 0,
          "yref": "y",
          "yshift": -20
         },
         {
          "font": {
           "color": "red"
          },
          "showarrow": false,
          "text": "-2381.538 N",
          "x": 0,
          "xref": "x2",
          "xshift": 0,
          "y": 0,
          "yref": "y2",
          "yshift": 52
         },
         {
          "font": {
           "color": "red"
          },
          "showarrow": false,
          "text": "-7687.692 N",
          "x": 5,
          "xref": "x2",
          "xshift": 0,
          "y": 0,
          "yref": "y2",
          "yshift": 52
         },
         {
          "font": {
           "color": "red"
          },
          "showarrow": false,
          "text": "3069.231 N",
          "x": 7,
          "xref": "x2",
          "xshift": 0,
          "y": 0,
          "yref": "y2",
          "yshift": -52
         },
         {
          "font": {
           "color": "magenta",
           "size": 26
          },
          "showarrow": false,
          "text": "⭮",
          "x": 7,
          "xref": "x2",
          "y": 0,
          "yref": "y2",
          "yshift": 0
         },
         {
          "font": {
           "color": "magenta"
          },
          "showarrow": false,
          "text": "-2046.154 N.m",
          "x": 7,
          "xref": "x2",
          "y": 0,
          "yref": "y2",
          "yshift": -20
         }
        ],
        "height": 550,
        "hovermode": "x",
        "shapes": [
         {
          "fillcolor": "blue",
          "line": {
           "color": "blue"
          },
          "type": "circle",
          "x0": -1,
          "x1": 1,
          "xanchor": 0,
          "xref": "x",
          "xsizemode": "pixel",
          "y0": -14,
          "y1": -12,
          "yanchor": 0,
          "yref": "y",
          "ysizemode": "pixel"
         },
         {
          "fillcolor": "blue",
          "line": {
           "color": "blue"
          },
          "type": "circle",
          "x0": -5,
          "x1": -3,
          "xanchor": 0,
          "xref": "x",
          "xsizemode": "pixel",
          "y0": -14,
          "y1": -12,
          "yanchor": 0,
          "yref": "y",
          "ysizemode": "pixel"
         },
         {
          "fillcolor": "blue",
          "line": {
           "color": "blue"
          },
          "type": "circle",
          "x0": 3,
          "x1": 5,
          "xanchor": 0,
          "xref": "x",
          "xsizemode": "pixel",
          "y0": -14,
          "y1": -12,
          "yanchor": 0,
          "yref": "y",
          "ysizemode": "pixel"
         },
         {
          "fillcolor": "blue",
          "line": {
           "color": "blue",
           "width": 4
          },
          "type": "rect",
          "x0": -2,
          "x1": -2,
          "xanchor": 7,
          "xref": "x",
          "xsizemode": "pixel",
          "y0": -5,
          "y1": 5,
          "yanchor": 0,
          "yref": "y",
          "ysizemode": "pixel"
         },
         {
          "line": {
           "color": "red",
           "width": 2
          },
          "type": "line",
          "x0": 0,
          "x1": 3,
          "xanchor": 2,
          "xref": "x",
          "xsizemode": "pixel",
          "y0": 0,
          "y1": -3,
          "yanchor": 0,
          "yref": "y",
          "ysizemode": "pixel"
         },
         {
          "line": {
           "color": "red",
           "width": 2
          },
          "type": "line",
          "x0": 0,
          "x1": -3,
          "xanchor": 2,
          "xref": "x",
          "xsizemode": "pixel",
          "y0": 0,
          "y1": -3,
          "yanchor": 0,
          "yref": "y",
          "ysizemode": "pixel"
         },
         {
          "line": {
           "color": "red",
           "width": 2
          },
          "type": "line",
          "x0": 0,
          "x1": 0,
          "xanchor": 2,
          "xref": "x",
          "xsizemode": "pixel",
          "y0": 0,
          "y1": -40,
          "yanchor": 0,
          "yref": "y",
          "ysizemode": "pixel"
         },
         {
          "line": {
           "color": "mediumpurple",
           "width": 2
          },
          "type": "line",
          "x0": 0,
          "x1": 3,
          "xanchor": 1,
          "xref": "x",
          "xsizemode": "pixel",
          "y0": 0,
          "y1": -3,
          "yanchor": 0,
          "yref": "y",
          "ysizemode": "pixel"
         },
         {
          "line": {
           "color": "mediumpurple",
           "width": 2
          },
          "type": "line",
          "x0": 0,
          "x1": -3,
          "xanchor": 1,
          "xref": "x",
          "xsizemode": "pixel",
          "y0": 0,
          "y1": -3,
          "yanchor": 0,
          "yref": "y",
          "ysizemode": "pixel"
         },
         {
          "line": {
           "color": "mediumpurple",
           "width": 2
          },
          "type": "line",
          "x0": 0,
          "x1": 0,
          "xanchor": 1,
          "xref": "x",
          "xsizemode": "pixel",
          "y0": 0,
          "y1": -30,
          "yanchor": 0,
          "yref": "y",
          "ysizemode": "pixel"
         },
         {
          "line": {
           "color": "mediumpurple",
           "width": 2
          },
          "type": "line",
          "x0": 0,
          "x1": 3,
          "xanchor": 4,
          "xref": "x",
          "xsizemode": "pixel",
          "y0": 0,
          "y1": -3,
          "yanchor": 0,
          "yref": "y",
          "ysizemode": "pixel"
         },
         {
          "line": {
           "color": "mediumpurple",
           "width": 2
          },
          "type": "line",
          "x0": 0,
          "x1": -3,
          "xanchor": 4,
          "xref": "x",
          "xsizemode": "pixel",
          "y0": 0,
          "y1": -3,
          "yanchor": 0,
          "yref": "y",
          "ysizemode": "pixel"
         },
         {
          "line": {
           "color": "mediumpurple",
           "width": 2
          },
          "type": "line",
          "x0": 0,
          "x1": 0,
          "xanchor": 4,
          "xref": "x",
          "xsizemode": "pixel",
          "y0": 0,
          "y1": -30,
          "yanchor": 0,
          "yref": "y",
          "ysizemode": "pixel"
         },
         {
          "line": {
           "color": "red",
           "width": 2
          },
          "type": "line",
          "x0": 0,
          "x1": -3,
          "xanchor": 0,
          "xref": "x2",
          "xsizemode": "pixel",
          "y0": 0,
          "y1": 3,
          "yanchor": 0,
          "yref": "y2",
          "ysizemode": "pixel"
         },
         {
          "line": {
           "color": "red",
           "width": 2
          },
          "type": "line",
          "x0": 0,
          "x1": 3,
          "xanchor": 0,
          "xref": "x2",
          "xsizemode": "pixel",
          "y0": 0,
          "y1": 3,
          "yanchor": 0,
          "yref": "y2",
          "ysizemode": "pixel"
         },
         {
          "line": {
           "color": "red",
           "width": 2
          },
          "type": "line",
          "x0": 0,
          "x1": 0,
          "xanchor": 0,
          "xref": "x2",
          "xsizemode": "pixel",
          "y0": 0,
          "y1": 40,
          "yanchor": 0,
          "yref": "y2",
          "ysizemode": "pixel"
         },
         {
          "line": {
           "color": "red",
           "width": 2
          },
          "type": "line",
          "x0": 0,
          "x1": -3,
          "xanchor": 5,
          "xref": "x2",
          "xsizemode": "pixel",
          "y0": 0,
          "y1": 3,
          "yanchor": 0,
          "yref": "y2",
          "ysizemode": "pixel"
         },
         {
          "line": {
           "color": "red",
           "width": 2
          },
          "type": "line",
          "x0": 0,
          "x1": 3,
          "xanchor": 5,
          "xref": "x2",
          "xsizemode": "pixel",
          "y0": 0,
          "y1": 3,
          "yanchor": 0,
          "yref": "y2",
          "ysizemode": "pixel"
         },
         {
          "line": {
           "color": "red",
           "width": 2
          },
          "type": "line",
          "x0": 0,
          "x1": 0,
          "xanchor": 5,
          "xref": "x2",
          "xsizemode": "pixel",
          "y0": 0,
          "y1": 40,
          "yanchor": 0,
          "yref": "y2",
          "ysizemode": "pixel"
         },
         {
          "line": {
           "color": "red",
           "width": 2
          },
          "type": "line",
          "x0": 0,
          "x1": 3,
          "xanchor": 7,
          "xref": "x2",
          "xsizemode": "pixel",
          "y0": 0,
          "y1": -3,
          "yanchor": 0,
          "yref": "y2",
          "ysizemode": "pixel"
         },
         {
          "line": {
           "color": "red",
           "width": 2
          },
          "type": "line",
          "x0": 0,
          "x1": -3,
          "xanchor": 7,
          "xref": "x2",
          "xsizemode": "pixel",
          "y0": 0,
          "y1": -3,
          "yanchor": 0,
          "yref": "y2",
          "ysizemode": "pixel"
         },
         {
          "line": {
           "color": "red",
           "width": 2
          },
          "type": "line",
          "x0": 0,
          "x1": 0,
          "xanchor": 7,
          "xref": "x2",
          "xsizemode": "pixel",
          "y0": 0,
          "y1": -40,
          "yanchor": 0,
          "yref": "y2",
          "ysizemode": "pixel"
         }
        ],
        "showlegend": false,
        "template": {
         "data": {
          "bar": [
           {
            "error_x": {
             "color": "#2a3f5f"
            },
            "error_y": {
             "color": "#2a3f5f"
            },
            "marker": {
             "line": {
              "color": "#E5ECF6",
              "width": 0.5
             },
             "pattern": {
              "fillmode": "overlay",
              "size": 10,
              "solidity": 0.2
             }
            },
            "type": "bar"
           }
          ],
          "barpolar": [
           {
            "marker": {
             "line": {
              "color": "#E5ECF6",
              "width": 0.5
             },
             "pattern": {
              "fillmode": "overlay",
              "size": 10,
              "solidity": 0.2
             }
            },
            "type": "barpolar"
           }
          ],
          "carpet": [
           {
            "aaxis": {
             "endlinecolor": "#2a3f5f",
             "gridcolor": "white",
             "linecolor": "white",
             "minorgridcolor": "white",
             "startlinecolor": "#2a3f5f"
            },
            "baxis": {
             "endlinecolor": "#2a3f5f",
             "gridcolor": "white",
             "linecolor": "white",
             "minorgridcolor": "white",
             "startlinecolor": "#2a3f5f"
            },
            "type": "carpet"
           }
          ],
          "choropleth": [
           {
            "colorbar": {
             "outlinewidth": 0,
             "ticks": ""
            },
            "type": "choropleth"
           }
          ],
          "contour": [
           {
            "colorbar": {
             "outlinewidth": 0,
             "ticks": ""
            },
            "colorscale": [
             [
              0,
              "#0d0887"
             ],
             [
              0.1111111111111111,
              "#46039f"
             ],
             [
              0.2222222222222222,
              "#7201a8"
             ],
             [
              0.3333333333333333,
              "#9c179e"
             ],
             [
              0.4444444444444444,
              "#bd3786"
             ],
             [
              0.5555555555555556,
              "#d8576b"
             ],
             [
              0.6666666666666666,
              "#ed7953"
             ],
             [
              0.7777777777777778,
              "#fb9f3a"
             ],
             [
              0.8888888888888888,
              "#fdca26"
             ],
             [
              1,
              "#f0f921"
             ]
            ],
            "type": "contour"
           }
          ],
          "contourcarpet": [
           {
            "colorbar": {
             "outlinewidth": 0,
             "ticks": ""
            },
            "type": "contourcarpet"
           }
          ],
          "heatmap": [
           {
            "colorbar": {
             "outlinewidth": 0,
             "ticks": ""
            },
            "colorscale": [
             [
              0,
              "#0d0887"
             ],
             [
              0.1111111111111111,
              "#46039f"
             ],
             [
              0.2222222222222222,
              "#7201a8"
             ],
             [
              0.3333333333333333,
              "#9c179e"
             ],
             [
              0.4444444444444444,
              "#bd3786"
             ],
             [
              0.5555555555555556,
              "#d8576b"
             ],
             [
              0.6666666666666666,
              "#ed7953"
             ],
             [
              0.7777777777777778,
              "#fb9f3a"
             ],
             [
              0.8888888888888888,
              "#fdca26"
             ],
             [
              1,
              "#f0f921"
             ]
            ],
            "type": "heatmap"
           }
          ],
          "heatmapgl": [
           {
            "colorbar": {
             "outlinewidth": 0,
             "ticks": ""
            },
            "colorscale": [
             [
              0,
              "#0d0887"
             ],
             [
              0.1111111111111111,
              "#46039f"
             ],
             [
              0.2222222222222222,
              "#7201a8"
             ],
             [
              0.3333333333333333,
              "#9c179e"
             ],
             [
              0.4444444444444444,
              "#bd3786"
             ],
             [
              0.5555555555555556,
              "#d8576b"
             ],
             [
              0.6666666666666666,
              "#ed7953"
             ],
             [
              0.7777777777777778,
              "#fb9f3a"
             ],
             [
              0.8888888888888888,
              "#fdca26"
             ],
             [
              1,
              "#f0f921"
             ]
            ],
            "type": "heatmapgl"
           }
          ],
          "histogram": [
           {
            "marker": {
             "pattern": {
              "fillmode": "overlay",
              "size": 10,
              "solidity": 0.2
             }
            },
            "type": "histogram"
           }
          ],
          "histogram2d": [
           {
            "colorbar": {
             "outlinewidth": 0,
             "ticks": ""
            },
            "colorscale": [
             [
              0,
              "#0d0887"
             ],
             [
              0.1111111111111111,
              "#46039f"
             ],
             [
              0.2222222222222222,
              "#7201a8"
             ],
             [
              0.3333333333333333,
              "#9c179e"
             ],
             [
              0.4444444444444444,
              "#bd3786"
             ],
             [
              0.5555555555555556,
              "#d8576b"
             ],
             [
              0.6666666666666666,
              "#ed7953"
             ],
             [
              0.7777777777777778,
              "#fb9f3a"
             ],
             [
              0.8888888888888888,
              "#fdca26"
             ],
             [
              1,
              "#f0f921"
             ]
            ],
            "type": "histogram2d"
           }
          ],
          "histogram2dcontour": [
           {
            "colorbar": {
             "outlinewidth": 0,
             "ticks": ""
            },
            "colorscale": [
             [
              0,
              "#0d0887"
             ],
             [
              0.1111111111111111,
              "#46039f"
             ],
             [
              0.2222222222222222,
              "#7201a8"
             ],
             [
              0.3333333333333333,
              "#9c179e"
             ],
             [
              0.4444444444444444,
              "#bd3786"
             ],
             [
              0.5555555555555556,
              "#d8576b"
             ],
             [
              0.6666666666666666,
              "#ed7953"
             ],
             [
              0.7777777777777778,
              "#fb9f3a"
             ],
             [
              0.8888888888888888,
              "#fdca26"
             ],
             [
              1,
              "#f0f921"
             ]
            ],
            "type": "histogram2dcontour"
           }
          ],
          "mesh3d": [
           {
            "colorbar": {
             "outlinewidth": 0,
             "ticks": ""
            },
            "type": "mesh3d"
           }
          ],
          "parcoords": [
           {
            "line": {
             "colorbar": {
              "outlinewidth": 0,
              "ticks": ""
             }
            },
            "type": "parcoords"
           }
          ],
          "pie": [
           {
            "automargin": true,
            "type": "pie"
           }
          ],
          "scatter": [
           {
            "fillpattern": {
             "fillmode": "overlay",
             "size": 10,
             "solidity": 0.2
            },
            "type": "scatter"
           }
          ],
          "scatter3d": [
           {
            "line": {
             "colorbar": {
              "outlinewidth": 0,
              "ticks": ""
             }
            },
            "marker": {
             "colorbar": {
              "outlinewidth": 0,
              "ticks": ""
             }
            },
            "type": "scatter3d"
           }
          ],
          "scattercarpet": [
           {
            "marker": {
             "colorbar": {
              "outlinewidth": 0,
              "ticks": ""
             }
            },
            "type": "scattercarpet"
           }
          ],
          "scattergeo": [
           {
            "marker": {
             "colorbar": {
              "outlinewidth": 0,
              "ticks": ""
             }
            },
            "type": "scattergeo"
           }
          ],
          "scattergl": [
           {
            "marker": {
             "colorbar": {
              "outlinewidth": 0,
              "ticks": ""
             }
            },
            "type": "scattergl"
           }
          ],
          "scattermapbox": [
           {
            "marker": {
             "colorbar": {
              "outlinewidth": 0,
              "ticks": ""
             }
            },
            "type": "scattermapbox"
           }
          ],
          "scatterpolar": [
           {
            "marker": {
             "colorbar": {
              "outlinewidth": 0,
              "ticks": ""
             }
            },
            "type": "scatterpolar"
           }
          ],
          "scatterpolargl": [
           {
            "marker": {
             "colorbar": {
              "outlinewidth": 0,
              "ticks": ""
             }
            },
            "type": "scatterpolargl"
           }
          ],
          "scatterternary": [
           {
            "marker": {
             "colorbar": {
              "outlinewidth": 0,
              "ticks": ""
             }
            },
            "type": "scatterternary"
           }
          ],
          "surface": [
           {
            "colorbar": {
             "outlinewidth": 0,
             "ticks": ""
            },
            "colorscale": [
             [
              0,
              "#0d0887"
             ],
             [
              0.1111111111111111,
              "#46039f"
             ],
             [
              0.2222222222222222,
              "#7201a8"
             ],
             [
              0.3333333333333333,
              "#9c179e"
             ],
             [
              0.4444444444444444,
              "#bd3786"
             ],
             [
              0.5555555555555556,
              "#d8576b"
             ],
             [
              0.6666666666666666,
              "#ed7953"
             ],
             [
              0.7777777777777778,
              "#fb9f3a"
             ],
             [
              0.8888888888888888,
              "#fdca26"
             ],
             [
              1,
              "#f0f921"
             ]
            ],
            "type": "surface"
           }
          ],
          "table": [
           {
            "cells": {
             "fill": {
              "color": "#EBF0F8"
             },
             "line": {
              "color": "white"
             }
            },
            "header": {
             "fill": {
              "color": "#C8D4E3"
             },
             "line": {
              "color": "white"
             }
            },
            "type": "table"
           }
          ]
         },
         "layout": {
          "annotationdefaults": {
           "arrowcolor": "#2a3f5f",
           "arrowhead": 0,
           "arrowwidth": 1
          },
          "autotypenumbers": "strict",
          "coloraxis": {
           "colorbar": {
            "outlinewidth": 0,
            "ticks": ""
           }
          },
          "colorscale": {
           "diverging": [
            [
             0,
             "#8e0152"
            ],
            [
             0.1,
             "#c51b7d"
            ],
            [
             0.2,
             "#de77ae"
            ],
            [
             0.3,
             "#f1b6da"
            ],
            [
             0.4,
             "#fde0ef"
            ],
            [
             0.5,
             "#f7f7f7"
            ],
            [
             0.6,
             "#e6f5d0"
            ],
            [
             0.7,
             "#b8e186"
            ],
            [
             0.8,
             "#7fbc41"
            ],
            [
             0.9,
             "#4d9221"
            ],
            [
             1,
             "#276419"
            ]
           ],
           "sequential": [
            [
             0,
             "#0d0887"
            ],
            [
             0.1111111111111111,
             "#46039f"
            ],
            [
             0.2222222222222222,
             "#7201a8"
            ],
            [
             0.3333333333333333,
             "#9c179e"
            ],
            [
             0.4444444444444444,
             "#bd3786"
            ],
            [
             0.5555555555555556,
             "#d8576b"
            ],
            [
             0.6666666666666666,
             "#ed7953"
            ],
            [
             0.7777777777777778,
             "#fb9f3a"
            ],
            [
             0.8888888888888888,
             "#fdca26"
            ],
            [
             1,
             "#f0f921"
            ]
           ],
           "sequentialminus": [
            [
             0,
             "#0d0887"
            ],
            [
             0.1111111111111111,
             "#46039f"
            ],
            [
             0.2222222222222222,
             "#7201a8"
            ],
            [
             0.3333333333333333,
             "#9c179e"
            ],
            [
             0.4444444444444444,
             "#bd3786"
            ],
            [
             0.5555555555555556,
             "#d8576b"
            ],
            [
             0.6666666666666666,
             "#ed7953"
            ],
            [
             0.7777777777777778,
             "#fb9f3a"
            ],
            [
             0.8888888888888888,
             "#fdca26"
            ],
            [
             1,
             "#f0f921"
            ]
           ]
          },
          "colorway": [
           "#636efa",
           "#EF553B",
           "#00cc96",
           "#ab63fa",
           "#FFA15A",
           "#19d3f3",
           "#FF6692",
           "#B6E880",
           "#FF97FF",
           "#FECB52"
          ],
          "font": {
           "color": "#2a3f5f"
          },
          "geo": {
           "bgcolor": "white",
           "lakecolor": "white",
           "landcolor": "#E5ECF6",
           "showlakes": true,
           "showland": true,
           "subunitcolor": "white"
          },
          "hoverlabel": {
           "align": "left"
          },
          "hovermode": "closest",
          "mapbox": {
           "style": "light"
          },
          "paper_bgcolor": "white",
          "plot_bgcolor": "#E5ECF6",
          "polar": {
           "angularaxis": {
            "gridcolor": "white",
            "linecolor": "white",
            "ticks": ""
           },
           "bgcolor": "#E5ECF6",
           "radialaxis": {
            "gridcolor": "white",
            "linecolor": "white",
            "ticks": ""
           }
          },
          "scene": {
           "xaxis": {
            "backgroundcolor": "#E5ECF6",
            "gridcolor": "white",
            "gridwidth": 2,
            "linecolor": "white",
            "showbackground": true,
            "ticks": "",
            "zerolinecolor": "white"
           },
           "yaxis": {
            "backgroundcolor": "#E5ECF6",
            "gridcolor": "white",
            "gridwidth": 2,
            "linecolor": "white",
            "showbackground": true,
            "ticks": "",
            "zerolinecolor": "white"
           },
           "zaxis": {
            "backgroundcolor": "#E5ECF6",
            "gridcolor": "white",
            "gridwidth": 2,
            "linecolor": "white",
            "showbackground": true,
            "ticks": "",
            "zerolinecolor": "white"
           }
          },
          "shapedefaults": {
           "line": {
            "color": "#2a3f5f"
           }
          },
          "ternary": {
           "aaxis": {
            "gridcolor": "white",
            "linecolor": "white",
            "ticks": ""
           },
           "baxis": {
            "gridcolor": "white",
            "linecolor": "white",
            "ticks": ""
           },
           "bgcolor": "#E5ECF6",
           "caxis": {
            "gridcolor": "white",
            "linecolor": "white",
            "ticks": ""
           }
          },
          "title": {
           "x": 0.05
          },
          "xaxis": {
           "automargin": true,
           "gridcolor": "white",
           "linecolor": "white",
           "ticks": "",
           "title": {
            "standoff": 15
           },
           "zerolinecolor": "white",
           "zerolinewidth": 2
          },
          "yaxis": {
           "automargin": true,
           "gridcolor": "white",
           "linecolor": "white",
           "ticks": "",
           "title": {
            "standoff": 15
           },
           "zerolinecolor": "white",
           "zerolinewidth": 2
          }
         }
        },
        "title": {
         "font": {
          "size": 24
         },
         "text": "Beam External Conditions",
         "x": 0.5
        },
        "width": 700,
        "xaxis": {
         "anchor": "y",
         "domain": [
          0,
          1
         ],
         "matches": "x2",
         "showticklabels": false
        },
        "xaxis2": {
         "anchor": "y2",
         "domain": [
          0,
          1
         ],
         "title": {
          "text": "Beam Length (m)"
         }
        },
        "yaxis": {
         "anchor": "x",
         "domain": [
          0.55,
          1
         ],
         "fixedrange": true,
         "range": [
          -3,
          3
         ],
         "visible": false
        },
        "yaxis2": {
         "anchor": "x2",
         "domain": [
          0,
          0.45
         ],
         "fixedrange": true,
         "range": [
          -3,
          3
         ],
         "visible": false
        }
       }
      }
     },
     "metadata": {},
     "output_type": "display_data"
    },
    {
     "data": {
      "application/vnd.plotly.v1+json": {
       "config": {
        "plotlyServerURL": "https://plot.ly"
       },
       "data": [
        {
         "fill": "tozeroy",
         "hovertemplate": "x: %{x:.3f} %{meta[0]}<br>f(x): %{y:.3f} %{meta[1]}",
         "line": {
          "color": "red",
          "width": 1
         },
         "meta": [
          "m",
          "N"
         ],
         "mode": "lines",
         "name": "Normal Force",
         "type": "scatter",
         "x": [
          0,
          1e-7,
          0.035175879396984924,
          0.07035175879396985,
          0.10552763819095477,
          0.1407035175879397,
          0.1758793969849246,
          0.21105527638190955,
          0.24623115577889448,
          0.2814070351758794,
          0.3165829145728643,
          0.3517587939698492,
          0.3869346733668342,
          0.4221105527638191,
          0.457286432160804,
          0.49246231155778897,
          0.5276381909547738,
          0.5628140703517588,
          0.5979899497487438,
          0.6331658291457286,
          0.6683417085427136,
          0.7035175879396984,
          0.7386934673366834,
          0.7738693467336684,
          0.8090452261306532,
          0.8442211055276382,
          0.8793969849246231,
          0.914572864321608,
          0.949748743718593,
          0.9849246231155779,
          0.9999999,
          1.0000001,
          1.020100502512563,
          1.0552763819095476,
          1.0904522613065326,
          1.1256281407035176,
          1.1608040201005025,
          1.1959798994974875,
          1.2311557788944723,
          1.2663316582914572,
          1.3015075376884422,
          1.3366834170854272,
          1.3718592964824121,
          1.4070351758793969,
          1.4422110552763818,
          1.4773869346733668,
          1.5125628140703518,
          1.5477386934673367,
          1.5829145728643217,
          1.6180904522613064,
          1.6532663316582914,
          1.6884422110552764,
          1.7236180904522613,
          1.7587939698492463,
          1.793969849246231,
          1.829145728643216,
          1.864321608040201,
          1.899497487437186,
          1.934673366834171,
          1.9698492462311559,
          1.9999999,
          2.0000001,
          2.0050251256281406,
          2.040201005025126,
          2.0753768844221105,
          2.1105527638190953,
          2.1457286432160805,
          2.180904522613065,
          2.2160804020100504,
          2.251256281407035,
          2.28643216080402,
          2.321608040201005,
          2.35678391959799,
          2.391959798994975,
          2.4271356783919598,
          2.4623115577889445,
          2.4974874371859297,
          2.5326633165829144,
          2.5678391959798996,
          2.6030150753768844,
          2.638190954773869,
          2.6733668341708543,
          2.708542713567839,
          2.7437185929648242,
          2.778894472361809,
          2.8140703517587937,
          2.849246231155779,
          2.8844221105527637,
          2.919597989949749,
          2.9547738693467336,
          2.9899497487437188,
          3.0251256281407035,
          3.0603015075376883,
          3.0954773869346734,
          3.130653266331658,
          3.1658291457286434,
          3.201005025125628,
          3.236180904522613,
          3.271356783919598,
          3.306532663316583,
          3.341708542713568,
          3.3768844221105527,
          3.4120603015075375,
          3.4472361809045227,
          3.4824120603015074,
          3.4999999,
          3.5000001,
          3.5175879396984926,
          3.5527638190954773,
          3.587939698492462,
          3.6231155778894473,
          3.658291457286432,
          3.693467336683417,
          3.728643216080402,
          3.7638190954773867,
          3.798994974874372,
          3.8341708542713566,
          3.869346733668342,
          3.9045226130653266,
          3.9396984924623117,
          3.9748743718592965,
          3.9999999,
          4.0000001,
          4.010050251256281,
          4.045226130653266,
          4.080402010050252,
          4.115577889447236,
          4.150753768844221,
          4.185929648241206,
          4.221105527638191,
          4.256281407035176,
          4.291457286432161,
          4.326633165829145,
          4.36180904522613,
          4.396984924623116,
          4.432160804020101,
          4.467336683417085,
          4.50251256281407,
          4.5376884422110555,
          4.57286432160804,
          4.608040201005025,
          4.64321608040201,
          4.678391959798995,
          4.71356783919598,
          4.748743718592965,
          4.78391959798995,
          4.819095477386934,
          4.8542713567839195,
          4.889447236180905,
          4.924623115577889,
          4.959798994974874,
          4.994974874371859,
          4.9999999,
          5.0000001,
          5.030150753768845,
          5.065326633165829,
          5.100502512562814,
          5.135678391959799,
          5.1708542713567835,
          5.206030150753769,
          5.241206030150754,
          5.276381909547738,
          5.311557788944723,
          5.346733668341709,
          5.381909547738694,
          5.417085427135678,
          5.452261306532663,
          5.4874371859296485,
          5.522613065326633,
          5.557788944723618,
          5.592964824120603,
          5.628140703517587,
          5.663316582914573,
          5.698492462311558,
          5.733668341708543,
          5.768844221105527,
          5.8040201005025125,
          5.839195979899498,
          5.874371859296482,
          5.909547738693467,
          5.944723618090452,
          5.9798994974874375,
          6.015075376884422,
          6.050251256281407,
          6.085427135678392,
          6.1206030150753765,
          6.155778894472362,
          6.190954773869347,
          6.226130653266331,
          6.261306532663316,
          6.296482412060302,
          6.331658291457287,
          6.366834170854271,
          6.402010050251256,
          6.437185929648241,
          6.472361809045226,
          6.507537688442211,
          6.542713567839196,
          6.57788944723618,
          6.613065326633166,
          6.648241206030151,
          6.683417085427136,
          6.71859296482412,
          6.7537688442211055,
          6.788944723618091,
          6.824120603015075,
          6.85929648241206,
          6.894472361809045,
          6.9296482412060305,
          6.964824120603015,
          6.9999999,
          7
         ],
         "xaxis": "x",
         "y": [
          0,
          0,
          0,
          0,
          0,
          0,
          0,
          0,
          0,
          0,
          0,
          0,
          0,
          0,
          0,
          0,
          0,
          0,
          0,
          0,
          0,
          0,
          0,
          0,
          0,
          0,
          0,
          0,
          0,
          0,
          0,
          0,
          0,
          0,
          0,
          0,
          0,
          0,
          0,
          0,
          0,
          0,
          0,
          0,
          0,
          0,
          0,
          0,
          0,
          0,
          0,
          0,
          0,
          0,
          0,
          0,
          0,
          0,
          0,
          0,
          0,
          0,
          0,
          0,
          0,
          0,
          0,
          0,
          0,
          0,
          0,
          0,
          0,
          0,
          0,
          0,
          0,
          0,
          0,
          0,
          0,
          0,
          0,
          0,
          0,
          0,
          0,
          0,
          0,
          0,
          0,
          0,
          0,
          0,
          0,
          0,
          0,
          0,
          0,
          0,
          0,
          0,
          0,
          0,
          0,
          0,
          0,
          0,
          0,
          0,
          0,
          0,
          0,
          0,
          0,
          0,
          0,
          0,
          0,
          0,
          0,
          0,
          0,
          0,
          0,
          0,
          0,
          0,
          0,
          0,
          0,
          0,
          0,
          0,
          0,
          0,
          0,
          0,
          0,
          0,
          0,
          0,
          0,
          0,
          0,
          0,
          0,
          0,
          0,
          0,
          0,
          0,
          0,
          0,
          0,
          0,
          0,
          0,
          0,
          0,
          0,
          0,
          0,
          0,
          0,
          0,
          0,
          0,
          0,
          0,
          0,
          0,
          0,
          0,
          0,
          0,
          0,
          0,
          0,
          0,
          0,
          0,
          0,
          0,
          0,
          0,
          0,
          0,
          0,
          0,
          0,
          0,
          0,
          0,
          0,
          0,
          0,
          0,
          0,
          0,
          0,
          0,
          0,
          0,
          0,
          0,
          0,
          0,
          0,
          0,
          0,
          0
         ],
         "yaxis": "y"
        },
        {
         "fill": "tozeroy",
         "hovertemplate": "x: %{x:.3f} %{meta[0]}<br>f(x): %{y:.3f} %{meta[1]}",
         "line": {
          "color": "aqua",
          "width": 1
         },
         "meta": [
          "m",
          "N"
         ],
         "mode": "lines",
         "name": "Shear Force",
         "type": "scatter",
         "x": [
          0,
          1e-7,
          0.035175879396984924,
          0.07035175879396985,
          0.10552763819095477,
          0.1407035175879397,
          0.1758793969849246,
          0.21105527638190955,
          0.24623115577889448,
          0.2814070351758794,
          0.3165829145728643,
          0.3517587939698492,
          0.3869346733668342,
          0.4221105527638191,
          0.457286432160804,
          0.49246231155778897,
          0.5276381909547738,
          0.5628140703517588,
          0.5979899497487438,
          0.6331658291457286,
          0.6683417085427136,
          0.7035175879396984,
          0.7386934673366834,
          0.7738693467336684,
          0.8090452261306532,
          0.8442211055276382,
          0.8793969849246231,
          0.914572864321608,
          0.949748743718593,
          0.9849246231155779,
          0.9999999,
          1.0000001,
          1.020100502512563,
          1.0552763819095476,
          1.0904522613065326,
          1.1256281407035176,
          1.1608040201005025,
          1.1959798994974875,
          1.2311557788944723,
          1.2663316582914572,
          1.3015075376884422,
          1.3366834170854272,
          1.3718592964824121,
          1.4070351758793969,
          1.4422110552763818,
          1.4773869346733668,
          1.5125628140703518,
          1.5477386934673367,
          1.5829145728643217,
          1.6180904522613064,
          1.6532663316582914,
          1.6884422110552764,
          1.7236180904522613,
          1.7587939698492463,
          1.793969849246231,
          1.829145728643216,
          1.864321608040201,
          1.899497487437186,
          1.934673366834171,
          1.9698492462311559,
          1.9999999,
          2.0000001,
          2.0050251256281406,
          2.040201005025126,
          2.0753768844221105,
          2.1105527638190953,
          2.1457286432160805,
          2.180904522613065,
          2.2160804020100504,
          2.251256281407035,
          2.28643216080402,
          2.321608040201005,
          2.35678391959799,
          2.391959798994975,
          2.4271356783919598,
          2.4623115577889445,
          2.4974874371859297,
          2.5326633165829144,
          2.5678391959798996,
          2.6030150753768844,
          2.638190954773869,
          2.6733668341708543,
          2.708542713567839,
          2.7437185929648242,
          2.778894472361809,
          2.8140703517587937,
          2.849246231155779,
          2.8844221105527637,
          2.919597989949749,
          2.9547738693467336,
          2.9899497487437188,
          3.0251256281407035,
          3.0603015075376883,
          3.0954773869346734,
          3.130653266331658,
          3.1658291457286434,
          3.201005025125628,
          3.236180904522613,
          3.271356783919598,
          3.306532663316583,
          3.341708542713568,
          3.3768844221105527,
          3.4120603015075375,
          3.4472361809045227,
          3.4824120603015074,
          3.4999999,
          3.5000001,
          3.5175879396984926,
          3.5527638190954773,
          3.587939698492462,
          3.6231155778894473,
          3.658291457286432,
          3.693467336683417,
          3.728643216080402,
          3.7638190954773867,
          3.798994974874372,
          3.8341708542713566,
          3.869346733668342,
          3.9045226130653266,
          3.9396984924623117,
          3.9748743718592965,
          3.9999999,
          4.0000001,
          4.010050251256281,
          4.045226130653266,
          4.080402010050252,
          4.115577889447236,
          4.150753768844221,
          4.185929648241206,
          4.221105527638191,
          4.256281407035176,
          4.291457286432161,
          4.326633165829145,
          4.36180904522613,
          4.396984924623116,
          4.432160804020101,
          4.467336683417085,
          4.50251256281407,
          4.5376884422110555,
          4.57286432160804,
          4.608040201005025,
          4.64321608040201,
          4.678391959798995,
          4.71356783919598,
          4.748743718592965,
          4.78391959798995,
          4.819095477386934,
          4.8542713567839195,
          4.889447236180905,
          4.924623115577889,
          4.959798994974874,
          4.994974874371859,
          4.9999999,
          5.0000001,
          5.030150753768845,
          5.065326633165829,
          5.100502512562814,
          5.135678391959799,
          5.1708542713567835,
          5.206030150753769,
          5.241206030150754,
          5.276381909547738,
          5.311557788944723,
          5.346733668341709,
          5.381909547738694,
          5.417085427135678,
          5.452261306532663,
          5.4874371859296485,
          5.522613065326633,
          5.557788944723618,
          5.592964824120603,
          5.628140703517587,
          5.663316582914573,
          5.698492462311558,
          5.733668341708543,
          5.768844221105527,
          5.8040201005025125,
          5.839195979899498,
          5.874371859296482,
          5.909547738693467,
          5.944723618090452,
          5.9798994974874375,
          6.015075376884422,
          6.050251256281407,
          6.085427135678392,
          6.1206030150753765,
          6.155778894472362,
          6.190954773869347,
          6.226130653266331,
          6.261306532663316,
          6.296482412060302,
          6.331658291457287,
          6.366834170854271,
          6.402010050251256,
          6.437185929648241,
          6.472361809045226,
          6.507537688442211,
          6.542713567839196,
          6.57788944723618,
          6.613065326633166,
          6.648241206030151,
          6.683417085427136,
          6.71859296482412,
          6.7537688442211055,
          6.788944723618091,
          6.824120603015075,
          6.85929648241206,
          6.894472361809045,
          6.9296482412060305,
          6.964824120603015,
          6.9999999,
          7
         ],
         "xaxis": "x2",
         "y": [
          -2381.53846153846,
          -2381.53846153846,
          -2381.53846153846,
          -2381.53846153846,
          -2381.53846153846,
          -2381.53846153846,
          -2381.53846153846,
          -2381.53846153846,
          -2381.53846153846,
          -2381.53846153846,
          -2381.53846153846,
          -2381.53846153846,
          -2381.53846153846,
          -2381.53846153846,
          -2381.53846153846,
          -2381.53846153846,
          -2381.53846153846,
          -2381.53846153846,
          -2381.53846153846,
          -2381.53846153846,
          -2381.53846153846,
          -2381.53846153846,
          -2381.53846153846,
          -2381.53846153846,
          -2381.53846153846,
          -2381.53846153846,
          -2381.53846153846,
          -2381.53846153846,
          -2381.53846153846,
          -2381.53846153846,
          -2381.53846153846,
          -2381.5382615384597,
          -2341.3374565133345,
          -2270.985697719365,
          -2200.633938925395,
          -2130.282180131425,
          -2059.930421337455,
          -1989.5786625434848,
          -1919.2269037495157,
          -1848.8751449555457,
          -1778.5233861615757,
          -1708.1716273676057,
          -1637.8198685736356,
          -1567.4681097796665,
          -1497.1163509856965,
          -1426.7645921917265,
          -1356.4128333977565,
          -1286.0610746037864,
          -1215.7093158098169,
          -1145.3575570158473,
          -1075.0057982218773,
          -1004.6540394279073,
          -934.3022806339372,
          -863.9505218399677,
          -793.5987630459981,
          -723.2470042520281,
          -652.8952454580581,
          -582.543486664088,
          -512.1917278701185,
          -441.83996907614846,
          -381.53866153846,
          618.4617384615394,
          628.5117897178211,
          698.8635485117916,
          769.2153073057607,
          839.5670660997303,
          909.9188248937007,
          980.2705836876703,
          1050.6223424816408,
          1120.9741012756103,
          1191.32586006958,
          1261.6776188635504,
          1332.02937765752,
          1402.3811364514904,
          1472.732895245459,
          1543.0846540394286,
          1613.4364128333991,
          1683.7881716273687,
          1754.1399304213392,
          1824.4916892153087,
          1894.8434480092783,
          1965.1952068032488,
          2035.5469655972183,
          2105.898724391189,
          2176.2504831851575,
          2246.602241979127,
          2316.9540007730975,
          2387.305759567067,
          2457.6575183610375,
          2528.009277155007,
          2598.3610359489776,
          2668.712794742947,
          2739.0645535369167,
          2809.416312330887,
          2879.7680711248568,
          2950.1198299188263,
          3020.471588712796,
          3090.8233475067655,
          3161.175106300736,
          3231.5268650947055,
          3301.878623888676,
          3372.2303826826455,
          3442.582141476615,
          3512.9339002705856,
          3583.285659064555,
          3618.4613384615404,
          3618.4617384615394,
          3653.6374178585247,
          3723.9891766524943,
          3794.340935446464,
          3864.6926942404343,
          3935.044453034404,
          4005.3962118283744,
          4075.747970622344,
          4146.0997294163135,
          4216.451488210284,
          4286.8032470042535,
          4357.155005798223,
          4427.506764592193,
          4497.858523386163,
          4568.210282180133,
          4618.46133846154,
          4618.46153846154,
          4618.46153846154,
          4618.46153846154,
          4618.46153846154,
          4618.46153846154,
          4618.46153846154,
          4618.46153846154,
          4618.46153846154,
          4618.46153846154,
          4618.46153846154,
          4618.46153846154,
          4618.46153846154,
          4618.46153846154,
          4618.46153846154,
          4618.46153846154,
          4618.46153846154,
          4618.46153846154,
          4618.46153846154,
          4618.46153846154,
          4618.46153846154,
          4618.46153846154,
          4618.46153846154,
          4618.46153846154,
          4618.46153846154,
          4618.46153846154,
          4618.46153846154,
          4618.46153846154,
          4618.46153846154,
          4618.46153846154,
          4618.46153846154,
          4618.46153846154,
          -3069.2307692307604,
          -3069.2307692307604,
          -3069.2307692307604,
          -3069.2307692307604,
          -3069.2307692307604,
          -3069.2307692307604,
          -3069.2307692307604,
          -3069.2307692307604,
          -3069.2307692307604,
          -3069.2307692307604,
          -3069.2307692307604,
          -3069.2307692307604,
          -3069.2307692307604,
          -3069.2307692307604,
          -3069.2307692307604,
          -3069.2307692307604,
          -3069.2307692307604,
          -3069.2307692307604,
          -3069.2307692307604,
          -3069.2307692307604,
          -3069.2307692307604,
          -3069.2307692307604,
          -3069.2307692307604,
          -3069.2307692307604,
          -3069.2307692307604,
          -3069.2307692307604,
          -3069.2307692307604,
          -3069.2307692307604,
          -3069.2307692307604,
          -3069.2307692307604,
          -3069.2307692307604,
          -3069.2307692307604,
          -3069.2307692307604,
          -3069.2307692307604,
          -3069.2307692307604,
          -3069.2307692307604,
          -3069.2307692307604,
          -3069.2307692307604,
          -3069.2307692307604,
          -3069.2307692307604,
          -3069.2307692307604,
          -3069.2307692307604,
          -3069.2307692307604,
          -3069.2307692307604,
          -3069.2307692307604,
          -3069.2307692307604,
          -3069.2307692307604,
          -3069.2307692307604,
          -3069.2307692307604,
          -3069.2307692307604,
          -3069.2307692307604,
          -3069.2307692307604,
          -3069.2307692307604,
          -3069.2307692307604,
          -3069.2307692307604,
          -3069.2307692307604,
          -3069.2307692307604,
          -3069.2307692307604,
          0
         ],
         "yaxis": "y2"
        },
        {
         "fill": "tozeroy",
         "hovertemplate": "x: %{x:.3f} %{meta[0]}<br>f(x): %{y:.3f} %{meta[1]}",
         "line": {
          "color": "lightgreen",
          "width": 1
         },
         "meta": [
          "m",
          "N.m"
         ],
         "mode": "lines",
         "name": "Bending Moment",
         "type": "scatter",
         "x": [
          0,
          1e-7,
          0.035175879396984924,
          0.07035175879396985,
          0.10552763819095477,
          0.1407035175879397,
          0.1758793969849246,
          0.21105527638190955,
          0.24623115577889448,
          0.2814070351758794,
          0.3165829145728643,
          0.3517587939698492,
          0.3869346733668342,
          0.4221105527638191,
          0.457286432160804,
          0.49246231155778897,
          0.5276381909547738,
          0.5628140703517588,
          0.5979899497487438,
          0.6331658291457286,
          0.6683417085427136,
          0.7035175879396984,
          0.7386934673366834,
          0.7738693467336684,
          0.8090452261306532,
          0.8442211055276382,
          0.8793969849246231,
          0.914572864321608,
          0.949748743718593,
          0.9849246231155779,
          0.9999999,
          1.0000001,
          1.020100502512563,
          1.0552763819095476,
          1.0904522613065326,
          1.1256281407035176,
          1.1608040201005025,
          1.1959798994974875,
          1.2311557788944723,
          1.2663316582914572,
          1.3015075376884422,
          1.3366834170854272,
          1.3718592964824121,
          1.4070351758793969,
          1.4422110552763818,
          1.4773869346733668,
          1.5125628140703518,
          1.5477386934673367,
          1.5829145728643217,
          1.6180904522613064,
          1.6532663316582914,
          1.6884422110552764,
          1.7236180904522613,
          1.7587939698492463,
          1.793969849246231,
          1.829145728643216,
          1.864321608040201,
          1.899497487437186,
          1.934673366834171,
          1.9698492462311559,
          1.9999999,
          2.0000001,
          2.0050251256281406,
          2.040201005025126,
          2.0753768844221105,
          2.1105527638190953,
          2.1457286432160805,
          2.180904522613065,
          2.2160804020100504,
          2.251256281407035,
          2.28643216080402,
          2.321608040201005,
          2.35678391959799,
          2.391959798994975,
          2.4271356783919598,
          2.4623115577889445,
          2.4974874371859297,
          2.5326633165829144,
          2.5678391959798996,
          2.6030150753768844,
          2.638190954773869,
          2.6733668341708543,
          2.708542713567839,
          2.7437185929648242,
          2.778894472361809,
          2.8140703517587937,
          2.849246231155779,
          2.8844221105527637,
          2.919597989949749,
          2.9547738693467336,
          2.9899497487437188,
          3.0251256281407035,
          3.0603015075376883,
          3.0954773869346734,
          3.130653266331658,
          3.1658291457286434,
          3.201005025125628,
          3.236180904522613,
          3.271356783919598,
          3.306532663316583,
          3.341708542713568,
          3.3768844221105527,
          3.4120603015075375,
          3.4472361809045227,
          3.4824120603015074,
          3.4999999,
          3.5000001,
          3.5175879396984926,
          3.5527638190954773,
          3.587939698492462,
          3.6231155778894473,
          3.658291457286432,
          3.693467336683417,
          3.728643216080402,
          3.7638190954773867,
          3.798994974874372,
          3.8341708542713566,
          3.869346733668342,
          3.9045226130653266,
          3.9396984924623117,
          3.9748743718592965,
          3.9999999,
          4.0000001,
          4.010050251256281,
          4.045226130653266,
          4.080402010050252,
          4.115577889447236,
          4.150753768844221,
          4.185929648241206,
          4.221105527638191,
          4.256281407035176,
          4.291457286432161,
          4.326633165829145,
          4.36180904522613,
          4.396984924623116,
          4.432160804020101,
          4.467336683417085,
          4.50251256281407,
          4.5376884422110555,
          4.57286432160804,
          4.608040201005025,
          4.64321608040201,
          4.678391959798995,
          4.71356783919598,
          4.748743718592965,
          4.78391959798995,
          4.819095477386934,
          4.8542713567839195,
          4.889447236180905,
          4.924623115577889,
          4.959798994974874,
          4.994974874371859,
          4.9999999,
          5.0000001,
          5.030150753768845,
          5.065326633165829,
          5.100502512562814,
          5.135678391959799,
          5.1708542713567835,
          5.206030150753769,
          5.241206030150754,
          5.276381909547738,
          5.311557788944723,
          5.346733668341709,
          5.381909547738694,
          5.417085427135678,
          5.452261306532663,
          5.4874371859296485,
          5.522613065326633,
          5.557788944723618,
          5.592964824120603,
          5.628140703517587,
          5.663316582914573,
          5.698492462311558,
          5.733668341708543,
          5.768844221105527,
          5.8040201005025125,
          5.839195979899498,
          5.874371859296482,
          5.909547738693467,
          5.944723618090452,
          5.9798994974874375,
          6.015075376884422,
          6.050251256281407,
          6.085427135678392,
          6.1206030150753765,
          6.155778894472362,
          6.190954773869347,
          6.226130653266331,
          6.261306532663316,
          6.296482412060302,
          6.331658291457287,
          6.366834170854271,
          6.402010050251256,
          6.437185929648241,
          6.472361809045226,
          6.507537688442211,
          6.542713567839196,
          6.57788944723618,
          6.613065326633166,
          6.648241206030151,
          6.683417085427136,
          6.71859296482412,
          6.7537688442211055,
          6.788944723618091,
          6.824120603015075,
          6.85929648241206,
          6.894472361809045,
          6.9296482412060305,
          6.964824120603015,
          6.9999999,
          7
         ],
         "xaxis": "x3",
         "y": [
          0,
          -0.000238153846153846,
          -83.77270970235789,
          -167.54541940471577,
          -251.31812910707367,
          -335.09083880943155,
          -418.8635485117894,
          -502.63625821414735,
          -586.4089679165053,
          -670.1816776188631,
          -753.954387321221,
          -837.7270970235788,
          -921.4998067259369,
          -1005.2725164282947,
          -1089.0452261306525,
          -1172.8179358330106,
          -1256.5906455353684,
          -1340.3633552377262,
          -1424.1360649400842,
          -1507.908774642442,
          -1591.6814843447999,
          -1675.4541940471577,
          -1759.2269037495157,
          -1842.9996134518738,
          -1926.7723231542313,
          -2010.5450328565894,
          -2094.3177425589474,
          -2178.090452261305,
          -2261.863161963663,
          -2345.635871666021,
          -2381.538223384614,
          -2381.538699692296,
          -2429.0045511671215,
          -2510.1258126737266,
          -2588.7723891976293,
          -2664.9442807388295,
          -2738.6414872973273,
          -2809.8640088731236,
          -2878.6118454662155,
          -2944.8849970766064,
          -3008.683463704295,
          -3070.0072453492803,
          -3128.8563420115634,
          -3185.2307536911435,
          -3239.130480388022,
          -3290.555522102198,
          -3339.5058788336714,
          -3385.9815505824427,
          -3429.9825373485105,
          -3471.5088391318764,
          -3510.5604559325398,
          -3547.137387750501,
          -3581.23963458576,
          -3612.8671964383157,
          -3642.020073308169,
          -3668.6982651953203,
          -3692.9017720997695,
          -3714.6305940215157,
          -3733.884730960559,
          -3750.6641829169007,
          -3763.076884923064,
          -3763.0768612307565,
          -3759.9438242623987,
          -3736.598026856351,
          -3710.777544467599,
          -3682.4823770961466,
          -3651.71252474199,
          -3618.4679874051317,
          -3582.748765085571,
          -3544.554857783308,
          -3503.886265498343,
          -3460.742988230674,
          -3415.1250259803055,
          -3367.0323787472307,
          -3316.4650465314544,
          -3263.4230293329774,
          -3207.906327151797,
          -3149.9149399879143,
          -3089.448867841329,
          -3026.5081107120413,
          -2961.092668600052,
          -2893.2025415053577,
          -2822.8377294279644,
          -2749.998232367866,
          -2674.684050325065,
          -2596.8951832995626,
          -2516.6316312913577,
          -2433.8933943004504,
          -2348.6804723268397,
          -2260.992865370529,
          -2170.8305734315118,
          -2078.1935965097955,
          -1983.0819346053777,
          -1885.4955877182547,
          -1785.434555848431,
          -1682.8988389959013,
          -1577.8884371606728,
          -1470.4033503427418,
          -1360.4435785421074,
          -1248.0091217587697,
          -1133.0999799927313,
          -1015.7161532439886,
          -895.8576415125453,
          -773.5244447983987,
          -648.7165631015514,
          -585.3849772307522,
          -2585.3842535384492,
          -2521.4339964219953,
          -2391.676744759744,
          -2259.444808114785,
          -2124.7381864871277,
          -1987.5568798767654,
          -1847.9008882836997,
          -1705.7702117079361,
          -1561.1648501494665,
          -1414.0848036082953,
          -1264.5300720844225,
          -1112.5006555778418,
          -957.996554088566,
          -801.017767616584,
          -641.5642961619014,
          -526.1543079999828,
          -526.1533843076832,
          -479.73714727483093,
          -317.27870119829095,
          -154.8202551217546,
          7.638190954778111,
          170.0966370313181,
          332.55508310785626,
          495.01352918438533,
          657.4719752609271,
          819.9304213374635,
          982.3888674139962,
          1144.8473134905362,
          1307.3057595670725,
          1469.7642056436107,
          1632.2226517201452,
          1794.6810977966834,
          1957.1395438732197,
          2119.5979899497543,
          2282.0564360262906,
          2444.514882102829,
          2606.973328179367,
          2769.4317742558997,
          2931.890220332438,
          3094.348666408976,
          3256.8071124855105,
          3419.2655585620487,
          3581.724004638585,
          3744.1824507151196,
          3906.6408967916577,
          4069.099342868194,
          4092.3072304615416,
          4092.3073853846254,
          3999.7680711248595,
          3891.805179744886,
          3783.842288364909,
          3675.8793969849357,
          3567.9165056049587,
          3459.953614224978,
          3351.9907228450047,
          3244.0278314650277,
          3136.064940085049,
          3028.1020487050773,
          2920.1391573250985,
          2812.1762659451215,
          2704.2133745651445,
          2596.2504831851656,
          2488.287591805194,
          2380.324700425217,
          2272.3618090452346,
          2164.3989176652613,
          2056.436026285286,
          1948.4731349053036,
          1840.510243525332,
          1732.5473521453569,
          1624.5844607653744,
          1516.6215693854028,
          1408.6586780054313,
          1300.6957866254452,
          1192.73289524547,
          1084.7700038654984,
          976.8071124855269,
          868.8442211055444,
          760.8813297255692,
          652.918438345594,
          544.9555469656152,
          436.99265558564,
          329.02976420566847,
          221.066872825686,
          113.10398144571082,
          5.141090065728349,
          -102.8218013142432,
          -210.78469269422203,
          -318.7475840741972,
          -426.71047545417605,
          -534.6733668341512,
          -642.6362582141337,
          -750.5991495941053,
          -858.5620409740804,
          -966.5249323540629,
          -1074.487823734038,
          -1182.450715114006,
          -1290.4136064939885,
          -1398.3764978739673,
          -1506.3393892539352,
          -1614.3022806339177,
          -1722.2651720138929,
          -1830.2280633938717,
          -1938.190954773847,
          -2046.1535392307378,
          7.275957614183426e-12
         ],
         "yaxis": "y3"
        },
        {
         "fill": "tozeroy",
         "hovertemplate": "x: %{x:.3f} %{meta[0]}<br>f(x): %{y:.3f} %{meta[1]}",
         "line": {
          "color": "blue",
          "width": 1
         },
         "meta": [
          "m",
          "m"
         ],
         "mode": "lines",
         "name": "Deflection",
         "type": "scatter",
         "x": [
          0,
          1e-7,
          0.035175879396984924,
          0.07035175879396985,
          0.10552763819095477,
          0.1407035175879397,
          0.1758793969849246,
          0.21105527638190955,
          0.24623115577889448,
          0.2814070351758794,
          0.3165829145728643,
          0.3517587939698492,
          0.3869346733668342,
          0.4221105527638191,
          0.457286432160804,
          0.49246231155778897,
          0.5276381909547738,
          0.5628140703517588,
          0.5979899497487438,
          0.6331658291457286,
          0.6683417085427136,
          0.7035175879396984,
          0.7386934673366834,
          0.7738693467336684,
          0.8090452261306532,
          0.8442211055276382,
          0.8793969849246231,
          0.914572864321608,
          0.949748743718593,
          0.9849246231155779,
          0.9999999,
          1.0000001,
          1.020100502512563,
          1.0552763819095476,
          1.0904522613065326,
          1.1256281407035176,
          1.1608040201005025,
          1.1959798994974875,
          1.2311557788944723,
          1.2663316582914572,
          1.3015075376884422,
          1.3366834170854272,
          1.3718592964824121,
          1.4070351758793969,
          1.4422110552763818,
          1.4773869346733668,
          1.5125628140703518,
          1.5477386934673367,
          1.5829145728643217,
          1.6180904522613064,
          1.6532663316582914,
          1.6884422110552764,
          1.7236180904522613,
          1.7587939698492463,
          1.793969849246231,
          1.829145728643216,
          1.864321608040201,
          1.899497487437186,
          1.934673366834171,
          1.9698492462311559,
          1.9999999,
          2.0000001,
          2.0050251256281406,
          2.040201005025126,
          2.0753768844221105,
          2.1105527638190953,
          2.1457286432160805,
          2.180904522613065,
          2.2160804020100504,
          2.251256281407035,
          2.28643216080402,
          2.321608040201005,
          2.35678391959799,
          2.391959798994975,
          2.4271356783919598,
          2.4623115577889445,
          2.4974874371859297,
          2.5326633165829144,
          2.5678391959798996,
          2.6030150753768844,
          2.638190954773869,
          2.6733668341708543,
          2.708542713567839,
          2.7437185929648242,
          2.778894472361809,
          2.8140703517587937,
          2.849246231155779,
          2.8844221105527637,
          2.919597989949749,
          2.9547738693467336,
          2.9899497487437188,
          3.0251256281407035,
          3.0603015075376883,
          3.0954773869346734,
          3.130653266331658,
          3.1658291457286434,
          3.201005025125628,
          3.236180904522613,
          3.271356783919598,
          3.306532663316583,
          3.341708542713568,
          3.3768844221105527,
          3.4120603015075375,
          3.4472361809045227,
          3.4824120603015074,
          3.4999999,
          3.5000001,
          3.5175879396984926,
          3.5527638190954773,
          3.587939698492462,
          3.6231155778894473,
          3.658291457286432,
          3.693467336683417,
          3.728643216080402,
          3.7638190954773867,
          3.798994974874372,
          3.8341708542713566,
          3.869346733668342,
          3.9045226130653266,
          3.9396984924623117,
          3.9748743718592965,
          3.9999999,
          4.0000001,
          4.010050251256281,
          4.045226130653266,
          4.080402010050252,
          4.115577889447236,
          4.150753768844221,
          4.185929648241206,
          4.221105527638191,
          4.256281407035176,
          4.291457286432161,
          4.326633165829145,
          4.36180904522613,
          4.396984924623116,
          4.432160804020101,
          4.467336683417085,
          4.50251256281407,
          4.5376884422110555,
          4.57286432160804,
          4.608040201005025,
          4.64321608040201,
          4.678391959798995,
          4.71356783919598,
          4.748743718592965,
          4.78391959798995,
          4.819095477386934,
          4.8542713567839195,
          4.889447236180905,
          4.924623115577889,
          4.959798994974874,
          4.994974874371859,
          4.9999999,
          5.0000001,
          5.030150753768845,
          5.065326633165829,
          5.100502512562814,
          5.135678391959799,
          5.1708542713567835,
          5.206030150753769,
          5.241206030150754,
          5.276381909547738,
          5.311557788944723,
          5.346733668341709,
          5.381909547738694,
          5.417085427135678,
          5.452261306532663,
          5.4874371859296485,
          5.522613065326633,
          5.557788944723618,
          5.592964824120603,
          5.628140703517587,
          5.663316582914573,
          5.698492462311558,
          5.733668341708543,
          5.768844221105527,
          5.8040201005025125,
          5.839195979899498,
          5.874371859296482,
          5.909547738693467,
          5.944723618090452,
          5.9798994974874375,
          6.015075376884422,
          6.050251256281407,
          6.085427135678392,
          6.1206030150753765,
          6.155778894472362,
          6.190954773869347,
          6.226130653266331,
          6.261306532663316,
          6.296482412060302,
          6.331658291457287,
          6.366834170854271,
          6.402010050251256,
          6.437185929648241,
          6.472361809045226,
          6.507537688442211,
          6.542713567839196,
          6.57788944723618,
          6.613065326633166,
          6.648241206030151,
          6.683417085427136,
          6.71859296482412,
          6.7537688442211055,
          6.788944723618091,
          6.824120603015075,
          6.85929648241206,
          6.894472361809045,
          6.9296482412060305,
          6.964824120603015,
          6.9999999,
          7
         ],
         "xaxis": "x4",
         "y": [
          0,
          2.885677858053548e-10,
          0.00010149671160503166,
          0.00020293615495960458,
          0.00030426106181326,
          0.00040541416391553907,
          0.000506338193015983,
          0.0006069758808641333,
          0.0007072699592095311,
          0.0008071631598017174,
          0.0009065982143902335,
          0.0010055178547246208,
          0.0011038648125544209,
          0.0012015818196291742,
          0.0012986116076984225,
          0.001394896908511707,
          0.0014903804538185684,
          0.0015850049753685486,
          0.001678713204911189,
          0.0017714478741960298,
          0.0018631517149726134,
          0.00195376745899048,
          0.002043237837999172,
          0.00213150558374823,
          0.002218513427987195,
          0.002304204102465608,
          0.0023885203389330113,
          0.0024714048691389452,
          0.0025528004248329514,
          0.0026326497377645716,
          0.002666383117637054,
          0.0026663835631959157,
          0.0027108955471990184,
          0.002787480992170687,
          0.0028623506193759187,
          0.002935450664863921,
          0.003006729056414777,
          0.003076135413539444,
          0.0031436210474797503,
          0.003209138961208402,
          0.0032726438494289777,
          0.003334092098575929,
          0.0033934417868145814,
          0.003450652684041135,
          0.003505686251882666,
          0.0035585056436971195,
          0.0036090757045733183,
          0.003657362971330959,
          0.0037033356725206107,
          0.0037469637284237166,
          0.0037882187510525946,
          0.003827074044150436,
          0.0038635046031913075,
          0.0038974871153801462,
          0.003928999959652766,
          0.003958023206675857,
          0.0039845386188469755,
          0.00400852965029456,
          0.0040299814468779185,
          0.0040488808461872335,
          0.004063040046833824,
          0.004063040134494965,
          0.004065216389228084,
          0.004078984244474029,
          0.004090197847597144,
          0.0040988748498571,
          0.0041050345942444475,
          0.004108698115480603,
          0.004109888140017862,
          0.004108629086039391,
          0.004104947063459233,
          0.004098869873922303,
          0.004090427010804393,
          0.004079649659212164,
          0.004066570695983153,
          0.004051224689685775,
          0.004033647900619313,
          0.004013878280813926,
          0.00399195547403065,
          0.00396792081576139,
          0.003941817333228929,
          0.0039136897453869186,
          0.00388358446291989,
          0.0038515495882432463,
          0.0038176349155032646,
          0.003781891930577094,
          0.0037443738110727615,
          0.0037051354263291647,
          0.003664233337416076,
          0.003621725797134141,
          0.003577672750014882,
          0.0035321358323206925,
          0.0034851783720448413,
          0.003436865388911467,
          0.003387263594375591,
          0.003336441391623102,
          0.0032844688755707613,
          0.003231417832866209,
          0.0031773617418879565,
          0.0031223757727453895,
          0.003066536787278767,
          0.003009923339059221,
          0.0029526156733887684,
          0.0028946957273002782,
          0.0028362471295575115,
          0.002806851350318755,
          0.0028068510154554546,
          0.002777184296996072,
          0.002716568819887302,
          0.002654318498528556,
          0.00259052372860708,
          0.002525276597541005,
          0.0024586708844793206,
          0.0023908020603019124,
          0.0023217672876195156,
          0.0022516654207737586,
          0.00218059700583713,
          0.0021086642806130047,
          0.00203597117463562,
          0.0019626233091700977,
          0.0018887279972124226,
          0.00183567098645702,
          0.0018356705633375881,
          0.0018143942430197185,
          0.0017397325518404803,
          0.0016648539642973737,
          0.001589869539361904,
          0.0015148903360055598,
          0.0014400274131998354,
          0.0013653918299162465,
          0.0012910946451262614,
          0.0012172469178014303,
          0.001143959706913199,
          0.001071344071433061,
          0.0009995110703325434,
          0.0009285717625831151,
          0.0008586372071563136,
          0.0007898184630235955,
          0.0007222265891564756,
          0.0006559726445264568,
          0.0005911676881050218,
          0.0005279227788636733,
          0.00046634897577390796,
          0.0004065573378072389,
          0.00034865892393513495,
          0.0002927647931290911,
          0.0002389860043606317,
          0.00018743361660123782,
          0.00013821868882242343,
          0.00009145227999565742,
          0.00004724544909244337,
          0.000005709255084303949,
          1.13047200073213e-10,
          -1.1304714629678525e-10,
          -0.000033064645691228967,
          -0.00006910433629929609,
          -0.00010248353192560122,
          -0.0001332760375828898,
          -0.00016155565828383095,
          -0.0001873961990411458,
          -0.00021087146486751217,
          -0.00023205526077566853,
          -0.00025102139177831176,
          -0.00026784366288810924,
          -0.00028259587911779946,
          -0.00029535184548007756,
          -0.00030618536698764215,
          -0.0003151702486532161,
          -0.00032238029548948416,
          -0.00032788931250913797,
          -0.00033177110472490043,
          -0.0003340994771494979,
          -0.00033494823479558386,
          -0.00033439118267587775,
          -0.00033250212580312674,
          -0.0003293548691899635,
          -0.0003250232178491526,
          -0.000319580976793344,
          -0.0003131019510352953,
          -0.0003056599455876913,
          -0.00029732876546321313,
          -0.00028818221567457683,
          -0.0002782941012344983,
          -0.0002677382271556866,
          -0.00025658839845079176,
          -0.00024491842013259213,
          -0.00023280209721376205,
          -0.0002203132347069689,
          -0.00020752563762495985,
          -0.00019451311098041962,
          -0.00018134945978608846,
          -0.00016810848905459558,
          -0.00015486400379870202,
          -0.0001416898090311064,
          -0.00012865970976446567,
          -0.00011584751101156171,
          -0.0001033270177850723,
          -0.0000911720350976683,
          -0.00007945636796205524,
          -0.00006825382139100111,
          -0.00005763820039707268,
          -0.000047683309993169776,
          -0.000038462955191838344,
          -0.00003005094100581862,
          -0.000022521072447830026,
          -0.000015947154530536467,
          -0.000010402992266768385,
          -0.0000059623906690786654,
          -0.000002699154750290811,
          -6.870895229854623e-7,
          3.469446951953614e-17,
          3.469446951953614e-17
         ],
         "yaxis": "y4"
        }
       ],
       "layout": {
        "annotations": [
         {
          "font": {
           "size": 16
          },
          "showarrow": false,
          "text": "Normal Force Diagram",
          "x": 0.5,
          "xanchor": "center",
          "xref": "paper",
          "y": 1,
          "yanchor": "bottom",
          "yref": "paper"
         },
         {
          "font": {
           "size": 16
          },
          "showarrow": false,
          "text": "Shear Force Diagram",
          "x": 0.5,
          "xanchor": "center",
          "xref": "paper",
          "y": 0.7375,
          "yanchor": "bottom",
          "yref": "paper"
         },
         {
          "font": {
           "size": 16
          },
          "showarrow": false,
          "text": "Bending Moment Diagram",
          "x": 0.5,
          "xanchor": "center",
          "xref": "paper",
          "y": 0.475,
          "yanchor": "bottom",
          "yref": "paper"
         },
         {
          "font": {
           "size": 16
          },
          "showarrow": false,
          "text": "Deflection Diagram",
          "x": 0.5,
          "xanchor": "center",
          "xref": "paper",
          "y": 0.2125,
          "yanchor": "bottom",
          "yref": "paper"
         }
        ],
        "height": 1000,
        "showlegend": false,
        "template": {
         "data": {
          "bar": [
           {
            "error_x": {
             "color": "#2a3f5f"
            },
            "error_y": {
             "color": "#2a3f5f"
            },
            "marker": {
             "line": {
              "color": "#E5ECF6",
              "width": 0.5
             },
             "pattern": {
              "fillmode": "overlay",
              "size": 10,
              "solidity": 0.2
             }
            },
            "type": "bar"
           }
          ],
          "barpolar": [
           {
            "marker": {
             "line": {
              "color": "#E5ECF6",
              "width": 0.5
             },
             "pattern": {
              "fillmode": "overlay",
              "size": 10,
              "solidity": 0.2
             }
            },
            "type": "barpolar"
           }
          ],
          "carpet": [
           {
            "aaxis": {
             "endlinecolor": "#2a3f5f",
             "gridcolor": "white",
             "linecolor": "white",
             "minorgridcolor": "white",
             "startlinecolor": "#2a3f5f"
            },
            "baxis": {
             "endlinecolor": "#2a3f5f",
             "gridcolor": "white",
             "linecolor": "white",
             "minorgridcolor": "white",
             "startlinecolor": "#2a3f5f"
            },
            "type": "carpet"
           }
          ],
          "choropleth": [
           {
            "colorbar": {
             "outlinewidth": 0,
             "ticks": ""
            },
            "type": "choropleth"
           }
          ],
          "contour": [
           {
            "colorbar": {
             "outlinewidth": 0,
             "ticks": ""
            },
            "colorscale": [
             [
              0,
              "#0d0887"
             ],
             [
              0.1111111111111111,
              "#46039f"
             ],
             [
              0.2222222222222222,
              "#7201a8"
             ],
             [
              0.3333333333333333,
              "#9c179e"
             ],
             [
              0.4444444444444444,
              "#bd3786"
             ],
             [
              0.5555555555555556,
              "#d8576b"
             ],
             [
              0.6666666666666666,
              "#ed7953"
             ],
             [
              0.7777777777777778,
              "#fb9f3a"
             ],
             [
              0.8888888888888888,
              "#fdca26"
             ],
             [
              1,
              "#f0f921"
             ]
            ],
            "type": "contour"
           }
          ],
          "contourcarpet": [
           {
            "colorbar": {
             "outlinewidth": 0,
             "ticks": ""
            },
            "type": "contourcarpet"
           }
          ],
          "heatmap": [
           {
            "colorbar": {
             "outlinewidth": 0,
             "ticks": ""
            },
            "colorscale": [
             [
              0,
              "#0d0887"
             ],
             [
              0.1111111111111111,
              "#46039f"
             ],
             [
              0.2222222222222222,
              "#7201a8"
             ],
             [
              0.3333333333333333,
              "#9c179e"
             ],
             [
              0.4444444444444444,
              "#bd3786"
             ],
             [
              0.5555555555555556,
              "#d8576b"
             ],
             [
              0.6666666666666666,
              "#ed7953"
             ],
             [
              0.7777777777777778,
              "#fb9f3a"
             ],
             [
              0.8888888888888888,
              "#fdca26"
             ],
             [
              1,
              "#f0f921"
             ]
            ],
            "type": "heatmap"
           }
          ],
          "heatmapgl": [
           {
            "colorbar": {
             "outlinewidth": 0,
             "ticks": ""
            },
            "colorscale": [
             [
              0,
              "#0d0887"
             ],
             [
              0.1111111111111111,
              "#46039f"
             ],
             [
              0.2222222222222222,
              "#7201a8"
             ],
             [
              0.3333333333333333,
              "#9c179e"
             ],
             [
              0.4444444444444444,
              "#bd3786"
             ],
             [
              0.5555555555555556,
              "#d8576b"
             ],
             [
              0.6666666666666666,
              "#ed7953"
             ],
             [
              0.7777777777777778,
              "#fb9f3a"
             ],
             [
              0.8888888888888888,
              "#fdca26"
             ],
             [
              1,
              "#f0f921"
             ]
            ],
            "type": "heatmapgl"
           }
          ],
          "histogram": [
           {
            "marker": {
             "pattern": {
              "fillmode": "overlay",
              "size": 10,
              "solidity": 0.2
             }
            },
            "type": "histogram"
           }
          ],
          "histogram2d": [
           {
            "colorbar": {
             "outlinewidth": 0,
             "ticks": ""
            },
            "colorscale": [
             [
              0,
              "#0d0887"
             ],
             [
              0.1111111111111111,
              "#46039f"
             ],
             [
              0.2222222222222222,
              "#7201a8"
             ],
             [
              0.3333333333333333,
              "#9c179e"
             ],
             [
              0.4444444444444444,
              "#bd3786"
             ],
             [
              0.5555555555555556,
              "#d8576b"
             ],
             [
              0.6666666666666666,
              "#ed7953"
             ],
             [
              0.7777777777777778,
              "#fb9f3a"
             ],
             [
              0.8888888888888888,
              "#fdca26"
             ],
             [
              1,
              "#f0f921"
             ]
            ],
            "type": "histogram2d"
           }
          ],
          "histogram2dcontour": [
           {
            "colorbar": {
             "outlinewidth": 0,
             "ticks": ""
            },
            "colorscale": [
             [
              0,
              "#0d0887"
             ],
             [
              0.1111111111111111,
              "#46039f"
             ],
             [
              0.2222222222222222,
              "#7201a8"
             ],
             [
              0.3333333333333333,
              "#9c179e"
             ],
             [
              0.4444444444444444,
              "#bd3786"
             ],
             [
              0.5555555555555556,
              "#d8576b"
             ],
             [
              0.6666666666666666,
              "#ed7953"
             ],
             [
              0.7777777777777778,
              "#fb9f3a"
             ],
             [
              0.8888888888888888,
              "#fdca26"
             ],
             [
              1,
              "#f0f921"
             ]
            ],
            "type": "histogram2dcontour"
           }
          ],
          "mesh3d": [
           {
            "colorbar": {
             "outlinewidth": 0,
             "ticks": ""
            },
            "type": "mesh3d"
           }
          ],
          "parcoords": [
           {
            "line": {
             "colorbar": {
              "outlinewidth": 0,
              "ticks": ""
             }
            },
            "type": "parcoords"
           }
          ],
          "pie": [
           {
            "automargin": true,
            "type": "pie"
           }
          ],
          "scatter": [
           {
            "fillpattern": {
             "fillmode": "overlay",
             "size": 10,
             "solidity": 0.2
            },
            "type": "scatter"
           }
          ],
          "scatter3d": [
           {
            "line": {
             "colorbar": {
              "outlinewidth": 0,
              "ticks": ""
             }
            },
            "marker": {
             "colorbar": {
              "outlinewidth": 0,
              "ticks": ""
             }
            },
            "type": "scatter3d"
           }
          ],
          "scattercarpet": [
           {
            "marker": {
             "colorbar": {
              "outlinewidth": 0,
              "ticks": ""
             }
            },
            "type": "scattercarpet"
           }
          ],
          "scattergeo": [
           {
            "marker": {
             "colorbar": {
              "outlinewidth": 0,
              "ticks": ""
             }
            },
            "type": "scattergeo"
           }
          ],
          "scattergl": [
           {
            "marker": {
             "colorbar": {
              "outlinewidth": 0,
              "ticks": ""
             }
            },
            "type": "scattergl"
           }
          ],
          "scattermapbox": [
           {
            "marker": {
             "colorbar": {
              "outlinewidth": 0,
              "ticks": ""
             }
            },
            "type": "scattermapbox"
           }
          ],
          "scatterpolar": [
           {
            "marker": {
             "colorbar": {
              "outlinewidth": 0,
              "ticks": ""
             }
            },
            "type": "scatterpolar"
           }
          ],
          "scatterpolargl": [
           {
            "marker": {
             "colorbar": {
              "outlinewidth": 0,
              "ticks": ""
             }
            },
            "type": "scatterpolargl"
           }
          ],
          "scatterternary": [
           {
            "marker": {
             "colorbar": {
              "outlinewidth": 0,
              "ticks": ""
             }
            },
            "type": "scatterternary"
           }
          ],
          "surface": [
           {
            "colorbar": {
             "outlinewidth": 0,
             "ticks": ""
            },
            "colorscale": [
             [
              0,
              "#0d0887"
             ],
             [
              0.1111111111111111,
              "#46039f"
             ],
             [
              0.2222222222222222,
              "#7201a8"
             ],
             [
              0.3333333333333333,
              "#9c179e"
             ],
             [
              0.4444444444444444,
              "#bd3786"
             ],
             [
              0.5555555555555556,
              "#d8576b"
             ],
             [
              0.6666666666666666,
              "#ed7953"
             ],
             [
              0.7777777777777778,
              "#fb9f3a"
             ],
             [
              0.8888888888888888,
              "#fdca26"
             ],
             [
              1,
              "#f0f921"
             ]
            ],
            "type": "surface"
           }
          ],
          "table": [
           {
            "cells": {
             "fill": {
              "color": "#EBF0F8"
             },
             "line": {
              "color": "white"
             }
            },
            "header": {
             "fill": {
              "color": "#C8D4E3"
             },
             "line": {
              "color": "white"
             }
            },
            "type": "table"
           }
          ]
         },
         "layout": {
          "annotationdefaults": {
           "arrowcolor": "#2a3f5f",
           "arrowhead": 0,
           "arrowwidth": 1
          },
          "autotypenumbers": "strict",
          "coloraxis": {
           "colorbar": {
            "outlinewidth": 0,
            "ticks": ""
           }
          },
          "colorscale": {
           "diverging": [
            [
             0,
             "#8e0152"
            ],
            [
             0.1,
             "#c51b7d"
            ],
            [
             0.2,
             "#de77ae"
            ],
            [
             0.3,
             "#f1b6da"
            ],
            [
             0.4,
             "#fde0ef"
            ],
            [
             0.5,
             "#f7f7f7"
            ],
            [
             0.6,
             "#e6f5d0"
            ],
            [
             0.7,
             "#b8e186"
            ],
            [
             0.8,
             "#7fbc41"
            ],
            [
             0.9,
             "#4d9221"
            ],
            [
             1,
             "#276419"
            ]
           ],
           "sequential": [
            [
             0,
             "#0d0887"
            ],
            [
             0.1111111111111111,
             "#46039f"
            ],
            [
             0.2222222222222222,
             "#7201a8"
            ],
            [
             0.3333333333333333,
             "#9c179e"
            ],
            [
             0.4444444444444444,
             "#bd3786"
            ],
            [
             0.5555555555555556,
             "#d8576b"
            ],
            [
             0.6666666666666666,
             "#ed7953"
            ],
            [
             0.7777777777777778,
             "#fb9f3a"
            ],
            [
             0.8888888888888888,
             "#fdca26"
            ],
            [
             1,
             "#f0f921"
            ]
           ],
           "sequentialminus": [
            [
             0,
             "#0d0887"
            ],
            [
             0.1111111111111111,
             "#46039f"
            ],
            [
             0.2222222222222222,
             "#7201a8"
            ],
            [
             0.3333333333333333,
             "#9c179e"
            ],
            [
             0.4444444444444444,
             "#bd3786"
            ],
            [
             0.5555555555555556,
             "#d8576b"
            ],
            [
             0.6666666666666666,
             "#ed7953"
            ],
            [
             0.7777777777777778,
             "#fb9f3a"
            ],
            [
             0.8888888888888888,
             "#fdca26"
            ],
            [
             1,
             "#f0f921"
            ]
           ]
          },
          "colorway": [
           "#636efa",
           "#EF553B",
           "#00cc96",
           "#ab63fa",
           "#FFA15A",
           "#19d3f3",
           "#FF6692",
           "#B6E880",
           "#FF97FF",
           "#FECB52"
          ],
          "font": {
           "color": "#2a3f5f"
          },
          "geo": {
           "bgcolor": "white",
           "lakecolor": "white",
           "landcolor": "#E5ECF6",
           "showlakes": true,
           "showland": true,
           "subunitcolor": "white"
          },
          "hoverlabel": {
           "align": "left"
          },
          "hovermode": "closest",
          "mapbox": {
           "style": "light"
          },
          "paper_bgcolor": "white",
          "plot_bgcolor": "#E5ECF6",
          "polar": {
           "angularaxis": {
            "gridcolor": "white",
            "linecolor": "white",
            "ticks": ""
           },
           "bgcolor": "#E5ECF6",
           "radialaxis": {
            "gridcolor": "white",
            "linecolor": "white",
            "ticks": ""
           }
          },
          "scene": {
           "xaxis": {
            "backgroundcolor": "#E5ECF6",
            "gridcolor": "white",
            "gridwidth": 2,
            "linecolor": "white",
            "showbackground": true,
            "ticks": "",
            "zerolinecolor": "white"
           },
           "yaxis": {
            "backgroundcolor": "#E5ECF6",
            "gridcolor": "white",
            "gridwidth": 2,
            "linecolor": "white",
            "showbackground": true,
            "ticks": "",
            "zerolinecolor": "white"
           },
           "zaxis": {
            "backgroundcolor": "#E5ECF6",
            "gridcolor": "white",
            "gridwidth": 2,
            "linecolor": "white",
            "showbackground": true,
            "ticks": "",
            "zerolinecolor": "white"
           }
          },
          "shapedefaults": {
           "line": {
            "color": "#2a3f5f"
           }
          },
          "ternary": {
           "aaxis": {
            "gridcolor": "white",
            "linecolor": "white",
            "ticks": ""
           },
           "baxis": {
            "gridcolor": "white",
            "linecolor": "white",
            "ticks": ""
           },
           "bgcolor": "#E5ECF6",
           "caxis": {
            "gridcolor": "white",
            "linecolor": "white",
            "ticks": ""
           }
          },
          "title": {
           "x": 0.05
          },
          "xaxis": {
           "automargin": true,
           "gridcolor": "white",
           "linecolor": "white",
           "ticks": "",
           "title": {
            "standoff": 15
           },
           "zerolinecolor": "white",
           "zerolinewidth": 2
          },
          "yaxis": {
           "automargin": true,
           "gridcolor": "white",
           "linecolor": "white",
           "ticks": "",
           "title": {
            "standoff": 15
           },
           "zerolinecolor": "white",
           "zerolinewidth": 2
          }
         }
        },
        "title": {
         "font": {
          "size": 24
         },
         "text": "Analysis Results",
         "x": 0.5
        },
        "width": 700,
        "xaxis": {
         "anchor": "y",
         "domain": [
          0,
          1
         ],
         "matches": "x4",
         "showticklabels": false
        },
        "xaxis2": {
         "anchor": "y2",
         "domain": [
          0,
          1
         ],
         "matches": "x4",
         "showticklabels": false
        },
        "xaxis3": {
         "anchor": "y3",
         "domain": [
          0,
          1
         ],
         "matches": "x4",
         "showticklabels": false
        },
        "xaxis4": {
         "anchor": "y4",
         "domain": [
          0,
          1
         ],
         "title": {
          "text": "Beam Length (m)"
         }
        },
        "yaxis": {
         "anchor": "x",
         "domain": [
          0.7875,
          1
         ],
         "title": {
          "text": "Normal Force (N)"
         }
        },
        "yaxis2": {
         "anchor": "x2",
         "domain": [
          0.525,
          0.7375
         ],
         "title": {
          "text": "Shear Force (N)"
         }
        },
        "yaxis3": {
         "anchor": "x3",
         "domain": [
          0.2625,
          0.475
         ],
         "title": {
          "text": "Bending Moment (N.m)"
         }
        },
        "yaxis4": {
         "anchor": "x4",
         "domain": [
          0,
          0.2125
         ],
         "title": {
          "text": "Deflection (m)"
         }
        }
       }
      }
     },
     "metadata": {},
     "output_type": "display_data"
    },
    {
     "name": "stdout",
     "output_type": "stream",
     "text": [
      " x [m]  Axial [N]  Shear [N]  Moment [N.m]  Deflection [m]\n",
      " 0.000          0  -2381.538         0.000           0.000\n",
      " 0.778          0  -2381.538     -1852.308           0.002\n",
      " 1.556          0  -1270.427     -3395.973           0.004\n",
      " 2.333          0   1285.128     -3445.812           0.004\n",
      " 3.111          0   2840.684     -1841.330           0.003\n",
      " 3.889          0   4396.239     -1026.971           0.002\n",
      " 4.667          0   4618.462      2552.821           0.000\n",
      " 5.444          0  -3069.231      2728.205          -0.000\n",
      " 6.222          0  -3069.231       341.026          -0.000\n",
      " 7.000          0      0.000         0.000           0.000\n",
      "Results exported to beam_results.csv\n"
     ]
    }
   ],
   "source": [
    "# Arbritrary example defined in README.md\n",
    "beam = Beam(7)                          # Initialize a Beam object of length 7 m with E and I as defaults\n",
    "beam_2 = Beam(9,E=2000, I =100000)      # Initialize a Beam specifying some beam parameters\n",
    "\n",
    "a = Support(5,(1,1,0))                  # Defines a pin support at location x = 5 m  \n",
    "b = Support(0,(0,1,0))                  # Defines a roller support at location x = 0 m\n",
    "c = Support(7,(1,1,1))                  # Defines a fixed support at location x = 7 m\n",
    "beam.add_supports(a,b,c)    \n",
    "\n",
    "load_1 = PointLoadV(1000,2)                # Defines a point load of 1000 N acting up, at location x = 2 m\n",
    "load_2 = DistributedLoadV(2000,(1,4))      # Defines a 2000 N/m UDL from location x = 1 m to x = 4 m \n",
    "load_3 = PointTorque(2*10**3, 3.5)            # Defines a 2*10**3 N.m point torque at location x = 3.5 m\n",
    "beam.add_loads(load_1,load_2,load_3)    # Assign the support objects to a beam object created earlier\n",
    "\n",
    "# solve the beam\n",
    "beam.analyse()\n",
    "\n",
    "## plot the results for the beam\n",
    "fig_1 = beam.plot_beam_external()\n",
    "fig_1.show()\n",
    "\n",
    "fig_2 = beam.plot_beam_internal()\n",
    "fig_2.show()\n",
    "\n",
    "# print results as a table with 10 points\n",
    "beam.print_results_table(num_points=10, max_dp=3)\n",
    "\n",
    "# optionally export as a csv\n",
    "beam.export_results_csv(filename=\"beam_results.csv\", num_points=10, max_dp=3)\n",
    "\n",
    "# save the figures (optional)\n",
    "# Can save figure using ``fig.write_image(\"./results.pdf\")`` (can change extension to be\n",
    "# png, jpg, svg or other formats as reired). Requires pip install -U kaleido\n",
    "\n",
    "# fig_1.write_image(\"./example_plot_external.png\")\n",
    "# fig_2.write_image(\"./example_plot_internal.png\")"
   ]
  },
  {
   "cell_type": "code",
   "execution_count": null,
   "metadata": {},
   "outputs": [],
   "source": [
    "# Arbritrary example defined in README.md\n",
    "beam = Beam(7)                          # Initialize a Beam object of length 7 m with E and I as defaults\n",
    "beam_2 = Beam(9,E=2000, I =100000)      # Initialize a Beam specifying some beam parameters\n",
    "\n",
    "b = Support(0,(1,1,1))                  # Defines a roller support at location x = 0 m\n",
    "c = Support(7,(1,1,1))                  # Defines a fixed support at location x = 7 m\n",
    "beam.add_supports(b,c)    \n",
    "\n",
    "load_2 = DistributedLoadV(2000,(1,4))      # Defines a 2000 N/m UDL from location x = 1 m to x = 4 m \n",
    "beam.add_loads(load_2)    # Assign the support objects to a beam object created earlier\n",
    "\n",
    "beam.add_hinges(2)\n",
    "\n",
    "beam.analyse()\n",
    "\n",
    "## plot the results for the beam\n",
    "fig_1 = beam.plot_beam_external()\n",
    "fig_1.show()\n",
    "\n",
    "fig_2 = beam.plot_beam_internal()\n",
    "fig_2.show()\n",
    "\n",
    "# save the results (optional)\n",
    "# Can save figure using ``fig.write_image(\"./results.pdf\")`` (can change extension to be\n",
    "# png, jpg, svg or other formats as reired). Requires pip install -U kaleido\n",
    "\n",
    "# fig_1.write_image(\"./example_plot_external.png\")\n",
    "# fig_2.write_image(\"./example_plot_internal.png\")"
   ]
  },
  {
   "cell_type": "code",
   "execution_count": null,
   "metadata": {},
   "outputs": [],
   "source": [
    "beam._plotting_vectors[\"bm\"][\"y_vec\"][0]\n",
    "len(beam._plotting_vectors[\"bm\"][\"y_vec\"])  # returns 212 points\n",
    "\n",
    "beam._plotting_vectors[\"bm\"][\"y_lam\"](2)"
   ]
  },
  {
   "cell_type": "markdown",
   "metadata": {},
   "source": [
    "## 2.2 Querying Data"
   ]
  },
  {
   "cell_type": "code",
   "execution_count": null,
   "metadata": {
    "ExecuteTime": {
     "end_time": "2019-05-08T12:22:38.894727Z",
     "start_time": "2019-05-08T12:22:37.765381Z"
    }
   },
   "outputs": [],
   "source": [
    "# Run section 2 (prior to running this example)   \n",
    "\n",
    "# query for the data at a specfic point (note units are not provided)\n",
    "print(\"bending moments at 3 m: \" + str(beam.get_bending_moment(3)))\n",
    "print(\"shear forces at 1,2,3,4,5m points: \" + str(beam.get_shear_force(1,2,3,4,5)))\n",
    "print(\"normal force absolute max: \" + str(beam.get_normal_force(return_absmax=True)))\n",
    "print(\"deflection max: \" + str(beam.get_deflection(return_max = True)))   \n",
    "\n",
    "##add a query point to a plot (adds values on plot)\n",
    "beam.add_query_points(1,3,5)\n",
    "beam.remove_query_points(5)\n",
    "\n",
    "## plot the results for the beam\n",
    "fig_1 = beam.plot_beam_external()\n",
    "fig_1.show()\n",
    "\n",
    "fig_2 = beam.plot_beam_internal()\n",
    "fig_2.show()\n",
    "\n",
    "# save the results (optional)\n",
    "# Can save figure using ``fig.write_image(\"./results.pdf\")`` (can change extension to be\n",
    "# png, jpg, svg or other formats as reired). Requires pip install -U kaleido\n",
    "\n",
    "# fig_1.write_image(\"./example_plot_external.png\")\n",
    "# fig_2.write_image(\"./example_plot_internal.png\")"
   ]
  },
  {
   "cell_type": "markdown",
   "metadata": {},
   "source": [
    "## 2.3 Specifying Units"
   ]
  },
  {
   "cell_type": "code",
   "execution_count": null,
   "metadata": {},
   "outputs": [],
   "source": [
    "# Readme example as a demonstration for changing units\n",
    "# used and presented in following example. Note that\n",
    "# the example is conceptually identical only with \n",
    "# different units.\n",
    "\n",
    "# update units usings the update_units() function.\n",
    "# use the command below for more information.\n",
    "# help(beam.update_units)\n",
    "\n",
    "# note: initialising beam with the anticipation that units will be updated\n",
    "beam = Beam(7000, E = 200 * 10 **6, I = 9.05 * 10 **6)\n",
    "\n",
    "beam.update_units(key='length', unit='mm')\n",
    "beam.update_units('force', 'kN')\n",
    "beam.update_units('distributed', 'kN/m')\n",
    "beam.update_units('moment', 'kN.m')\n",
    "beam.update_units('E', 'kPa')\n",
    "beam.update_units('I', 'mm4')\n",
    "beam.update_units('deflection', 'mm')\n",
    "\n",
    "a = Support(5000,(1,1,0))               # Defines a pin support at location x = 5 m (x = 5000 mm)\n",
    "b = Support(0,(0,1,0))                  # Defines a roller support at location x = 0 m\n",
    "c = Support(7000,(1,1,1))               # Defines a fixed support at location x = 7 m (x = 7000 mm)\n",
    "beam.add_supports(a,b,c)    \n",
    "\n",
    "load_1 = PointLoadV(1,2000)             # Defines a point load of 1000 N (1 kN) acting up, at location x = 2 m\n",
    "load_2 = DistributedLoadV(2,(1000,4000))      # Defines a 2000 N/m (2 kN/m) UDL from location x = 1 m to x = 4 m \n",
    "load_3 = PointTorque(2, 3500)           # Defines a 2*10**3 N.m (2 kN.m) point torque at location x = 3.5 m\n",
    "beam.add_loads(load_1,load_2,load_3)    # Assign the support objects to a beam object created earlier\n",
    "\n",
    "beam.analyse()\n",
    "\n",
    "## plot the results for the beam\n",
    "fig_1 = beam.plot_beam_external()\n",
    "fig_1.show()\n",
    "\n",
    "fig_2 = beam.plot_beam_internal()\n",
    "fig_2.show()\n",
    "\n",
    "# save the results (optional)\n",
    "# Can save figure using ``fig.write_image(\"./results.pdf\")`` (can change extension to be\n",
    "# png, jpg, svg or other formats as reired). Requires pip install -U kaleido\n",
    "\n",
    "# fig_1.write_image(\"./example_plot_external.png\")\n",
    "# fig_2.write_image(\"./example_plot_internal.png\")"
   ]
  },
  {
   "cell_type": "markdown",
   "metadata": {},
   "source": [
    "## 2.4 Exporting Results"
   ]
  },
  {
   "cell_type": "code",
   "execution_count": null,
   "metadata": {},
   "outputs": [],
   "source": [
    "# print results as a table with 10 points\n",
    "beam.print_results_table(num_points=10)\n",
    "\n",
    "# optionally export as a csv\n",
    "# beam.export_results_csv(filename=\"filename.csv\", num_points=100)"
   ]
  },
  {
   "cell_type": "markdown",
   "metadata": {},
   "source": [
    "## 3. Support class breakdown"
   ]
  },
  {
   "cell_type": "code",
   "execution_count": null,
   "metadata": {},
   "outputs": [],
   "source": [
    "# The parameters for a support class are as below, taken from the docstring\n",
    "# for the Support class __init__ method.\n",
    "\n",
    "# Parameters:\n",
    "#         -----------\n",
    "#         coord: float\n",
    "#             x coordinate of support on a beam in m (default 0)\n",
    "#         fixed: tuple of 3 booleans\n",
    "#             Degrees of freedom that are fixed on a beam for movement in\n",
    "#             x, y and bending, 1 represents fixed and 0 represents free\n",
    "#             (default (1,1,1))\n",
    "#         kx :\n",
    "#             stiffness of x support (N/m), if set will overide the\n",
    "#             value placed in the fixed tuple. (default = None)\n",
    "#         ky : (positive number)\n",
    "#             stiffness of y support (N/m), if set will overide the\n",
    "#             value placed in the fixed tuple. (default = None)\n",
    "\n",
    "\n",
    "# Lets define every possible degree of freedom combination for\n",
    "# supports below, and view them on a plot:\n",
    "support_0 = Support(0, (1,1,1))     # conventional fixed support\n",
    "support_1 = Support(1, (1,1,0))     # conventional pin support\n",
    "support_2 = Support(2, (1,0,1))     \n",
    "support_3 = Support(3, (0,1,1))\n",
    "support_4 = Support(4, (0,0,1))\n",
    "support_5 = Support(5, (0,1,0))     # conventional roller support\n",
    "support_6 = Support(6, (1,0,0))\n",
    "\n",
    "# Note we could also explicitly define parameters as follows:\n",
    "support_0 = Support(coord=0, fixed=(1,1,1))\n",
    "\n",
    "# Now lets define some spring supports\n",
    "support_7 = Support(7, (0,0,0), kx = 10)    #spring in x direction only\n",
    "support_8 = Support(8, (0,0,0), ky = 5)     # spring in y direction only\n",
    "support_9 = Support(9, (0,0,0), kx = 100, ky = 100)     # spring in x and y direction\n",
    "\n",
    "# Now lets define a support which is fixed in one degree of freedom\n",
    "# but has a spring stiffness in another degree of freedom\n",
    "support_10 = Support(10, (0,1,0), kx = 10) #spring in x direction, fixed in y direction\n",
    "support_11 = Support(11, (0,1,1), kx = 10) #spring in x direction, fixed in y and m direction\n",
    "\n",
    "# Note we could also do the following for the same result since the spring\n",
    "# stiffness overides the fixed boolean in respective directions\n",
    "support_10 = Support(10, (1,1,0), kx =10)\n",
    "\n",
    "# Now lets plot all the supports we have created\n",
    "beam = Beam(11)\n",
    "\n",
    "beam.add_supports(\n",
    "    support_0,\n",
    "    support_1,\n",
    "    support_2,\n",
    "    support_3,\n",
    "    support_4,\n",
    "    support_5,\n",
    "    support_6,\n",
    "    support_7,\n",
    "    support_8,\n",
    "    support_9,\n",
    "    support_10,\n",
    "    support_11,\n",
    ")\n",
    "\n",
    "## plot the results for the beam\n",
    "fig_1 = beam.plot_beam_diagram()\n",
    "fig_1.show()"
   ]
  },
  {
   "cell_type": "markdown",
   "metadata": {},
   "source": [
    "## 4. Load classes breakdown"
   ]
  },
  {
   "cell_type": "markdown",
   "metadata": {},
   "source": [
    "### 4.1 Point Torque"
   ]
  },
  {
   "cell_type": "code",
   "execution_count": null,
   "metadata": {},
   "outputs": [],
   "source": [
    "# defined using a force (technically a moment, however force is used to maintain consistenct for all load classes) and a coordinate. An anti-clockwise moment is positive by convention of this package.\n",
    "load_1 = PointTorque(force=1000, coord=1)\n",
    "load_2 = PointTorque(force=-1000, coord=2)\n",
    "\n",
    "# Plotting the loads\n",
    "beam = Beam(3)\n",
    "beam.add_loads(\n",
    "    load_1,\n",
    "    load_2\n",
    ")\n",
    "\n",
    "\n",
    "## plot the results for the beam\n",
    "fig_1 = beam.plot_beam_diagram()\n",
    "fig_1.show()"
   ]
  },
  {
   "cell_type": "markdown",
   "metadata": {},
   "source": [
    "### 4.2 Point Load"
   ]
  },
  {
   "cell_type": "code",
   "execution_count": null,
   "metadata": {},
   "outputs": [],
   "source": [
    "# defined by force, coord and angle (0)\n",
    "load_1 = PointLoad(force=1000, coord=1, angle=0)\n",
    "load_2 = PointLoad(force=1000, coord=2, angle=45)\n",
    "load_3 = PointLoad(force=1000, coord=3, angle=90)\n",
    "\n",
    "# Plotting the loads\n",
    "beam = Beam(4)\n",
    "beam.add_loads(\n",
    "    load_1,\n",
    "    load_2,\n",
    "    load_3\n",
    ")\n",
    "\n",
    "## plot the results for the beam\n",
    "fig_1 = beam.plot_beam_diagram()\n",
    "fig_1.show()"
   ]
  },
  {
   "cell_type": "markdown",
   "metadata": {},
   "source": [
    "### 4.3 Uniformly Distributed Load (UDL)"
   ]
  },
  {
   "cell_type": "code",
   "execution_count": null,
   "metadata": {},
   "outputs": [],
   "source": [
    "# defined by force, span (tuple with start and end point) \n",
    "# and angle of force\n",
    "load_1 = UDL(force=1000, span=(1,2), angle = 0)\n",
    "load_2 = UDL(force=1000, span=(3,4), angle = 45)\n",
    "load_3 = UDL(force=1000, span=(5,6), angle = 90)\n",
    "\n",
    "# Plotting the loads\n",
    "beam = Beam(7)\n",
    "beam.add_loads(\n",
    "    load_1,\n",
    "    load_2,\n",
    "    load_3\n",
    ")\n",
    "\n",
    "## plot the results for the beam\n",
    "fig_1 = beam.plot_beam_diagram()\n",
    "fig_1.show()"
   ]
  },
  {
   "cell_type": "markdown",
   "metadata": {},
   "source": [
    "### 4.4 Trapezoidal Load"
   ]
  },
  {
   "cell_type": "code",
   "execution_count": null,
   "metadata": {},
   "outputs": [],
   "source": [
    "# defined by force (tuple with start and end force), \n",
    "# span (tuple with start and end point) and angle of force\n",
    "load_1 = TrapezoidalLoad(force=(1000,2000), span=(1,2), angle = 0)\n",
    "load_2 = TrapezoidalLoad(force=(-1000,-2000), span=(3,4), angle = 45)\n",
    "load_3 = TrapezoidalLoad(force=(-1000,2000), span=(5,6), angle = 90)\n",
    "\n",
    "# Plotting the loads\n",
    "beam = Beam(7)\n",
    "beam.add_loads(\n",
    "    load_1,\n",
    "    load_2,\n",
    "    load_3\n",
    ")\n",
    "\n",
    "# plot the results for the beam\n",
    "fig_1 = beam.plot_beam_diagram()\n",
    "fig_1.show()"
   ]
  },
  {
   "cell_type": "markdown",
   "metadata": {},
   "source": [
    "### 4.5 Distributed Load"
   ]
  },
  {
   "cell_type": "code",
   "execution_count": null,
   "metadata": {},
   "outputs": [],
   "source": [
    "# defined with Sympy expression of the distributed load function \n",
    "# expressed using variable x which represents the beam x-coordinate. \n",
    "# Requires quotation marks around expression. As with the UDL and \n",
    "# Trapezoidal load classes other parameters to express are the span \n",
    "# (tuple with start and end point) and angle of force.\n",
    "# NOTE: where UDL or Trapezoidal load classes can be spefied (linear functions)\n",
    "# they should be used for quicker analysis times.\n",
    "\n",
    "load_1 = DistributedLoad(expr= \"2\", span=(1,2), angle = 0)\n",
    "load_2 = DistributedLoad(expr= \"2*(x-6)**2 -5\", span=(3,4), angle = 45)\n",
    "load_3 = DistributedLoad(expr= \"cos(5*x)\", span=(5,6), angle = 90)\n",
    "\n",
    "# Plotting the loads\n",
    "beam = Beam(7)\n",
    "beam.add_loads(\n",
    "    load_1,\n",
    "    load_2,\n",
    "    load_3\n",
    ")\n",
    "\n",
    "# plot the results for the beam\n",
    "fig_1 = beam.plot_beam_diagram()\n",
    "fig_1.show()"
   ]
  },
  {
   "cell_type": "markdown",
   "metadata": {},
   "source": [
    "### 4.6 Vertical and Horizontal Load Child Classes"
   ]
  },
  {
   "cell_type": "code",
   "execution_count": null,
   "metadata": {},
   "outputs": [],
   "source": [
    "# for all loads except the point torque an angle is specified for the\n",
    "# direction of the load. If the load to be specified is to be completely\n",
    "# vertical or completely horizontal a V (vertical) or a H (horizontal)\n",
    "# can be added at the end of the class name, and the angle does then\n",
    "# not need to be spefied.\n",
    "\n",
    "# The following two loads are equivalent horizontal loads\n",
    "load_1 = PointLoad(force=1000, coord=1, angle = 0)\n",
    "load_2 = PointLoadH(force=1000, coord=2)\n",
    "\n",
    "# The following two loads are equivalent vertical loads\n",
    "load_3 = PointLoad(force=1000, coord=3, angle = 90)\n",
    "load_4 = PointLoadV(force=1000, coord=4)\n",
    "\n",
    "# The following two loads are also equivalent (a negative sign\n",
    "# esentially changes the load direction by 180 degrees).\n",
    "load_5 = PointLoad(force=1000, coord=5, angle = 0)\n",
    "load_6 = PointLoad(force=-1000, coord=6, angle = 180)\n",
    "\n",
    "\n",
    "# Plotting the loads\n",
    "beam = Beam(7)\n",
    "beam.add_loads(\n",
    "    load_1,\n",
    "    load_2,\n",
    "    load_3,\n",
    "    load_4,\n",
    "    load_5,\n",
    "    load_6\n",
    ")\n",
    "\n",
    "# plot the results for the beam\n",
    "fig_1 = beam.plot_beam_diagram()\n",
    "fig_1.show()"
   ]
  },
  {
   "cell_type": "markdown",
   "metadata": {},
   "source": [
    "## 5. Statically Determinate Beam (Ex 12.14 Hibbeler)"
   ]
  },
  {
   "cell_type": "code",
   "execution_count": null,
   "metadata": {},
   "outputs": [],
   "source": [
    "# Statically Determinate beam (Ex 12.14 Hibbeler)\n",
    "# Determine the displacement at x = 8m for the following structure\n",
    "# 8 m long fixed at A (x = 0m)\n",
    "# A trapezoidal load of - 4000 N/m at x = 0 m descending to 0 N/m at x = 6 m.\n",
    "\n",
    "beam = Beam(8, E=1, I = 1)     ##EI Defined to be 1 get the deflection as a function of EI\n",
    "\n",
    "a = Support(0, (1,1,1))             ##explicitly stated although this is equivalent to Support() as the defaults are for a cantilever on the left of the beam.\n",
    "\n",
    "load_1 = TrapezoidalLoadV((-4000,0),(0,6))\n",
    "\n",
    "beam.add_supports(a)\n",
    "beam.add_loads(load_1)\n",
    "\n",
    "beam.analyse()\n",
    "\n",
    "print(f\"Deflection is {beam.get_deflection(8)} N.m3 / EI (N.m2)\")\n",
    "\n",
    "# plot the results for the beam\n",
    "fig_1 = beam.plot_beam_external()\n",
    "fig_1.show()\n",
    "\n",
    "fig_2 = beam.plot_beam_internal()\n",
    "fig_2.show()\n",
    "\n",
    "# save the results (optional)\n",
    "# Can save figure using ``fig.write_image(\"./results.pdf\")`` (can change extension to be\n",
    "# png, jpg, svg or other formats as reired). Requires pip install -U kaleido\n",
    "\n",
    "# fig_1.write_image(\"./example_plot_external.png\")\n",
    "# fig_2.write_image(\"./example_plot_internal.png\")"
   ]
  },
  {
   "cell_type": "markdown",
   "metadata": {},
   "source": [
    "## 6. Statically Indeterminate Beam (Ex 12.21 Hibbeler)"
   ]
  },
  {
   "cell_type": "code",
   "execution_count": null,
   "metadata": {},
   "outputs": [],
   "source": [
    "# Statically Indeterminate beam (Ex 12.21 Hibbeler)\n",
    "# Determine the reactions at the roller support B of the beam described below: \n",
    "# 3 m long, fixed at A (x = 0 m), roller support at B (x=3 m), \n",
    "# vertical point load at midpan of 8000 N, UDL of 6000 N/m, EI constant.\n",
    "\n",
    "beam = Beam(3)\n",
    "\n",
    "a = Support(0,(1,1,1))  \n",
    "b = Support(3,(0,1,0))\n",
    "\n",
    "load_1 = PointLoadV(-8000,1.5)\n",
    "load_2 = UDLV(-6000, (0,3))\n",
    "\n",
    "beam.add_supports(a,b)\n",
    "beam.add_loads(load_1,load_2)\n",
    "\n",
    "beam.analyse()\n",
    "\n",
    "print(f\"The beam has an absolute maximum shear force of: {beam.get_shear_force(return_absmax=True)} N\")\n",
    "print(f\"The beam has an absolute maximum bending moment of: {beam.get_bending_moment(return_absmax=True)} N.mm\")\n",
    "print(f\"The beam has a vertical reaction at B of: {beam.get_reaction(3,'y')} N\")\n",
    "\n",
    "# plot the results for the beam\n",
    "fig_1 = beam.plot_beam_external()\n",
    "fig_1.show()\n",
    "\n",
    "fig_2 = beam.plot_beam_internal()\n",
    "fig_2.show()\n",
    "\n",
    "# save the results (optional)\n",
    "# Can save figure using ``fig.write_image(\"./results.pdf\")`` (can change extension to be\n",
    "# png, jpg, svg or other formats as reired). Requires pip install -U kaleido\n",
    "\n",
    "# fig_1.write_image(\"./example_plot_external.png\")\n",
    "# fig_2.write_image(\"./example_plot_internal.png\")"
   ]
  },
  {
   "cell_type": "markdown",
   "metadata": {},
   "source": [
    "## 7. Spring Supported Beam (Ex 12.16 Hibbeler)"
   ]
  },
  {
   "cell_type": "code",
   "execution_count": null,
   "metadata": {},
   "outputs": [],
   "source": [
    "# Spring Supported beam (Ex 12.16 Hibbeler)\n",
    "# Determine the vertical displacement at x = 1 m for the beam detailed below:\n",
    "# 3 m long, spring of ky = 45 kN/m at A (x = 0 m) and B (x = 3 m), vertical point load at x = 1 m of 3000 N, E = 200 GPa, I = 4.6875*10**-6 m4.\n",
    "\n",
    "# when initializing beam we should specify E and I. Units should be expressed in MPa (N/mm2) for E, and mm4 for I\n",
    "beam = Beam(3, E=(200)*10**3, I=(4.6875*10**-6)*10**12)\n",
    "\n",
    "# creating supports, note that an x support must be specified even when there are no x forces. This will not affect the accuracy or reliability of results.\n",
    "# Also note that ky units are kN/m in the problem but must be in N/m for the program to work correctly.\n",
    "a = Support(0, (1,1,0), ky = 45000)   \n",
    "b = Support(3, (0,1,0), ky = 45000)\n",
    "\n",
    "load_1 = PointLoadV(-3000, 1)\n",
    "\n",
    "beam.add_supports(a,b)\n",
    "beam.add_loads(load_1)\n",
    "\n",
    "beam.analyse()\n",
    "\n",
    "beam.get_deflection(1)\n",
    "\n",
    "# plot the results for the beam\n",
    "fig_1 = beam.plot_beam_external()\n",
    "fig_1.show()\n",
    "\n",
    "fig_2 = beam.plot_beam_internal()\n",
    "fig_2.show()\n",
    "\n",
    "# save the results (optional)\n",
    "# Can save figure using ``fig.write_image(\"./results.pdf\")`` (can change extension to be\n",
    "# png, jpg, svg or other formats as reired). Requires pip install -U kaleido\n",
    "\n",
    "# fig_1.write_image(\"./example_plot_external.png\")\n",
    "# fig_2.write_image(\"./example_plot_internal.png\")\n",
    "\n",
    "##results in 38.46 mm deflection ~= 38.4mm specified in textbook (difference only due to their rounding)\n",
    "##can easily check reliability of answer by looking at deflection at the spring supports. Should equal F/k.\n",
    "## ie at support A (x = 0 m), the reaction force is 2kN by equilibrium, so our deflection is F/K = 2kn / 45*10-3 kN/mm = 44.4 mm (can be seen in plot)"
   ]
  },
  {
   "cell_type": "markdown",
   "metadata": {},
   "source": [
    "## 8. Axially Loaded Indeterminate Beam (Ex 4.13 Hibbeler)"
   ]
  },
  {
   "cell_type": "code",
   "execution_count": null,
   "metadata": {},
   "outputs": [],
   "source": [
    "##AXIAL LOADED INDETERMINATE BEAM (Ex 4.13 Hibbeler)\n",
    "## A rod with constant EA has a force of 60kN applied at x = 0.1 m, and the beam has fixed supports at x=0, and x =0.4 m. Determine the reaction forces.\n",
    "\n",
    "beam = Beam(0.4)\n",
    "\n",
    "a = Support()\n",
    "b = Support(0.4)\n",
    "\n",
    "load_1 = PointLoadH(-60000, 0.1)\n",
    "\n",
    "beam.add_supports(a,b)\n",
    "beam.add_loads(load_1)\n",
    "\n",
    "beam.analyse()\n",
    "\n",
    "# plot the results for the beam\n",
    "fig_1 = beam.plot_beam_external()\n",
    "fig_1.show()\n",
    "\n",
    "fig_2 = beam.plot_beam_internal()\n",
    "fig_2.show()\n",
    "\n",
    "# save the results (optional)\n",
    "# Can save figure using ``fig.write_image(\"./results.pdf\")`` (can change extension to be\n",
    "# png, jpg, svg or other formats as reired). Requires pip install -U kaleido\n",
    "\n",
    "# fig_1.write_image(\"./example_plot_external.png\")\n",
    "# fig_2.write_image(\"./example_plot_internal.png\")\n"
   ]
  },
  {
   "cell_type": "code",
   "execution_count": null,
   "metadata": {},
   "outputs": [],
   "source": []
  }
 ],
 "metadata": {
  "kernelspec": {
   "display_name": "Python 3",
   "language": "python",
   "name": "python3"
  },
  "language_info": {
   "codemirror_mode": {
    "name": "ipython",
    "version": 3
   },
   "file_extension": ".py",
   "mimetype": "text/x-python",
   "name": "python",
   "nbconvert_exporter": "python",
   "pygments_lexer": "ipython3",
   "version": "3.12.4"
  },
  "toc": {
   "base_numbering": 1,
   "nav_menu": {},
   "number_sections": true,
   "sideBar": true,
   "skip_h1_title": false,
   "title_cell": "Table of Contents",
   "title_sidebar": "Contents",
   "toc_cell": false,
   "toc_position": {},
   "toc_section_display": true,
   "toc_window_display": false
  },
  "varInspector": {
   "cols": {
    "lenName": 16,
    "lenType": 16,
    "lenVar": 40
   },
   "kernels_config": {
    "python": {
     "delete_cmd_postfix": "",
     "delete_cmd_prefix": "del ",
     "library": "var_list.py",
     "varRefreshCmd": "print(var_dic_list())"
    },
    "r": {
     "delete_cmd_postfix": ") ",
     "delete_cmd_prefix": "rm(",
     "library": "var_list.r",
     "varRefreshCmd": "cat(var_dic_list()) "
    }
   },
   "types_to_exclude": [
    "module",
    "function",
    "builtin_function_or_method",
    "instance",
    "_Feature"
   ],
   "window_display": false
  }
 },
 "nbformat": 4,
 "nbformat_minor": 2
}
