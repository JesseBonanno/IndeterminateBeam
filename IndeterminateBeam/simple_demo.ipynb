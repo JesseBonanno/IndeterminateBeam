{
 "cells": [
  {
   "source": [
    "### Beam bending calculator\n",
    "\n",
    "- Currently can solve indeterminate and determinate structures\n",
    "- Doesnt consider any interaction between axial and bending\n",
    "- Doesnt determine axial deformations\n",
    "- Only solves for 1D structures under 2D loading\n",
    "- Future work:\n",
    "    - segmental EI along Beam\n",
    "    - printing results in latex / pdf\n",
    "    - Properly implement Distibuted Load H"
   ],
   "cell_type": "markdown",
   "metadata": {
    "ExecuteTime": {
     "end_time": "2018-08-02T13:35:01.752519Z",
     "start_time": "2018-08-02T13:35:01.747883Z"
    }
   }
  },
  {
   "cell_type": "code",
   "execution_count": null,
   "metadata": {},
   "outputs": [],
   "source": [
    "##RUN THIS CELL FIRST TO INITIALISE THE NOTEBOOK!!!!\n",
    "!pip install indeterminatebeam\n",
    "%matplotlib inline\n",
    "from indeterminatebeam import Beam, Support, DistributedLoadH, DistributedLoadV, PointLoadH, PointLoadV, PointTorque, PointLoad\n"
   ]
  },
  {
   "cell_type": "code",
   "execution_count": null,
   "metadata": {
    "ExecuteTime": {
     "end_time": "2019-05-08T12:22:38.894727Z",
     "start_time": "2019-05-08T12:22:37.765381Z"
    }
   },
   "outputs": [],
   "source": [
    "##intialise a beam object\n",
    "beam_1 = Beam(5)                   ##intialises a 5m long beam (assuming E = 2*10**5 MPa, I = 6*10**7 mm4 )\n",
    "beam_2 = Beam(5, E=1000, I=1000)   ##intialises a 5m long beam assigning E and I.\n",
    "\n",
    "##create support objects\n",
    "a = Support(0,(1,1,1))      ##defines a fixed support at point 0m point\n",
    "b = Support(2,(0,1,0))      ##defines a roller support restaint only in the y direction at 2m point\n",
    "c = Support(5,(1,1,0))      ##defines pinned support at 5m point\n",
    "\n",
    "##add supports to beam object\n",
    "beam_1.add_supports(a,b,c)        ##create a statically indeterminate beam\n",
    "beam_2.add_supports(a,b,c)        ##intially create as a statically indeterminate beam\n",
    "beam_2.remove_supports(a)         ##remove support a to make beam statically determinate\n",
    "\n",
    "##create load objects\n",
    "load_1 = PointLoad(1,3,45)            ##create a point load of force 1kn acting at 3m point on beam, inclined at \n",
    "                                      ##45 degrees to horizontal. Positive indicates\n",
    "load_2 = DistributedLoadV(2,(0,1))    ##create a 2KN/m UDL from 0m to 1m point\n",
    "load_3 = PointTorque(3,4)             ##assign a point torque of 3kN.m at 4m point\n",
    "\n",
    "##add load objects to beams\n",
    "beam_1.add_loads(load_1,)                    ##add load_1 object to beam 1\n",
    "beam_1.add_loads(load_2,load_3)              ##add load_2 and load_3 object to beam 1\n",
    "beam_2.add_loads(load_1, load_2, load_3)     ##add load_1, load_2, load_3 object to beam 2\n",
    "beam_2.remove_loads(load_2)                  ##remove load 2 object from beam 2\n",
    "\n",
    "##compute solutions for beams\n",
    "beam_1.analyse()                             ##now that beam is all set up can solve for external and internal forces\n",
    "beam_2.analyse()                                \n"
   ]
  },
  {
   "cell_type": "code",
   "execution_count": null,
   "metadata": {},
   "outputs": [],
   "source": [
    "##get determinancy of beams\n",
    "det_1 = beam_1.check_determinancy()\n",
    "det_2 = beam_2.check_determinancy()\n",
    "print(\"The Beam determinancy is below\")\n",
    "print(f\"beam_1 has a determinancy: {det_1}\")\n",
    "print(f\"beam_2 has a determinancy: {det_2}\")"
   ]
  },
  {
   "cell_type": "code",
   "execution_count": null,
   "metadata": {},
   "outputs": [],
   "source": [
    "#get info on the supports for a beam\n",
    "beam_1.get_support_details()"
   ]
  },
  {
   "cell_type": "code",
   "execution_count": null,
   "metadata": {},
   "outputs": [],
   "source": [
    "##query for the data at a specfic point\n",
    "print(\"bending moments at 3m: \" + str(beam_1.get_bending_moment(3)))\n",
    "print(\"shear forces at 1,2,3,4,5m points: \" + str(beam_1.get_shear_force(1,2,3,4,5)))\n",
    "print(\"normal force absolute max: \" + str(beam_1.get_normal_force(return_absmax=True)))\n",
    "print(\"deflection max: \" + str(beam_1.get_deflection(return_max = True)))\n",
    "\n",
    "##add a query point to a plot (adds values on plot)\n",
    "beam_1.add_query_points(3)\n"
   ]
  },
  {
   "source": [
    "## plot the results for the beam and save them as a pdf\n",
    "print(\"Beam 1:\\n\\n\")\n",
    "fig_1 = beam_1.plot()\n",
    "print(\"\\n\\nBeam 2:\\n\\n\")\n",
    "fig_2 = beam_2.plot()\n",
    "\n",
    "##save the results as a pdf (optional)\n",
    "#fig.savefig(\"./results.pdf\")\n"
   ],
   "cell_type": "code",
   "metadata": {},
   "execution_count": null,
   "outputs": []
  },
  {
   "cell_type": "code",
   "execution_count": null,
   "metadata": {},
   "outputs": [],
   "source": [
    "##example 4.17 https://engineering.purdue.edu/~ce474/Docs/Beam_Examples02.pdf\n",
    "#!pip install indeterminatebeam\n",
    "%matplotlib inline\n",
    "from indeterminatebeam import Beam, Support, DistributedLoadH, DistributedLoadV, PointLoadH, PointLoadV, PointTorque, PointLoad\n",
    "\n",
    "beam = Beam(6)\n",
    "\n",
    "a = Support()\n",
    "c = Support(6,(0,1,0))\n",
    "\n",
    "beam.add_supports(a,c)\n",
    "beam.add_loads(PointLoadV(-15,3))\n",
    "\n",
    "beam.analyse()\n",
    "\n",
    "print(beam.check_determinancy())\n",
    "print(beam.get_shear_force(return_absmax=True))\n",
    "print(beam.get_bending_moment(return_absmax=True))\n",
    "\n",
    "fig = beam.plot()\n",
    "#fig.savefig(\"./example_1.png\")"
   ]
  },
  {
   "cell_type": "code",
   "execution_count": null,
   "metadata": {},
   "outputs": [],
   "source": [
    "##EXAMPLE 4.27 https://engineering.purdue.edu/~ce474/Docs/Beam_Examples02.pdf, doesnt align with their calculations but aligns with other beam calculators.\n",
    "!pip install indeterminatebeam\n",
    "%matplotlib inline\n",
    "from indeterminatebeam import Beam, Support, DistributedLoadH, DistributedLoadV, PointLoadH, PointLoadV, PointTorque, PointLoad\n",
    "\n",
    "beam = Beam(18)\n",
    "\n",
    "a = Support(0,(1,1,0))\n",
    "c = Support(7,(0,1,0))\n",
    "f = Support(18,(0,1,0))\n",
    "\n",
    "b = PointLoadV(-10, 3)\n",
    "d = PointLoadV(-8, 10)\n",
    "e = PointLoadV(-6, 15)\n",
    "\n",
    "ac = DistributedLoadV(-12, (0,7))\n",
    "\n",
    "beam.add_supports(a,c,f)\n",
    "beam.add_loads(b,d,e,ac)\n",
    "beam.analyse()\n",
    "beam.plot()"
   ]
  },
  {
   "cell_type": "code",
   "execution_count": null,
   "metadata": {},
   "outputs": [],
   "source": [
    "##arbritrary example defined in README.md\n",
    "from indeterminatebeam import Beam, Support, PointLoadV, PointTorque, DistributedLoadV\n",
    "beam = Beam(7)                          # Initialize a Beam object of length 9m with E and I as defaults\n",
    "beam_2 = Beam(9,E=2000, I =100000) \n",
    "\n",
    "a = Support(5,(1,1,0))                  # Defines a pin support at location x = 5m  \n",
    "b = Support(0,(0,1,0))                  # Defines a roller support at location x = 0m\n",
    "c = Support(7,(1,1,1))\n",
    "beam.add_supports(a,b,c)    \n",
    "\n",
    "load_1 = PointLoadV(1,2)                 # Defines a point load of 1kn acting up, at location x = 2m\n",
    "load_2 = DistributedLoadV(2,(1,4))      # Defines a 2kN UDL from location x = 1m to x = 4m \n",
    "load_3 = PointTorque(2, 3.5)            # Defines a 2kN.m point torque at location x = 3.5m\n",
    "beam.add_loads(load_1,load_2,load_3)    # Assign the support objects to a beam object created earlier\n",
    "\n",
    "beam.analyse()                        \n",
    "\n",
    "fig = beam.plot()\n",
    "#fig.savefig(\"./readme_example.png\")"
   ]
  },
  {
   "cell_type": "markdown",
   "metadata": {},
   "source": [
    "You can now go back up and continue to play around choosing different loads, beam lengths and placement of the beam supports.\n",
    "Add as many loads as you want to the list.\n",
    "\n",
    "After you have made some changes, run the code cell again to calculate your new results.\n",
    "\n",
    "When you are comfortable with that, check what happens if you try more interesting expressions for the distributed loads, for example:\n",
    "\n",
    "```python\n",
    "DistributedLoadV(\"2 * x**2 + cos(5)\", (0, 3))\n",
    "```\n",
    "By the way, a double asterisk is how you write a power in Python: ```\"2 * x**2 + cos(5)\"``` means $2x^2 + \\cos(5)$\n",
    "\n",
    "**Note:** you can also try to include trigonometric functions, but in this case the whole mathematical expression __must be surrounded by quotation marks__, just as in the example above.\n",
    "\n",
    "More examples have been included below."
   ]
  },
  {
   "cell_type": "code",
   "execution_count": 1,
   "metadata": {},
   "outputs": [
    {
     "output_type": "error",
     "ename": "SyntaxError",
     "evalue": "invalid syntax (indeterminatebeam.py, line 185)",
     "traceback": [
      "Traceback \u001b[1;36m(most recent call last)\u001b[0m:\n",
      "  File \u001b[0;32m\"C:\\Users\\jesse\\AppData\\Local\\Programs\\Python\\Python37\\lib\\site-packages\\IPython\\core\\interactiveshell.py\"\u001b[0m, line \u001b[0;32m3343\u001b[0m, in \u001b[0;35mrun_code\u001b[0m\n    exec(code_obj, self.user_global_ns, self.user_ns)\n",
      "\u001b[1;36m  File \u001b[1;32m\"<ipython-input-1-358a891e199c>\"\u001b[1;36m, line \u001b[1;32m2\u001b[1;36m, in \u001b[1;35m<module>\u001b[1;36m\u001b[0m\n\u001b[1;33m    from indeterminatebeam import Beam, Support, PointLoadV, PointTorque, DistributedLoadV, DistributedLoadH, TrapezoidalLoad\u001b[0m\n",
      "\u001b[1;36m  File \u001b[1;32m\"c:\\Users\\jesse\\Dropbox\\python\\Indeterminate Beam\\IndeterminateBeam\\IndeterminateBeam-master\\indeterminatebeam\\indeterminatebeam.py\"\u001b[1;36m, line \u001b[1;32m185\u001b[0m\n\u001b[1;33m    def TrapezoidalLoad((start_load, end_load), (start_coordinate, end_coordinate)):\u001b[0m\n\u001b[1;37m                        ^\u001b[0m\n\u001b[1;31mSyntaxError\u001b[0m\u001b[1;31m:\u001b[0m invalid syntax\n"
     ]
    }
   ],
   "source": [
    "### test for trapezoidal load, and dlh\n",
    "from indeterminatebeam import Beam, Support, PointLoadV, PointTorque, DistributedLoadV, DistributedLoadH, TrapezoidalLoad\n",
    "\n"
   ]
  },
  {
   "cell_type": "code",
   "execution_count": null,
   "metadata": {},
   "outputs": [],
   "source": [
    "##Test what happens when put in weird values\n"
   ]
  }
 ],
 "metadata": {
  "kernelspec": {
   "display_name": "Python 3",
   "language": "python",
   "name": "python3"
  },
  "language_info": {
   "codemirror_mode": {
    "name": "ipython",
    "version": 3
   },
   "file_extension": ".py",
   "mimetype": "text/x-python",
   "name": "python",
   "nbconvert_exporter": "python",
   "pygments_lexer": "ipython3",
   "version": "3.7.3-final"
  },
  "toc": {
   "base_numbering": 1,
   "nav_menu": {},
   "number_sections": true,
   "sideBar": true,
   "skip_h1_title": false,
   "title_cell": "Table of Contents",
   "title_sidebar": "Contents",
   "toc_cell": false,
   "toc_position": {},
   "toc_section_display": true,
   "toc_window_display": false
  },
  "varInspector": {
   "cols": {
    "lenName": 16,
    "lenType": 16,
    "lenVar": 40
   },
   "kernels_config": {
    "python": {
     "delete_cmd_postfix": "",
     "delete_cmd_prefix": "del ",
     "library": "var_list.py",
     "varRefreshCmd": "print(var_dic_list())"
    },
    "r": {
     "delete_cmd_postfix": ") ",
     "delete_cmd_prefix": "rm(",
     "library": "var_list.r",
     "varRefreshCmd": "cat(var_dic_list()) "
    }
   },
   "types_to_exclude": [
    "module",
    "function",
    "builtin_function_or_method",
    "instance",
    "_Feature"
   ],
   "window_display": false
  }
 },
 "nbformat": 4,
 "nbformat_minor": 2
}